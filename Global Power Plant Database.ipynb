{
 "cells": [
  {
   "cell_type": "markdown",
   "id": "650d8ee0",
   "metadata": {},
   "source": [
    "## Global Power Plant Database\n",
    "### Problem Statement:\n",
    "#### Description\n",
    "\n",
    "The Global Power Plant Database is a comprehensive, open source database of power plants around the world. It centralizes power plant data to make it easier to navigate, compare and draw insights for one’s own analysis. The database covers approximately 35,000 power plants from 167 countries and includes thermal plants (e.g. coal, gas, oil, nuclear, biomass, waste, geothermal) and renewables (e.g. hydro, wind, solar). Each power plant is geolocated and entries contain information on plant capacity, generation, ownership, and fuel type. It will be continuously updated as data becomes available.\n",
    "\n",
    "\n",
    "#### Import Necessary Laibraries"
   ]
  },
  {
   "cell_type": "code",
   "execution_count": 285,
   "id": "d63af813",
   "metadata": {},
   "outputs": [],
   "source": [
    "import numpy as np\n",
    "import pandas as pd\n",
    "import matplotlib.pyplot as plt\n",
    "import seaborn as sn\n",
    "from sklearn.metrics import r2_score\n",
    "from sklearn.metrics import mean_absolute_error\n",
    "from sklearn.metrics import mean_squared_error\n",
    "from sklearn.model_selection import cross_val_score\n",
    "from sklearn.metrics import classification_report\n",
    "from sklearn.metrics import confusion_matrix\n",
    "from sklearn.metrics import accuracy_score\n",
    "from sklearn.metrics import roc_curve,f1_score,roc_auc_score\n",
    "import warnings\n",
    "warnings.filterwarnings('ignore')"
   ]
  },
  {
   "cell_type": "markdown",
   "id": "1ef89372",
   "metadata": {},
   "source": [
    "#### Loading Database\n"
   ]
  },
  {
   "cell_type": "code",
   "execution_count": 290,
   "id": "79edf172",
   "metadata": {},
   "outputs": [
    {
     "data": {
      "text/html": [
       "<div>\n",
       "<style scoped>\n",
       "    .dataframe tbody tr th:only-of-type {\n",
       "        vertical-align: middle;\n",
       "    }\n",
       "\n",
       "    .dataframe tbody tr th {\n",
       "        vertical-align: top;\n",
       "    }\n",
       "\n",
       "    .dataframe thead th {\n",
       "        text-align: right;\n",
       "    }\n",
       "</style>\n",
       "<table border=\"1\" class=\"dataframe\">\n",
       "  <thead>\n",
       "    <tr style=\"text-align: right;\">\n",
       "      <th></th>\n",
       "      <th>country</th>\n",
       "      <th>country_long</th>\n",
       "      <th>name</th>\n",
       "      <th>gppd_idnr</th>\n",
       "      <th>capacity_mw</th>\n",
       "      <th>latitude</th>\n",
       "      <th>longitude</th>\n",
       "      <th>primary_fuel</th>\n",
       "      <th>other_fuel1</th>\n",
       "      <th>other_fuel2</th>\n",
       "      <th>...</th>\n",
       "      <th>year_of_capacity_data</th>\n",
       "      <th>generation_gwh_2013</th>\n",
       "      <th>generation_gwh_2014</th>\n",
       "      <th>generation_gwh_2015</th>\n",
       "      <th>generation_gwh_2016</th>\n",
       "      <th>generation_gwh_2017</th>\n",
       "      <th>generation_gwh_2018</th>\n",
       "      <th>generation_gwh_2019</th>\n",
       "      <th>generation_data_source</th>\n",
       "      <th>estimated_generation_gwh</th>\n",
       "    </tr>\n",
       "  </thead>\n",
       "  <tbody>\n",
       "    <tr>\n",
       "      <th>0</th>\n",
       "      <td>IND</td>\n",
       "      <td>India</td>\n",
       "      <td>ACME Solar Tower</td>\n",
       "      <td>WRI1020239</td>\n",
       "      <td>2.5</td>\n",
       "      <td>28.1839</td>\n",
       "      <td>73.2407</td>\n",
       "      <td>Solar</td>\n",
       "      <td>NaN</td>\n",
       "      <td>NaN</td>\n",
       "      <td>...</td>\n",
       "      <td>NaN</td>\n",
       "      <td>NaN</td>\n",
       "      <td>NaN</td>\n",
       "      <td>NaN</td>\n",
       "      <td>NaN</td>\n",
       "      <td>NaN</td>\n",
       "      <td>NaN</td>\n",
       "      <td>NaN</td>\n",
       "      <td>NaN</td>\n",
       "      <td>NaN</td>\n",
       "    </tr>\n",
       "    <tr>\n",
       "      <th>1</th>\n",
       "      <td>IND</td>\n",
       "      <td>India</td>\n",
       "      <td>ADITYA CEMENT WORKS</td>\n",
       "      <td>WRI1019881</td>\n",
       "      <td>98.0</td>\n",
       "      <td>24.7663</td>\n",
       "      <td>74.6090</td>\n",
       "      <td>Coal</td>\n",
       "      <td>NaN</td>\n",
       "      <td>NaN</td>\n",
       "      <td>...</td>\n",
       "      <td>NaN</td>\n",
       "      <td>NaN</td>\n",
       "      <td>NaN</td>\n",
       "      <td>NaN</td>\n",
       "      <td>NaN</td>\n",
       "      <td>NaN</td>\n",
       "      <td>NaN</td>\n",
       "      <td>NaN</td>\n",
       "      <td>NaN</td>\n",
       "      <td>NaN</td>\n",
       "    </tr>\n",
       "    <tr>\n",
       "      <th>2</th>\n",
       "      <td>IND</td>\n",
       "      <td>India</td>\n",
       "      <td>AES Saurashtra Windfarms</td>\n",
       "      <td>WRI1026669</td>\n",
       "      <td>39.2</td>\n",
       "      <td>21.9038</td>\n",
       "      <td>69.3732</td>\n",
       "      <td>Wind</td>\n",
       "      <td>NaN</td>\n",
       "      <td>NaN</td>\n",
       "      <td>...</td>\n",
       "      <td>NaN</td>\n",
       "      <td>NaN</td>\n",
       "      <td>NaN</td>\n",
       "      <td>NaN</td>\n",
       "      <td>NaN</td>\n",
       "      <td>NaN</td>\n",
       "      <td>NaN</td>\n",
       "      <td>NaN</td>\n",
       "      <td>NaN</td>\n",
       "      <td>NaN</td>\n",
       "    </tr>\n",
       "    <tr>\n",
       "      <th>3</th>\n",
       "      <td>IND</td>\n",
       "      <td>India</td>\n",
       "      <td>AGARTALA GT</td>\n",
       "      <td>IND0000001</td>\n",
       "      <td>135.0</td>\n",
       "      <td>23.8712</td>\n",
       "      <td>91.3602</td>\n",
       "      <td>Gas</td>\n",
       "      <td>NaN</td>\n",
       "      <td>NaN</td>\n",
       "      <td>...</td>\n",
       "      <td>2019.0</td>\n",
       "      <td>NaN</td>\n",
       "      <td>617.789264</td>\n",
       "      <td>843.747000</td>\n",
       "      <td>886.004428</td>\n",
       "      <td>663.774500</td>\n",
       "      <td>626.239128</td>\n",
       "      <td>NaN</td>\n",
       "      <td>Central Electricity Authority</td>\n",
       "      <td>NaN</td>\n",
       "    </tr>\n",
       "    <tr>\n",
       "      <th>4</th>\n",
       "      <td>IND</td>\n",
       "      <td>India</td>\n",
       "      <td>AKALTARA TPP</td>\n",
       "      <td>IND0000002</td>\n",
       "      <td>1800.0</td>\n",
       "      <td>21.9603</td>\n",
       "      <td>82.4091</td>\n",
       "      <td>Coal</td>\n",
       "      <td>Oil</td>\n",
       "      <td>NaN</td>\n",
       "      <td>...</td>\n",
       "      <td>2019.0</td>\n",
       "      <td>NaN</td>\n",
       "      <td>3035.550000</td>\n",
       "      <td>5916.370000</td>\n",
       "      <td>6243.000000</td>\n",
       "      <td>5385.579736</td>\n",
       "      <td>7279.000000</td>\n",
       "      <td>NaN</td>\n",
       "      <td>Central Electricity Authority</td>\n",
       "      <td>NaN</td>\n",
       "    </tr>\n",
       "    <tr>\n",
       "      <th>...</th>\n",
       "      <td>...</td>\n",
       "      <td>...</td>\n",
       "      <td>...</td>\n",
       "      <td>...</td>\n",
       "      <td>...</td>\n",
       "      <td>...</td>\n",
       "      <td>...</td>\n",
       "      <td>...</td>\n",
       "      <td>...</td>\n",
       "      <td>...</td>\n",
       "      <td>...</td>\n",
       "      <td>...</td>\n",
       "      <td>...</td>\n",
       "      <td>...</td>\n",
       "      <td>...</td>\n",
       "      <td>...</td>\n",
       "      <td>...</td>\n",
       "      <td>...</td>\n",
       "      <td>...</td>\n",
       "      <td>...</td>\n",
       "      <td>...</td>\n",
       "    </tr>\n",
       "    <tr>\n",
       "      <th>902</th>\n",
       "      <td>IND</td>\n",
       "      <td>India</td>\n",
       "      <td>YERMARUS TPP</td>\n",
       "      <td>IND0000513</td>\n",
       "      <td>1600.0</td>\n",
       "      <td>16.2949</td>\n",
       "      <td>77.3568</td>\n",
       "      <td>Coal</td>\n",
       "      <td>Oil</td>\n",
       "      <td>NaN</td>\n",
       "      <td>...</td>\n",
       "      <td>2019.0</td>\n",
       "      <td>NaN</td>\n",
       "      <td>NaN</td>\n",
       "      <td>0.994875</td>\n",
       "      <td>233.596650</td>\n",
       "      <td>865.400000</td>\n",
       "      <td>686.500000</td>\n",
       "      <td>NaN</td>\n",
       "      <td>Central Electricity Authority</td>\n",
       "      <td>NaN</td>\n",
       "    </tr>\n",
       "    <tr>\n",
       "      <th>903</th>\n",
       "      <td>IND</td>\n",
       "      <td>India</td>\n",
       "      <td>Yelesandra Solar Power Plant</td>\n",
       "      <td>WRI1026222</td>\n",
       "      <td>3.0</td>\n",
       "      <td>12.8932</td>\n",
       "      <td>78.1654</td>\n",
       "      <td>Solar</td>\n",
       "      <td>NaN</td>\n",
       "      <td>NaN</td>\n",
       "      <td>...</td>\n",
       "      <td>NaN</td>\n",
       "      <td>NaN</td>\n",
       "      <td>NaN</td>\n",
       "      <td>NaN</td>\n",
       "      <td>NaN</td>\n",
       "      <td>NaN</td>\n",
       "      <td>NaN</td>\n",
       "      <td>NaN</td>\n",
       "      <td>NaN</td>\n",
       "      <td>NaN</td>\n",
       "    </tr>\n",
       "    <tr>\n",
       "      <th>904</th>\n",
       "      <td>IND</td>\n",
       "      <td>India</td>\n",
       "      <td>Yelisirur wind power project</td>\n",
       "      <td>WRI1026776</td>\n",
       "      <td>25.5</td>\n",
       "      <td>15.2758</td>\n",
       "      <td>75.5811</td>\n",
       "      <td>Wind</td>\n",
       "      <td>NaN</td>\n",
       "      <td>NaN</td>\n",
       "      <td>...</td>\n",
       "      <td>NaN</td>\n",
       "      <td>NaN</td>\n",
       "      <td>NaN</td>\n",
       "      <td>NaN</td>\n",
       "      <td>NaN</td>\n",
       "      <td>NaN</td>\n",
       "      <td>NaN</td>\n",
       "      <td>NaN</td>\n",
       "      <td>NaN</td>\n",
       "      <td>NaN</td>\n",
       "    </tr>\n",
       "    <tr>\n",
       "      <th>905</th>\n",
       "      <td>IND</td>\n",
       "      <td>India</td>\n",
       "      <td>ZAWAR MINES</td>\n",
       "      <td>WRI1019901</td>\n",
       "      <td>80.0</td>\n",
       "      <td>24.3500</td>\n",
       "      <td>73.7477</td>\n",
       "      <td>Coal</td>\n",
       "      <td>NaN</td>\n",
       "      <td>NaN</td>\n",
       "      <td>...</td>\n",
       "      <td>NaN</td>\n",
       "      <td>NaN</td>\n",
       "      <td>NaN</td>\n",
       "      <td>NaN</td>\n",
       "      <td>NaN</td>\n",
       "      <td>NaN</td>\n",
       "      <td>NaN</td>\n",
       "      <td>NaN</td>\n",
       "      <td>NaN</td>\n",
       "      <td>NaN</td>\n",
       "    </tr>\n",
       "    <tr>\n",
       "      <th>906</th>\n",
       "      <td>IND</td>\n",
       "      <td>India</td>\n",
       "      <td>iEnergy Theni Wind Farm</td>\n",
       "      <td>WRI1026761</td>\n",
       "      <td>16.5</td>\n",
       "      <td>9.9344</td>\n",
       "      <td>77.4768</td>\n",
       "      <td>Wind</td>\n",
       "      <td>NaN</td>\n",
       "      <td>NaN</td>\n",
       "      <td>...</td>\n",
       "      <td>NaN</td>\n",
       "      <td>NaN</td>\n",
       "      <td>NaN</td>\n",
       "      <td>NaN</td>\n",
       "      <td>NaN</td>\n",
       "      <td>NaN</td>\n",
       "      <td>NaN</td>\n",
       "      <td>NaN</td>\n",
       "      <td>NaN</td>\n",
       "      <td>NaN</td>\n",
       "    </tr>\n",
       "  </tbody>\n",
       "</table>\n",
       "<p>907 rows × 27 columns</p>\n",
       "</div>"
      ],
      "text/plain": [
       "    country country_long                          name   gppd_idnr  \\\n",
       "0       IND        India              ACME Solar Tower  WRI1020239   \n",
       "1       IND        India           ADITYA CEMENT WORKS  WRI1019881   \n",
       "2       IND        India      AES Saurashtra Windfarms  WRI1026669   \n",
       "3       IND        India                   AGARTALA GT  IND0000001   \n",
       "4       IND        India                  AKALTARA TPP  IND0000002   \n",
       "..      ...          ...                           ...         ...   \n",
       "902     IND        India                  YERMARUS TPP  IND0000513   \n",
       "903     IND        India  Yelesandra Solar Power Plant  WRI1026222   \n",
       "904     IND        India  Yelisirur wind power project  WRI1026776   \n",
       "905     IND        India                   ZAWAR MINES  WRI1019901   \n",
       "906     IND        India       iEnergy Theni Wind Farm  WRI1026761   \n",
       "\n",
       "     capacity_mw  latitude  longitude primary_fuel other_fuel1 other_fuel2  \\\n",
       "0            2.5   28.1839    73.2407        Solar         NaN         NaN   \n",
       "1           98.0   24.7663    74.6090         Coal         NaN         NaN   \n",
       "2           39.2   21.9038    69.3732         Wind         NaN         NaN   \n",
       "3          135.0   23.8712    91.3602          Gas         NaN         NaN   \n",
       "4         1800.0   21.9603    82.4091         Coal         Oil         NaN   \n",
       "..           ...       ...        ...          ...         ...         ...   \n",
       "902       1600.0   16.2949    77.3568         Coal         Oil         NaN   \n",
       "903          3.0   12.8932    78.1654        Solar         NaN         NaN   \n",
       "904         25.5   15.2758    75.5811         Wind         NaN         NaN   \n",
       "905         80.0   24.3500    73.7477         Coal         NaN         NaN   \n",
       "906         16.5    9.9344    77.4768         Wind         NaN         NaN   \n",
       "\n",
       "     ...  year_of_capacity_data  generation_gwh_2013 generation_gwh_2014  \\\n",
       "0    ...                    NaN                  NaN                 NaN   \n",
       "1    ...                    NaN                  NaN                 NaN   \n",
       "2    ...                    NaN                  NaN                 NaN   \n",
       "3    ...                 2019.0                  NaN          617.789264   \n",
       "4    ...                 2019.0                  NaN         3035.550000   \n",
       "..   ...                    ...                  ...                 ...   \n",
       "902  ...                 2019.0                  NaN                 NaN   \n",
       "903  ...                    NaN                  NaN                 NaN   \n",
       "904  ...                    NaN                  NaN                 NaN   \n",
       "905  ...                    NaN                  NaN                 NaN   \n",
       "906  ...                    NaN                  NaN                 NaN   \n",
       "\n",
       "    generation_gwh_2015 generation_gwh_2016 generation_gwh_2017  \\\n",
       "0                   NaN                 NaN                 NaN   \n",
       "1                   NaN                 NaN                 NaN   \n",
       "2                   NaN                 NaN                 NaN   \n",
       "3            843.747000          886.004428          663.774500   \n",
       "4           5916.370000         6243.000000         5385.579736   \n",
       "..                  ...                 ...                 ...   \n",
       "902            0.994875          233.596650          865.400000   \n",
       "903                 NaN                 NaN                 NaN   \n",
       "904                 NaN                 NaN                 NaN   \n",
       "905                 NaN                 NaN                 NaN   \n",
       "906                 NaN                 NaN                 NaN   \n",
       "\n",
       "     generation_gwh_2018  generation_gwh_2019         generation_data_source  \\\n",
       "0                    NaN                  NaN                            NaN   \n",
       "1                    NaN                  NaN                            NaN   \n",
       "2                    NaN                  NaN                            NaN   \n",
       "3             626.239128                  NaN  Central Electricity Authority   \n",
       "4            7279.000000                  NaN  Central Electricity Authority   \n",
       "..                   ...                  ...                            ...   \n",
       "902           686.500000                  NaN  Central Electricity Authority   \n",
       "903                  NaN                  NaN                            NaN   \n",
       "904                  NaN                  NaN                            NaN   \n",
       "905                  NaN                  NaN                            NaN   \n",
       "906                  NaN                  NaN                            NaN   \n",
       "\n",
       "     estimated_generation_gwh  \n",
       "0                         NaN  \n",
       "1                         NaN  \n",
       "2                         NaN  \n",
       "3                         NaN  \n",
       "4                         NaN  \n",
       "..                        ...  \n",
       "902                       NaN  \n",
       "903                       NaN  \n",
       "904                       NaN  \n",
       "905                       NaN  \n",
       "906                       NaN  \n",
       "\n",
       "[907 rows x 27 columns]"
      ]
     },
     "execution_count": 290,
     "metadata": {},
     "output_type": "execute_result"
    }
   ],
   "source": [
    "df=pd.read_csv('https://raw.githubusercontent.com/wri/global-power-plant-database/master/source_databases_csv/database_IND.csv')\n",
    "df"
   ]
  },
  {
   "cell_type": "code",
   "execution_count": 291,
   "id": "d319a7fa",
   "metadata": {},
   "outputs": [
    {
     "data": {
      "text/plain": [
       "(907, 27)"
      ]
     },
     "execution_count": 291,
     "metadata": {},
     "output_type": "execute_result"
    }
   ],
   "source": [
    "df.shape"
   ]
  },
  {
   "cell_type": "markdown",
   "id": "080da7a6",
   "metadata": {},
   "source": [
    "Dataset has 907 rows and 27 columns."
   ]
  },
  {
   "cell_type": "code",
   "execution_count": 292,
   "id": "76b84f3c",
   "metadata": {
    "scrolled": true
   },
   "outputs": [
    {
     "data": {
      "text/plain": [
       "country                      object\n",
       "country_long                 object\n",
       "name                         object\n",
       "gppd_idnr                    object\n",
       "capacity_mw                 float64\n",
       "latitude                    float64\n",
       "longitude                   float64\n",
       "primary_fuel                 object\n",
       "other_fuel1                  object\n",
       "other_fuel2                  object\n",
       "other_fuel3                 float64\n",
       "commissioning_year          float64\n",
       "owner                        object\n",
       "source                       object\n",
       "url                          object\n",
       "geolocation_source           object\n",
       "wepp_id                     float64\n",
       "year_of_capacity_data       float64\n",
       "generation_gwh_2013         float64\n",
       "generation_gwh_2014         float64\n",
       "generation_gwh_2015         float64\n",
       "generation_gwh_2016         float64\n",
       "generation_gwh_2017         float64\n",
       "generation_gwh_2018         float64\n",
       "generation_gwh_2019         float64\n",
       "generation_data_source       object\n",
       "estimated_generation_gwh    float64\n",
       "dtype: object"
      ]
     },
     "execution_count": 292,
     "metadata": {},
     "output_type": "execute_result"
    }
   ],
   "source": [
    "df.dtypes"
   ]
  },
  {
   "cell_type": "code",
   "execution_count": 293,
   "id": "9c35dc06",
   "metadata": {
    "scrolled": true
   },
   "outputs": [
    {
     "data": {
      "text/html": [
       "<div>\n",
       "<style scoped>\n",
       "    .dataframe tbody tr th:only-of-type {\n",
       "        vertical-align: middle;\n",
       "    }\n",
       "\n",
       "    .dataframe tbody tr th {\n",
       "        vertical-align: top;\n",
       "    }\n",
       "\n",
       "    .dataframe thead th {\n",
       "        text-align: right;\n",
       "    }\n",
       "</style>\n",
       "<table border=\"1\" class=\"dataframe\">\n",
       "  <thead>\n",
       "    <tr style=\"text-align: right;\">\n",
       "      <th></th>\n",
       "      <th>capacity_mw</th>\n",
       "      <th>latitude</th>\n",
       "      <th>longitude</th>\n",
       "      <th>other_fuel3</th>\n",
       "      <th>commissioning_year</th>\n",
       "      <th>wepp_id</th>\n",
       "      <th>year_of_capacity_data</th>\n",
       "      <th>generation_gwh_2013</th>\n",
       "      <th>generation_gwh_2014</th>\n",
       "      <th>generation_gwh_2015</th>\n",
       "      <th>generation_gwh_2016</th>\n",
       "      <th>generation_gwh_2017</th>\n",
       "      <th>generation_gwh_2018</th>\n",
       "      <th>generation_gwh_2019</th>\n",
       "      <th>estimated_generation_gwh</th>\n",
       "    </tr>\n",
       "  </thead>\n",
       "  <tbody>\n",
       "    <tr>\n",
       "      <th>count</th>\n",
       "      <td>907.000000</td>\n",
       "      <td>861.000000</td>\n",
       "      <td>861.000000</td>\n",
       "      <td>0.0</td>\n",
       "      <td>527.000000</td>\n",
       "      <td>0.0</td>\n",
       "      <td>519.0</td>\n",
       "      <td>0.0</td>\n",
       "      <td>398.000000</td>\n",
       "      <td>422.000000</td>\n",
       "      <td>434.000000</td>\n",
       "      <td>440.000000</td>\n",
       "      <td>448.000000</td>\n",
       "      <td>0.0</td>\n",
       "      <td>0.0</td>\n",
       "    </tr>\n",
       "    <tr>\n",
       "      <th>mean</th>\n",
       "      <td>326.223755</td>\n",
       "      <td>21.197918</td>\n",
       "      <td>77.464907</td>\n",
       "      <td>NaN</td>\n",
       "      <td>1997.091082</td>\n",
       "      <td>NaN</td>\n",
       "      <td>2019.0</td>\n",
       "      <td>NaN</td>\n",
       "      <td>2431.823590</td>\n",
       "      <td>2428.226946</td>\n",
       "      <td>2467.936859</td>\n",
       "      <td>2547.759305</td>\n",
       "      <td>2600.804099</td>\n",
       "      <td>NaN</td>\n",
       "      <td>NaN</td>\n",
       "    </tr>\n",
       "    <tr>\n",
       "      <th>std</th>\n",
       "      <td>590.085456</td>\n",
       "      <td>6.239612</td>\n",
       "      <td>4.939316</td>\n",
       "      <td>NaN</td>\n",
       "      <td>17.082868</td>\n",
       "      <td>NaN</td>\n",
       "      <td>0.0</td>\n",
       "      <td>NaN</td>\n",
       "      <td>4026.440035</td>\n",
       "      <td>4194.596959</td>\n",
       "      <td>4162.884308</td>\n",
       "      <td>4196.991169</td>\n",
       "      <td>4314.880456</td>\n",
       "      <td>NaN</td>\n",
       "      <td>NaN</td>\n",
       "    </tr>\n",
       "    <tr>\n",
       "      <th>min</th>\n",
       "      <td>0.000000</td>\n",
       "      <td>8.168900</td>\n",
       "      <td>68.644700</td>\n",
       "      <td>NaN</td>\n",
       "      <td>1927.000000</td>\n",
       "      <td>NaN</td>\n",
       "      <td>2019.0</td>\n",
       "      <td>NaN</td>\n",
       "      <td>0.000000</td>\n",
       "      <td>0.000000</td>\n",
       "      <td>0.000000</td>\n",
       "      <td>0.000000</td>\n",
       "      <td>0.000000</td>\n",
       "      <td>NaN</td>\n",
       "      <td>NaN</td>\n",
       "    </tr>\n",
       "    <tr>\n",
       "      <th>25%</th>\n",
       "      <td>16.725000</td>\n",
       "      <td>16.773900</td>\n",
       "      <td>74.256200</td>\n",
       "      <td>NaN</td>\n",
       "      <td>1988.000000</td>\n",
       "      <td>NaN</td>\n",
       "      <td>2019.0</td>\n",
       "      <td>NaN</td>\n",
       "      <td>223.557672</td>\n",
       "      <td>176.381063</td>\n",
       "      <td>188.285252</td>\n",
       "      <td>177.874930</td>\n",
       "      <td>193.378250</td>\n",
       "      <td>NaN</td>\n",
       "      <td>NaN</td>\n",
       "    </tr>\n",
       "    <tr>\n",
       "      <th>50%</th>\n",
       "      <td>59.200000</td>\n",
       "      <td>21.780000</td>\n",
       "      <td>76.719500</td>\n",
       "      <td>NaN</td>\n",
       "      <td>2001.000000</td>\n",
       "      <td>NaN</td>\n",
       "      <td>2019.0</td>\n",
       "      <td>NaN</td>\n",
       "      <td>801.123775</td>\n",
       "      <td>711.181225</td>\n",
       "      <td>737.205450</td>\n",
       "      <td>817.977250</td>\n",
       "      <td>751.644375</td>\n",
       "      <td>NaN</td>\n",
       "      <td>NaN</td>\n",
       "    </tr>\n",
       "    <tr>\n",
       "      <th>75%</th>\n",
       "      <td>385.250000</td>\n",
       "      <td>25.512400</td>\n",
       "      <td>79.440800</td>\n",
       "      <td>NaN</td>\n",
       "      <td>2012.000000</td>\n",
       "      <td>NaN</td>\n",
       "      <td>2019.0</td>\n",
       "      <td>NaN</td>\n",
       "      <td>3035.306250</td>\n",
       "      <td>3084.121250</td>\n",
       "      <td>3282.861313</td>\n",
       "      <td>3275.690475</td>\n",
       "      <td>3143.535900</td>\n",
       "      <td>NaN</td>\n",
       "      <td>NaN</td>\n",
       "    </tr>\n",
       "    <tr>\n",
       "      <th>max</th>\n",
       "      <td>4760.000000</td>\n",
       "      <td>34.649000</td>\n",
       "      <td>95.408000</td>\n",
       "      <td>NaN</td>\n",
       "      <td>2018.000000</td>\n",
       "      <td>NaN</td>\n",
       "      <td>2019.0</td>\n",
       "      <td>NaN</td>\n",
       "      <td>28127.000000</td>\n",
       "      <td>30539.000000</td>\n",
       "      <td>30015.000000</td>\n",
       "      <td>35116.000000</td>\n",
       "      <td>35136.000000</td>\n",
       "      <td>NaN</td>\n",
       "      <td>NaN</td>\n",
       "    </tr>\n",
       "  </tbody>\n",
       "</table>\n",
       "</div>"
      ],
      "text/plain": [
       "       capacity_mw    latitude   longitude  other_fuel3  commissioning_year  \\\n",
       "count   907.000000  861.000000  861.000000          0.0          527.000000   \n",
       "mean    326.223755   21.197918   77.464907          NaN         1997.091082   \n",
       "std     590.085456    6.239612    4.939316          NaN           17.082868   \n",
       "min       0.000000    8.168900   68.644700          NaN         1927.000000   \n",
       "25%      16.725000   16.773900   74.256200          NaN         1988.000000   \n",
       "50%      59.200000   21.780000   76.719500          NaN         2001.000000   \n",
       "75%     385.250000   25.512400   79.440800          NaN         2012.000000   \n",
       "max    4760.000000   34.649000   95.408000          NaN         2018.000000   \n",
       "\n",
       "       wepp_id  year_of_capacity_data  generation_gwh_2013  \\\n",
       "count      0.0                  519.0                  0.0   \n",
       "mean       NaN                 2019.0                  NaN   \n",
       "std        NaN                    0.0                  NaN   \n",
       "min        NaN                 2019.0                  NaN   \n",
       "25%        NaN                 2019.0                  NaN   \n",
       "50%        NaN                 2019.0                  NaN   \n",
       "75%        NaN                 2019.0                  NaN   \n",
       "max        NaN                 2019.0                  NaN   \n",
       "\n",
       "       generation_gwh_2014  generation_gwh_2015  generation_gwh_2016  \\\n",
       "count           398.000000           422.000000           434.000000   \n",
       "mean           2431.823590          2428.226946          2467.936859   \n",
       "std            4026.440035          4194.596959          4162.884308   \n",
       "min               0.000000             0.000000             0.000000   \n",
       "25%             223.557672           176.381063           188.285252   \n",
       "50%             801.123775           711.181225           737.205450   \n",
       "75%            3035.306250          3084.121250          3282.861313   \n",
       "max           28127.000000         30539.000000         30015.000000   \n",
       "\n",
       "       generation_gwh_2017  generation_gwh_2018  generation_gwh_2019  \\\n",
       "count           440.000000           448.000000                  0.0   \n",
       "mean           2547.759305          2600.804099                  NaN   \n",
       "std            4196.991169          4314.880456                  NaN   \n",
       "min               0.000000             0.000000                  NaN   \n",
       "25%             177.874930           193.378250                  NaN   \n",
       "50%             817.977250           751.644375                  NaN   \n",
       "75%            3275.690475          3143.535900                  NaN   \n",
       "max           35116.000000         35136.000000                  NaN   \n",
       "\n",
       "       estimated_generation_gwh  \n",
       "count                       0.0  \n",
       "mean                        NaN  \n",
       "std                         NaN  \n",
       "min                         NaN  \n",
       "25%                         NaN  \n",
       "50%                         NaN  \n",
       "75%                         NaN  \n",
       "max                         NaN  "
      ]
     },
     "execution_count": 293,
     "metadata": {},
     "output_type": "execute_result"
    }
   ],
   "source": [
    "df.describe()"
   ]
  },
  {
   "cell_type": "markdown",
   "id": "3caedc66",
   "metadata": {},
   "source": [
    "Count of columns are not at all equal so there are are missing values.\n",
    "\n",
    "The columns other_fuel3,wepp_id and estimated_generation_gwh are having count as zero.\n",
    "\n",
    "There is larger deviation between the column values so scaling need to be use."
   ]
  },
  {
   "cell_type": "code",
   "execution_count": 294,
   "id": "94df2d35",
   "metadata": {},
   "outputs": [
    {
     "data": {
      "text/plain": [
       "Index(['country', 'country_long', 'name', 'gppd_idnr', 'capacity_mw',\n",
       "       'latitude', 'longitude', 'primary_fuel', 'other_fuel1', 'other_fuel2',\n",
       "       'other_fuel3', 'commissioning_year', 'owner', 'source', 'url',\n",
       "       'geolocation_source', 'wepp_id', 'year_of_capacity_data',\n",
       "       'generation_gwh_2013', 'generation_gwh_2014', 'generation_gwh_2015',\n",
       "       'generation_gwh_2016', 'generation_gwh_2017', 'generation_gwh_2018',\n",
       "       'generation_gwh_2019', 'generation_data_source',\n",
       "       'estimated_generation_gwh'],\n",
       "      dtype='object')"
      ]
     },
     "execution_count": 294,
     "metadata": {},
     "output_type": "execute_result"
    }
   ],
   "source": [
    "df.columns"
   ]
  },
  {
   "cell_type": "markdown",
   "id": "9102db67",
   "metadata": {},
   "source": [
    "### Key attributes of the database\n",
    "The database includes the following indicators:\n",
    "\n",
    "`country` (text): 3 character country code corresponding to the ISO 3166-1 alpha-3 specification [5]\n",
    "\n",
    "`country_long` (text): longer form of the country designation\n",
    "\n",
    "`name` (text): name or title of the power plant, generally in Romanized form\n",
    "\n",
    "`gppd_idnr` (text): 10 or 12 character identifier for the power plant\n",
    "\n",
    "`capacity_mw` (number): electrical generating capacity in megawatts\n",
    "\n",
    "`latitude` (number): geolocation in decimal degrees; WGS84 (EPSG:4326)\n",
    "\n",
    "`longitude` (number): geolocation in decimal degrees; WGS84 (EPSG:4326)\n",
    "\n",
    "`primary_fuel` (text): energy source used in primary electricity generation or export\n",
    "\n",
    "`other_fuel1` (text): energy source used in electricity generation or export\n",
    "\n",
    "`other_fuel2` (text): energy source used in electricity generation or export\n",
    "\n",
    "`other_fuel3` (text): energy source used in electricity generation or export\n",
    "\n",
    "`commissioning_year` (number): year of plant operation, weighted by unit-capacity when data is available\n",
    "\n",
    "`owner` (text): majority shareholder of the power plant, generally in Romanized form\n",
    "\n",
    "`source` (text): entity reporting the data; could be an organization, report, or document, generally in Romanized form\n",
    "\n",
    "`url` (text): web document corresponding to the \n",
    "\n",
    "`source` field\n",
    "\n",
    "`geolocation_source` (text): attribution for geolocation information\n",
    "\n",
    "`wepp_id` (text): a reference to a unique plant identifier in the widely-used PLATTS-WEPP database.\n",
    "\n",
    "`year_of_capacity_data` (number): year the capacity information was reported\n",
    "\n",
    "`generation_gwh_2013` (number): electricity generation in gigawatt-hours reported for the year 2013\n",
    "\n",
    "`generation_gwh_2014` (number): electricity generation in gigawatt-hours reported for the year 2014\n",
    "\n",
    "`generation_gwh_2015` (number): electricity generation in gigawatt-hours reported for the year 2015\n",
    "\n",
    "`generation_gwh_2016` (number): electricity generation in gigawatt-hours reported for the year 2016\n",
    "\n",
    "`generation_gwh_2017` (number): electricity generation in gigawatt-hours reported for the year 2017\n",
    "\n",
    "`generation_gwh_2018` (number): electricity generation in gigawatt-hours reported for the year 2018\n",
    "\n",
    "`generation_gwh_2019` (number): electricity generation in gigawatt-hours reported for the year 2019\n",
    "\n",
    "`generation_data_source` (text): attribution for the reported generation information\n",
    "\n",
    "`estimated_generation_gwh_2013` (number): estimated electricity generation in gigawatt-hours for the year 2013\n",
    "\n",
    "`estimated_generation_gwh_2014` (number): estimated electricity generation in gigawatt-hours for the year 2014\n",
    "\n",
    "`estimated_generation_gwh_2015` (number): estimated electricity generation in gigawatt-hours for the year 2015\n",
    "\n",
    "`estimated_generation_gwh_2016` (number): estimated electricity generation in gigawatt-hours for the year 2016 \n",
    "\n",
    "`estimated_generation_gwh_2017` (number): estimated electricity generation in gigawatt-hours for the year 2017\n",
    "\n",
    "'estimated_generation_note_2013` (text): label of the model/method used to estimate generation for the year 2013\n",
    "\n",
    "`estimated_generation_note_2014` (text): label of the model/method used to estimate generation for the year 2014 \n",
    "\n",
    "`estimated_generation_note_2015` (text): label of the model/method used to estimate generation for the year 2015\n",
    "\n",
    "`estimated_generation_note_2016` (text): label of the model/method used to estimate generation for the year 2016\n",
    "\n",
    "`estimated_generation_note_2017` (text): label of the model/method used to estimate generation for the year 2017 "
   ]
  },
  {
   "cell_type": "code",
   "execution_count": 295,
   "id": "f1f0aab3",
   "metadata": {
    "scrolled": true
   },
   "outputs": [
    {
     "data": {
      "text/html": [
       "<div>\n",
       "<style scoped>\n",
       "    .dataframe tbody tr th:only-of-type {\n",
       "        vertical-align: middle;\n",
       "    }\n",
       "\n",
       "    .dataframe tbody tr th {\n",
       "        vertical-align: top;\n",
       "    }\n",
       "\n",
       "    .dataframe thead th {\n",
       "        text-align: right;\n",
       "    }\n",
       "</style>\n",
       "<table border=\"1\" class=\"dataframe\">\n",
       "  <thead>\n",
       "    <tr style=\"text-align: right;\">\n",
       "      <th></th>\n",
       "      <th>country</th>\n",
       "      <th>country_long</th>\n",
       "      <th>name</th>\n",
       "      <th>gppd_idnr</th>\n",
       "      <th>primary_fuel</th>\n",
       "      <th>other_fuel1</th>\n",
       "      <th>other_fuel2</th>\n",
       "      <th>owner</th>\n",
       "      <th>source</th>\n",
       "      <th>url</th>\n",
       "      <th>geolocation_source</th>\n",
       "      <th>generation_data_source</th>\n",
       "    </tr>\n",
       "  </thead>\n",
       "  <tbody>\n",
       "    <tr>\n",
       "      <th>0</th>\n",
       "      <td>IND</td>\n",
       "      <td>India</td>\n",
       "      <td>ACME Solar Tower</td>\n",
       "      <td>WRI1020239</td>\n",
       "      <td>Solar</td>\n",
       "      <td>NaN</td>\n",
       "      <td>NaN</td>\n",
       "      <td>Solar Paces</td>\n",
       "      <td>National Renewable Energy Laboratory</td>\n",
       "      <td>http://www.nrel.gov/csp/solarpaces/project_det...</td>\n",
       "      <td>National Renewable Energy Laboratory</td>\n",
       "      <td>NaN</td>\n",
       "    </tr>\n",
       "    <tr>\n",
       "      <th>1</th>\n",
       "      <td>IND</td>\n",
       "      <td>India</td>\n",
       "      <td>ADITYA CEMENT WORKS</td>\n",
       "      <td>WRI1019881</td>\n",
       "      <td>Coal</td>\n",
       "      <td>NaN</td>\n",
       "      <td>NaN</td>\n",
       "      <td>Ultratech Cement ltd</td>\n",
       "      <td>Ultratech Cement ltd</td>\n",
       "      <td>http://www.ultratechcement.com/</td>\n",
       "      <td>WRI</td>\n",
       "      <td>NaN</td>\n",
       "    </tr>\n",
       "    <tr>\n",
       "      <th>2</th>\n",
       "      <td>IND</td>\n",
       "      <td>India</td>\n",
       "      <td>AES Saurashtra Windfarms</td>\n",
       "      <td>WRI1026669</td>\n",
       "      <td>Wind</td>\n",
       "      <td>NaN</td>\n",
       "      <td>NaN</td>\n",
       "      <td>AES</td>\n",
       "      <td>CDM</td>\n",
       "      <td>https://cdm.unfccc.int/Projects/DB/DNV-CUK1328...</td>\n",
       "      <td>WRI</td>\n",
       "      <td>NaN</td>\n",
       "    </tr>\n",
       "  </tbody>\n",
       "</table>\n",
       "</div>"
      ],
      "text/plain": [
       "  country country_long                      name   gppd_idnr primary_fuel  \\\n",
       "0     IND        India          ACME Solar Tower  WRI1020239        Solar   \n",
       "1     IND        India       ADITYA CEMENT WORKS  WRI1019881         Coal   \n",
       "2     IND        India  AES Saurashtra Windfarms  WRI1026669         Wind   \n",
       "\n",
       "  other_fuel1 other_fuel2                 owner  \\\n",
       "0         NaN         NaN           Solar Paces   \n",
       "1         NaN         NaN  Ultratech Cement ltd   \n",
       "2         NaN         NaN                   AES   \n",
       "\n",
       "                                 source  \\\n",
       "0  National Renewable Energy Laboratory   \n",
       "1                  Ultratech Cement ltd   \n",
       "2                                   CDM   \n",
       "\n",
       "                                                 url  \\\n",
       "0  http://www.nrel.gov/csp/solarpaces/project_det...   \n",
       "1                    http://www.ultratechcement.com/   \n",
       "2  https://cdm.unfccc.int/Projects/DB/DNV-CUK1328...   \n",
       "\n",
       "                     geolocation_source generation_data_source  \n",
       "0  National Renewable Energy Laboratory                    NaN  \n",
       "1                                   WRI                    NaN  \n",
       "2                                   WRI                    NaN  "
      ]
     },
     "execution_count": 295,
     "metadata": {},
     "output_type": "execute_result"
    }
   ],
   "source": [
    "df.select_dtypes(['object']).head(3)"
   ]
  },
  {
   "cell_type": "markdown",
   "id": "defc21e5",
   "metadata": {},
   "source": [
    "### Data cleaning"
   ]
  },
  {
   "cell_type": "code",
   "execution_count": 296,
   "id": "21253caf",
   "metadata": {},
   "outputs": [
    {
     "data": {
      "text/plain": [
       "<AxesSubplot:>"
      ]
     },
     "execution_count": 296,
     "metadata": {},
     "output_type": "execute_result"
    },
    {
     "data": {
      "image/png": "[encoded data removed]",
      "text/plain": [
       "<Figure size 432x288 with 2 Axes>"
      ]
     },
     "metadata": {
      "needs_background": "light"
     },
     "output_type": "display_data"
    }
   ],
   "source": [
    "# Checking for any missing valules in dataset\n",
    "sn.heatmap(df.isnull())"
   ]
  },
  {
   "cell_type": "markdown",
   "id": "2517296c",
   "metadata": {},
   "source": [
    "### Conclusion:\n",
    "\n",
    "The above graph is here to show that if there are any null values in the above dataset, I have found out that the white line shows the '1' value here, it means that dataset has the empty(Null Values)."
   ]
  },
  {
   "cell_type": "code",
   "execution_count": 297,
   "id": "7d96a196",
   "metadata": {},
   "outputs": [
    {
     "data": {
      "text/plain": [
       "country                       0\n",
       "country_long                  0\n",
       "name                          0\n",
       "gppd_idnr                     0\n",
       "capacity_mw                   0\n",
       "latitude                     46\n",
       "longitude                    46\n",
       "primary_fuel                  0\n",
       "other_fuel1                 709\n",
       "other_fuel2                 906\n",
       "other_fuel3                 907\n",
       "commissioning_year          380\n",
       "owner                       565\n",
       "source                        0\n",
       "url                           0\n",
       "geolocation_source           19\n",
       "wepp_id                     907\n",
       "year_of_capacity_data       388\n",
       "generation_gwh_2013         907\n",
       "generation_gwh_2014         509\n",
       "generation_gwh_2015         485\n",
       "generation_gwh_2016         473\n",
       "generation_gwh_2017         467\n",
       "generation_gwh_2018         459\n",
       "generation_gwh_2019         907\n",
       "generation_data_source      458\n",
       "estimated_generation_gwh    907\n",
       "dtype: int64"
      ]
     },
     "execution_count": 297,
     "metadata": {},
     "output_type": "execute_result"
    }
   ],
   "source": [
    "df.isnull().sum()"
   ]
  },
  {
   "cell_type": "markdown",
   "id": "18c4779b",
   "metadata": {},
   "source": [
    "The columns other_fuel3,other_fuel2,wepp_id, generation_gwh_2013,generation_gwh_2019 and estimated_generation_gwh contains all the rows empty so it needs to be removed.\n",
    "There are so many missing values in the dataset."
   ]
  },
  {
   "cell_type": "code",
   "execution_count": 298,
   "id": "cecf2813",
   "metadata": {},
   "outputs": [],
   "source": [
    "df = df.drop(['other_fuel2','other_fuel3','wepp_id','generation_gwh_2013','generation_gwh_2019','estimated_generation_gwh'],axis='columns')"
   ]
  },
  {
   "cell_type": "code",
   "execution_count": 299,
   "id": "dc22d0d7",
   "metadata": {},
   "outputs": [
    {
     "data": {
      "text/html": [
       "<div>\n",
       "<style scoped>\n",
       "    .dataframe tbody tr th:only-of-type {\n",
       "        vertical-align: middle;\n",
       "    }\n",
       "\n",
       "    .dataframe tbody tr th {\n",
       "        vertical-align: top;\n",
       "    }\n",
       "\n",
       "    .dataframe thead th {\n",
       "        text-align: right;\n",
       "    }\n",
       "</style>\n",
       "<table border=\"1\" class=\"dataframe\">\n",
       "  <thead>\n",
       "    <tr style=\"text-align: right;\">\n",
       "      <th></th>\n",
       "      <th>country</th>\n",
       "      <th>country_long</th>\n",
       "      <th>name</th>\n",
       "      <th>gppd_idnr</th>\n",
       "      <th>capacity_mw</th>\n",
       "      <th>latitude</th>\n",
       "      <th>longitude</th>\n",
       "      <th>primary_fuel</th>\n",
       "      <th>other_fuel1</th>\n",
       "      <th>commissioning_year</th>\n",
       "      <th>...</th>\n",
       "      <th>source</th>\n",
       "      <th>url</th>\n",
       "      <th>geolocation_source</th>\n",
       "      <th>year_of_capacity_data</th>\n",
       "      <th>generation_gwh_2014</th>\n",
       "      <th>generation_gwh_2015</th>\n",
       "      <th>generation_gwh_2016</th>\n",
       "      <th>generation_gwh_2017</th>\n",
       "      <th>generation_gwh_2018</th>\n",
       "      <th>generation_data_source</th>\n",
       "    </tr>\n",
       "  </thead>\n",
       "  <tbody>\n",
       "    <tr>\n",
       "      <th>0</th>\n",
       "      <td>IND</td>\n",
       "      <td>India</td>\n",
       "      <td>ACME Solar Tower</td>\n",
       "      <td>WRI1020239</td>\n",
       "      <td>2.5</td>\n",
       "      <td>28.1839</td>\n",
       "      <td>73.2407</td>\n",
       "      <td>Solar</td>\n",
       "      <td>NaN</td>\n",
       "      <td>2011.0</td>\n",
       "      <td>...</td>\n",
       "      <td>National Renewable Energy Laboratory</td>\n",
       "      <td>http://www.nrel.gov/csp/solarpaces/project_det...</td>\n",
       "      <td>National Renewable Energy Laboratory</td>\n",
       "      <td>NaN</td>\n",
       "      <td>NaN</td>\n",
       "      <td>NaN</td>\n",
       "      <td>NaN</td>\n",
       "      <td>NaN</td>\n",
       "      <td>NaN</td>\n",
       "      <td>NaN</td>\n",
       "    </tr>\n",
       "    <tr>\n",
       "      <th>1</th>\n",
       "      <td>IND</td>\n",
       "      <td>India</td>\n",
       "      <td>ADITYA CEMENT WORKS</td>\n",
       "      <td>WRI1019881</td>\n",
       "      <td>98.0</td>\n",
       "      <td>24.7663</td>\n",
       "      <td>74.6090</td>\n",
       "      <td>Coal</td>\n",
       "      <td>NaN</td>\n",
       "      <td>NaN</td>\n",
       "      <td>...</td>\n",
       "      <td>Ultratech Cement ltd</td>\n",
       "      <td>http://www.ultratechcement.com/</td>\n",
       "      <td>WRI</td>\n",
       "      <td>NaN</td>\n",
       "      <td>NaN</td>\n",
       "      <td>NaN</td>\n",
       "      <td>NaN</td>\n",
       "      <td>NaN</td>\n",
       "      <td>NaN</td>\n",
       "      <td>NaN</td>\n",
       "    </tr>\n",
       "    <tr>\n",
       "      <th>2</th>\n",
       "      <td>IND</td>\n",
       "      <td>India</td>\n",
       "      <td>AES Saurashtra Windfarms</td>\n",
       "      <td>WRI1026669</td>\n",
       "      <td>39.2</td>\n",
       "      <td>21.9038</td>\n",
       "      <td>69.3732</td>\n",
       "      <td>Wind</td>\n",
       "      <td>NaN</td>\n",
       "      <td>NaN</td>\n",
       "      <td>...</td>\n",
       "      <td>CDM</td>\n",
       "      <td>https://cdm.unfccc.int/Projects/DB/DNV-CUK1328...</td>\n",
       "      <td>WRI</td>\n",
       "      <td>NaN</td>\n",
       "      <td>NaN</td>\n",
       "      <td>NaN</td>\n",
       "      <td>NaN</td>\n",
       "      <td>NaN</td>\n",
       "      <td>NaN</td>\n",
       "      <td>NaN</td>\n",
       "    </tr>\n",
       "    <tr>\n",
       "      <th>3</th>\n",
       "      <td>IND</td>\n",
       "      <td>India</td>\n",
       "      <td>AGARTALA GT</td>\n",
       "      <td>IND0000001</td>\n",
       "      <td>135.0</td>\n",
       "      <td>23.8712</td>\n",
       "      <td>91.3602</td>\n",
       "      <td>Gas</td>\n",
       "      <td>NaN</td>\n",
       "      <td>2004.0</td>\n",
       "      <td>...</td>\n",
       "      <td>Central Electricity Authority</td>\n",
       "      <td>http://www.cea.nic.in/</td>\n",
       "      <td>WRI</td>\n",
       "      <td>2019.0</td>\n",
       "      <td>617.789264</td>\n",
       "      <td>843.747</td>\n",
       "      <td>886.004428</td>\n",
       "      <td>663.774500</td>\n",
       "      <td>626.239128</td>\n",
       "      <td>Central Electricity Authority</td>\n",
       "    </tr>\n",
       "    <tr>\n",
       "      <th>4</th>\n",
       "      <td>IND</td>\n",
       "      <td>India</td>\n",
       "      <td>AKALTARA TPP</td>\n",
       "      <td>IND0000002</td>\n",
       "      <td>1800.0</td>\n",
       "      <td>21.9603</td>\n",
       "      <td>82.4091</td>\n",
       "      <td>Coal</td>\n",
       "      <td>Oil</td>\n",
       "      <td>2015.0</td>\n",
       "      <td>...</td>\n",
       "      <td>Central Electricity Authority</td>\n",
       "      <td>http://www.cea.nic.in/</td>\n",
       "      <td>WRI</td>\n",
       "      <td>2019.0</td>\n",
       "      <td>3035.550000</td>\n",
       "      <td>5916.370</td>\n",
       "      <td>6243.000000</td>\n",
       "      <td>5385.579736</td>\n",
       "      <td>7279.000000</td>\n",
       "      <td>Central Electricity Authority</td>\n",
       "    </tr>\n",
       "  </tbody>\n",
       "</table>\n",
       "<p>5 rows × 21 columns</p>\n",
       "</div>"
      ],
      "text/plain": [
       "  country country_long                      name   gppd_idnr  capacity_mw  \\\n",
       "0     IND        India          ACME Solar Tower  WRI1020239          2.5   \n",
       "1     IND        India       ADITYA CEMENT WORKS  WRI1019881         98.0   \n",
       "2     IND        India  AES Saurashtra Windfarms  WRI1026669         39.2   \n",
       "3     IND        India               AGARTALA GT  IND0000001        135.0   \n",
       "4     IND        India              AKALTARA TPP  IND0000002       1800.0   \n",
       "\n",
       "   latitude  longitude primary_fuel other_fuel1  commissioning_year  ...  \\\n",
       "0   28.1839    73.2407        Solar         NaN              2011.0  ...   \n",
       "1   24.7663    74.6090         Coal         NaN                 NaN  ...   \n",
       "2   21.9038    69.3732         Wind         NaN                 NaN  ...   \n",
       "3   23.8712    91.3602          Gas         NaN              2004.0  ...   \n",
       "4   21.9603    82.4091         Coal         Oil              2015.0  ...   \n",
       "\n",
       "                                 source  \\\n",
       "0  National Renewable Energy Laboratory   \n",
       "1                  Ultratech Cement ltd   \n",
       "2                                   CDM   \n",
       "3         Central Electricity Authority   \n",
       "4         Central Electricity Authority   \n",
       "\n",
       "                                                 url  \\\n",
       "0  http://www.nrel.gov/csp/solarpaces/project_det...   \n",
       "1                    http://www.ultratechcement.com/   \n",
       "2  https://cdm.unfccc.int/Projects/DB/DNV-CUK1328...   \n",
       "3                             http://www.cea.nic.in/   \n",
       "4                             http://www.cea.nic.in/   \n",
       "\n",
       "                     geolocation_source year_of_capacity_data  \\\n",
       "0  National Renewable Energy Laboratory                   NaN   \n",
       "1                                   WRI                   NaN   \n",
       "2                                   WRI                   NaN   \n",
       "3                                   WRI                2019.0   \n",
       "4                                   WRI                2019.0   \n",
       "\n",
       "   generation_gwh_2014  generation_gwh_2015  generation_gwh_2016  \\\n",
       "0                  NaN                  NaN                  NaN   \n",
       "1                  NaN                  NaN                  NaN   \n",
       "2                  NaN                  NaN                  NaN   \n",
       "3           617.789264              843.747           886.004428   \n",
       "4          3035.550000             5916.370          6243.000000   \n",
       "\n",
       "   generation_gwh_2017  generation_gwh_2018         generation_data_source  \n",
       "0                  NaN                  NaN                            NaN  \n",
       "1                  NaN                  NaN                            NaN  \n",
       "2                  NaN                  NaN                            NaN  \n",
       "3           663.774500           626.239128  Central Electricity Authority  \n",
       "4          5385.579736          7279.000000  Central Electricity Authority  \n",
       "\n",
       "[5 rows x 21 columns]"
      ]
     },
     "execution_count": 299,
     "metadata": {},
     "output_type": "execute_result"
    }
   ],
   "source": [
    "df.head()"
   ]
  },
  {
   "cell_type": "code",
   "execution_count": 300,
   "id": "a807580c",
   "metadata": {},
   "outputs": [
    {
     "name": "stdout",
     "output_type": "stream",
     "text": [
      "<class 'pandas.core.frame.DataFrame'>\n",
      "RangeIndex: 907 entries, 0 to 906\n",
      "Data columns (total 21 columns):\n",
      " #   Column                  Non-Null Count  Dtype  \n",
      "---  ------                  --------------  -----  \n",
      " 0   country                 907 non-null    object \n",
      " 1   country_long            907 non-null    object \n",
      " 2   name                    907 non-null    object \n",
      " 3   gppd_idnr               907 non-null    object \n",
      " 4   capacity_mw             907 non-null    float64\n",
      " 5   latitude                861 non-null    float64\n",
      " 6   longitude               861 non-null    float64\n",
      " 7   primary_fuel            907 non-null    object \n",
      " 8   other_fuel1             198 non-null    object \n",
      " 9   commissioning_year      527 non-null    float64\n",
      " 10  owner                   342 non-null    object \n",
      " 11  source                  907 non-null    object \n",
      " 12  url                     907 non-null    object \n",
      " 13  geolocation_source      888 non-null    object \n",
      " 14  year_of_capacity_data   519 non-null    float64\n",
      " 15  generation_gwh_2014     398 non-null    float64\n",
      " 16  generation_gwh_2015     422 non-null    float64\n",
      " 17  generation_gwh_2016     434 non-null    float64\n",
      " 18  generation_gwh_2017     440 non-null    float64\n",
      " 19  generation_gwh_2018     448 non-null    float64\n",
      " 20  generation_data_source  449 non-null    object \n",
      "dtypes: float64(10), object(11)\n",
      "memory usage: 109.9+ KB\n"
     ]
    }
   ],
   "source": [
    "df.info()"
   ]
  },
  {
   "cell_type": "code",
   "execution_count": 301,
   "id": "36dd68e9",
   "metadata": {},
   "outputs": [
    {
     "data": {
      "text/plain": [
       "IND    907\n",
       "Name: country, dtype: int64"
      ]
     },
     "execution_count": 301,
     "metadata": {},
     "output_type": "execute_result"
    }
   ],
   "source": [
    "df['country'].value_counts()"
   ]
  },
  {
   "cell_type": "code",
   "execution_count": 302,
   "id": "09d42c99",
   "metadata": {},
   "outputs": [
    {
     "data": {
      "text/plain": [
       "India    907\n",
       "Name: country_long, dtype: int64"
      ]
     },
     "execution_count": 302,
     "metadata": {},
     "output_type": "execute_result"
    }
   ],
   "source": [
    "df['country_long'].value_counts()"
   ]
  },
  {
   "cell_type": "code",
   "execution_count": 303,
   "id": "343a11ae",
   "metadata": {},
   "outputs": [
    {
     "data": {
      "text/plain": [
       "Oil             195\n",
       "Gas               2\n",
       "Cogeneration      1\n",
       "Name: other_fuel1, dtype: int64"
      ]
     },
     "execution_count": 303,
     "metadata": {},
     "output_type": "execute_result"
    }
   ],
   "source": [
    "df['other_fuel1'].value_counts()"
   ]
  },
  {
   "cell_type": "markdown",
   "id": "139f376c",
   "metadata": {},
   "source": [
    "In other_fuel1 column aprox 80% data is NAN \n",
    "\n",
    "In country column there is same data in all rows \n",
    "\n",
    "In country_long column there is same data in all rows\n",
    "\n",
    "now we drop these columns in our data set\n",
    "\n"
   ]
  },
  {
   "cell_type": "code",
   "execution_count": 304,
   "id": "f4734569",
   "metadata": {},
   "outputs": [],
   "source": [
    "df1 = df.drop(['country','country_long','other_fuel1'],axis='columns')"
   ]
  },
  {
   "cell_type": "markdown",
   "id": "9337a1fa",
   "metadata": {},
   "source": [
    "### Treating Null Values"
   ]
  },
  {
   "cell_type": "code",
   "execution_count": 305,
   "id": "dc005b63",
   "metadata": {},
   "outputs": [
    {
     "data": {
      "text/plain": [
       "name                        0\n",
       "gppd_idnr                   0\n",
       "capacity_mw                 0\n",
       "latitude                   46\n",
       "longitude                  46\n",
       "primary_fuel                0\n",
       "commissioning_year        380\n",
       "owner                     565\n",
       "source                      0\n",
       "url                         0\n",
       "geolocation_source         19\n",
       "year_of_capacity_data     388\n",
       "generation_gwh_2014       509\n",
       "generation_gwh_2015       485\n",
       "generation_gwh_2016       473\n",
       "generation_gwh_2017       467\n",
       "generation_gwh_2018       459\n",
       "generation_data_source    458\n",
       "dtype: int64"
      ]
     },
     "execution_count": 305,
     "metadata": {},
     "output_type": "execute_result"
    }
   ],
   "source": [
    "df1.isnull().sum()"
   ]
  },
  {
   "cell_type": "code",
   "execution_count": 306,
   "id": "6fbff607",
   "metadata": {},
   "outputs": [
    {
     "data": {
      "text/plain": [
       "2015.0    28\n",
       "2013.0    25\n",
       "2012.0    23\n",
       "2016.0    19\n",
       "2010.0    18\n",
       "          ..\n",
       "1958.0     1\n",
       "1949.0     1\n",
       "1954.0     1\n",
       "1956.0     1\n",
       "1927.0     1\n",
       "Name: commissioning_year, Length: 73, dtype: int64"
      ]
     },
     "execution_count": 306,
     "metadata": {},
     "output_type": "execute_result"
    }
   ],
   "source": [
    "df1['commissioning_year'].value_counts()"
   ]
  },
  {
   "cell_type": "code",
   "execution_count": 307,
   "id": "c8c14167",
   "metadata": {},
   "outputs": [
    {
     "data": {
      "text/plain": [
       "Acc Acc ltd                          4\n",
       "Sterling Agro Industries ltd.        4\n",
       "Jk Cement ltd                        4\n",
       "Government of India                  3\n",
       "SWPPL                                3\n",
       "                                    ..\n",
       "Ashok Ssk ltd                        1\n",
       "Jawahar Ssk ltd                      1\n",
       "Riddhi Siddhi Gluco Biols Limited    1\n",
       "Sepset Construction Limited          1\n",
       "Kjs Ahluwalia group                  1\n",
       "Name: owner, Length: 280, dtype: int64"
      ]
     },
     "execution_count": 307,
     "metadata": {},
     "output_type": "execute_result"
    }
   ],
   "source": [
    "df1['owner'].value_counts()"
   ]
  },
  {
   "cell_type": "code",
   "execution_count": 308,
   "id": "7588894c",
   "metadata": {},
   "outputs": [
    {
     "data": {
      "text/plain": [
       "WRI                                     765\n",
       "Industry About                          119\n",
       "National Renewable Energy Laboratory      4\n",
       "Name: geolocation_source, dtype: int64"
      ]
     },
     "execution_count": 308,
     "metadata": {},
     "output_type": "execute_result"
    }
   ],
   "source": [
    "df1['geolocation_source'].value_counts()"
   ]
  },
  {
   "cell_type": "code",
   "execution_count": 309,
   "id": "66109ee1",
   "metadata": {},
   "outputs": [
    {
     "data": {
      "text/plain": [
       "Central Electricity Authority    449\n",
       "Name: generation_data_source, dtype: int64"
      ]
     },
     "execution_count": 309,
     "metadata": {},
     "output_type": "execute_result"
    }
   ],
   "source": [
    "df1['generation_data_source'].value_counts()"
   ]
  },
  {
   "cell_type": "code",
   "execution_count": 310,
   "id": "63dee470",
   "metadata": {},
   "outputs": [
    {
     "data": {
      "text/plain": [
       "2019.0    519\n",
       "Name: year_of_capacity_data, dtype: int64"
      ]
     },
     "execution_count": 310,
     "metadata": {},
     "output_type": "execute_result"
    }
   ],
   "source": [
    "df1['year_of_capacity_data'].value_counts()"
   ]
  },
  {
   "cell_type": "code",
   "execution_count": 311,
   "id": "2499220d",
   "metadata": {},
   "outputs": [
    {
     "data": {
      "text/plain": [
       "24.1917    3\n",
       "19.0004    3\n",
       "15.2615    2\n",
       "13.2450    2\n",
       "11.5336    2\n",
       "          ..\n",
       "16.4994    1\n",
       "9.0870     1\n",
       "20.9099    1\n",
       "17.2387    1\n",
       "16.5973    1\n",
       "Name: latitude, Length: 836, dtype: int64"
      ]
     },
     "execution_count": 311,
     "metadata": {},
     "output_type": "execute_result"
    }
   ],
   "source": [
    "df1['latitude'].value_counts()"
   ]
  },
  {
   "cell_type": "code",
   "execution_count": 312,
   "id": "aa9339d8",
   "metadata": {},
   "outputs": [
    {
     "data": {
      "text/plain": [
       "71.6917    4\n",
       "72.8983    3\n",
       "81.2875    3\n",
       "75.8988    3\n",
       "71.6918    3\n",
       "          ..\n",
       "77.9576    1\n",
       "91.8114    1\n",
       "80.1264    1\n",
       "76.1137    1\n",
       "79.5748    1\n",
       "Name: longitude, Length: 827, dtype: int64"
      ]
     },
     "execution_count": 312,
     "metadata": {},
     "output_type": "execute_result"
    }
   ],
   "source": [
    "df1['longitude'].value_counts()"
   ]
  },
  {
   "cell_type": "code",
   "execution_count": 313,
   "id": "7047e0c0",
   "metadata": {},
   "outputs": [
    {
     "data": {
      "text/plain": [
       "0.00000       28\n",
       "6803.31250     1\n",
       "4735.13000     1\n",
       "145.81400      1\n",
       "2022.57000     1\n",
       "              ..\n",
       "6224.00000     1\n",
       "268.48085      1\n",
       "1255.73200     1\n",
       "164.32425      1\n",
       "1153.65300     1\n",
       "Name: generation_gwh_2014, Length: 371, dtype: int64"
      ]
     },
     "execution_count": 313,
     "metadata": {},
     "output_type": "execute_result"
    }
   ],
   "source": [
    "df1['generation_gwh_2014'].value_counts()"
   ]
  },
  {
   "cell_type": "code",
   "execution_count": 314,
   "id": "0674bd0a",
   "metadata": {},
   "outputs": [
    {
     "data": {
      "text/plain": [
       "0.00000       27\n",
       "174.17475      1\n",
       "8076.81050     1\n",
       "1.09395        1\n",
       "18.71595       1\n",
       "              ..\n",
       "665.19730      1\n",
       "1516.36010     1\n",
       "741.86205      1\n",
       "183.29890      1\n",
       "7130.50700     1\n",
       "Name: generation_gwh_2015, Length: 396, dtype: int64"
      ]
     },
     "execution_count": 314,
     "metadata": {},
     "output_type": "execute_result"
    }
   ],
   "source": [
    "df1['generation_gwh_2015'].value_counts()"
   ]
  },
  {
   "cell_type": "code",
   "execution_count": 315,
   "id": "28656956",
   "metadata": {},
   "outputs": [
    {
     "data": {
      "text/plain": [
       "0.00000       30\n",
       "8470.57000     2\n",
       "1511.00000     2\n",
       "250.97100      1\n",
       "7.31325        1\n",
       "              ..\n",
       "433.84800      1\n",
       "283.74811      1\n",
       "259.94375      1\n",
       "403.96000      1\n",
       "307.87290      1\n",
       "Name: generation_gwh_2016, Length: 403, dtype: int64"
      ]
     },
     "execution_count": 315,
     "metadata": {},
     "output_type": "execute_result"
    }
   ],
   "source": [
    "df1['generation_gwh_2016'].value_counts()"
   ]
  },
  {
   "cell_type": "code",
   "execution_count": 316,
   "id": "65416ac5",
   "metadata": {},
   "outputs": [
    {
     "data": {
      "text/plain": [
       "0.00000       32\n",
       "170.08530      2\n",
       "9271.00000     1\n",
       "59.43135       1\n",
       "549.86930      1\n",
       "              ..\n",
       "214.48220      1\n",
       "272.73945      1\n",
       "2887.00000     1\n",
       "12.73600       1\n",
       "158.73235      1\n",
       "Name: generation_gwh_2017, Length: 408, dtype: int64"
      ]
     },
     "execution_count": 316,
     "metadata": {},
     "output_type": "execute_result"
    }
   ],
   "source": [
    "df1['generation_gwh_2017'].value_counts()"
   ]
  },
  {
   "cell_type": "code",
   "execution_count": 317,
   "id": "73c24a2a",
   "metadata": {},
   "outputs": [
    {
     "data": {
      "text/plain": [
       "0.00000       39\n",
       "100.85320      1\n",
       "805.48235      1\n",
       "7179.00000     1\n",
       "6915.39000     1\n",
       "              ..\n",
       "980.25410      1\n",
       "33.88970       1\n",
       "6474.61425     1\n",
       "347.34455      1\n",
       "192.01510      1\n",
       "Name: generation_gwh_2018, Length: 410, dtype: int64"
      ]
     },
     "execution_count": 317,
     "metadata": {},
     "output_type": "execute_result"
    }
   ],
   "source": [
    "df1['generation_gwh_2018'].value_counts()"
   ]
  },
  {
   "cell_type": "code",
   "execution_count": 318,
   "id": "7639bf13",
   "metadata": {},
   "outputs": [],
   "source": [
    "df1['latitude'] = df1['latitude'].fillna(df1['latitude'].mean())\n",
    "df1['longitude'] = df1['longitude'].fillna(df1['longitude'].mean())\n",
    "df1['generation_gwh_2014'] = df1['generation_gwh_2014'].fillna(df1['generation_gwh_2014'].mean())\n",
    "df1['generation_gwh_2015'] = df1['generation_gwh_2015'].fillna(df1['generation_gwh_2015'].mean())\n",
    "df1['generation_gwh_2016'] = df1['generation_gwh_2016'].fillna(df1['generation_gwh_2016'].mean())\n",
    "df1['generation_gwh_2017'] = df1['generation_gwh_2017'].fillna(df1['generation_gwh_2017'].mean())\n",
    "df1['generation_gwh_2018'] = df1['generation_gwh_2018'].fillna(df1['generation_gwh_2018'].mean())\n",
    "\n"
   ]
  },
  {
   "cell_type": "code",
   "execution_count": 319,
   "id": "a067f0b0",
   "metadata": {},
   "outputs": [],
   "source": [
    "df1['commissioning_year'] = df1['commissioning_year'].fillna(0)\n",
    "df1['year_of_capacity_data'] = df1['year_of_capacity_data'].fillna(0)"
   ]
  },
  {
   "cell_type": "code",
   "execution_count": 320,
   "id": "263cd8a9",
   "metadata": {},
   "outputs": [],
   "source": [
    "df1['owner'] = df1['owner'].fillna(df1['owner'].mode()[0])\n",
    "df1['geolocation_source'] = df1['geolocation_source'].fillna(df1['geolocation_source'].mode()[0])\n",
    "df1['generation_data_source'] = df1['generation_data_source'].fillna(df1['generation_data_source'].mode()[0])\n"
   ]
  },
  {
   "cell_type": "code",
   "execution_count": 321,
   "id": "07ec1935",
   "metadata": {},
   "outputs": [
    {
     "data": {
      "text/plain": [
       "name                      0\n",
       "gppd_idnr                 0\n",
       "capacity_mw               0\n",
       "latitude                  0\n",
       "longitude                 0\n",
       "primary_fuel              0\n",
       "commissioning_year        0\n",
       "owner                     0\n",
       "source                    0\n",
       "url                       0\n",
       "geolocation_source        0\n",
       "year_of_capacity_data     0\n",
       "generation_gwh_2014       0\n",
       "generation_gwh_2015       0\n",
       "generation_gwh_2016       0\n",
       "generation_gwh_2017       0\n",
       "generation_gwh_2018       0\n",
       "generation_data_source    0\n",
       "dtype: int64"
      ]
     },
     "execution_count": 321,
     "metadata": {},
     "output_type": "execute_result"
    }
   ],
   "source": [
    "df1.isnull().sum()"
   ]
  },
  {
   "cell_type": "markdown",
   "id": "7ef7fb93",
   "metadata": {},
   "source": [
    "Now we can see that there are no missing values in the dataset\n",
    "\n",
    "### Data Exploration(EDA)"
   ]
  },
  {
   "cell_type": "code",
   "execution_count": 322,
   "id": "acfa0cb8",
   "metadata": {},
   "outputs": [
    {
     "data": {
      "text/plain": [
       "array(['Central Electricity Authority'], dtype=object)"
      ]
     },
     "execution_count": 322,
     "metadata": {},
     "output_type": "execute_result"
    }
   ],
   "source": [
    "df1['generation_data_source'].unique()"
   ]
  },
  {
   "cell_type": "code",
   "execution_count": 323,
   "id": "46e2f8c4",
   "metadata": {},
   "outputs": [],
   "source": [
    "#genration data source contain same value for all field so wont be useful in predicting the fuel type or capacity gwh\n",
    "df1.drop(['generation_data_source'],axis=1,inplace=True)"
   ]
  },
  {
   "cell_type": "code",
   "execution_count": 324,
   "id": "7ff96870",
   "metadata": {},
   "outputs": [
    {
     "data": {
      "text/plain": [
       "array(['WRI1020239', 'WRI1019881', 'WRI1026669', 'IND0000001',\n",
       "       'IND0000002', 'IND0000003', 'IND0000004', 'IND0000005',\n",
       "       'IND0000006', 'IND0000007', 'IND0000008', 'IND0000009',\n",
       "       'IND0000010', 'IND0000011', 'IND0000012', 'IND0000013',\n",
       "       'IND0000014', 'WRI1019996', 'IND0000015', 'WRI1019938',\n",
       "       'WRI1019939', 'WRI1019904', 'IND0000016', 'IND0000017',\n",
       "       'WRI1019940', 'WRI1020238', 'WRI1026104', 'WRI1026069',\n",
       "       'WRI1026105', 'WRI1026768', 'WRI1026347', 'WRI1026068',\n",
       "       'WRI1026106', 'WRI1026107', 'WRI1026108', 'WRI1026109',\n",
       "       'WRI1026110', 'WRI1026111', 'WRI1026112', 'IND0000019',\n",
       "       'WRI1019905', 'IND0000020', 'IND0000021', 'IND0000022',\n",
       "       'IND0000023', 'IND0000025', 'IND0000024', 'WRI1019941',\n",
       "       'WRI1019882', 'IND0000026', 'IND0000027', 'IND0000028',\n",
       "       'IND0000029', 'IND0000030', 'IND0000031', 'IND0000032',\n",
       "       'WRI1019883', 'IND0000033', 'IND0000034', 'IND0000035',\n",
       "       'IND0000036', 'IND0000037', 'IND0000038', 'IND0000039',\n",
       "       'IND0000040', 'IND0000041', 'IND0000042', 'WRI1026675',\n",
       "       'WRI1026664', 'WRI1019942', 'WRI1019906', 'WRI1019907',\n",
       "       'IND0000044', 'WRI1019908', 'WRI1019909', 'IND0000045',\n",
       "       'IND0000046', 'WRI1019910', 'IND0000047', 'WRI1019943',\n",
       "       'WRI1019944', 'IND0000048', 'IND0000049', 'IND0000050',\n",
       "       'IND0000514', 'IND0000052', 'IND0000053', 'IND0000051',\n",
       "       'WRI1019945', 'IND0000054', 'IND0000055', 'IND0000056',\n",
       "       'IND0000057', 'IND0000058', 'WRI1019884', 'WRI1019997',\n",
       "       'IND0000059', 'WRI1019885', 'IND0000527', 'IND0000060',\n",
       "       'IND0000061', 'IND0000063', 'IND0000064', 'IND0000066',\n",
       "       'WRI1026079', 'IND0000067', 'IND0000068', 'IND0000069',\n",
       "       'IND0000070', 'WRI1019946', 'IND0000071', 'WRI1026113',\n",
       "       'WRI1026114', 'WRI1026655', 'WRI1026115', 'WRI1026116',\n",
       "       'WRI1026117', 'WRI1026118', 'WRI1026119', 'WRI1026120',\n",
       "       'WRI1026121', 'WRI1026122', 'WRI1026090', 'WRI1026075',\n",
       "       'WRI1026073', 'WRI1026074', 'WRI1026083', 'WRI1026123',\n",
       "       'WRI1026088', 'WRI1026124', 'WRI1026125', 'WRI1026126',\n",
       "       'WRI1026127', 'IND0000072', 'IND0000073', 'IND0000074',\n",
       "       'IND0000075', 'WRI1019947', 'WRI1019886', 'WRI1019887',\n",
       "       'WRI1019948', 'WRI1019949', 'IND0000078', 'IND0000076',\n",
       "       'IND0000515', 'IND0000079', 'IND0000080', 'IND0000081',\n",
       "       'IND0000082', 'IND0000083', 'IND0000084', 'IND0000085',\n",
       "       'WRI1019911', 'WRI1026128', 'WRI1026129', 'WRI1026672',\n",
       "       'WRI1026130', 'IND0000087', 'IND0000088', 'IND0000089',\n",
       "       'IND0000086', 'WRI1019902', 'IND0000090', 'WRI1019912',\n",
       "       'WRI1019950', 'WRI1019914', 'IND0000091', 'IND0000092',\n",
       "       'IND0000093', 'IND0000094', 'IND0000095', 'IND0000096',\n",
       "       'IND0000097', 'IND0000098', 'IND0000099', 'IND0000101',\n",
       "       'WRI1019951', 'IND0000528', 'IND0000102', 'IND0000103',\n",
       "       'WRI1019952', 'WRI1019953', 'IND0000104', 'IND0000105',\n",
       "       'IND0000106', 'WRI1019915', 'IND0000107', 'WRI1019998',\n",
       "       'IND0000108', 'IND0000109', 'WRI1026131', 'WRI1019913',\n",
       "       'WRI1026100', 'WRI1026132', 'WRI1026089', 'WRI1026133',\n",
       "       'WRI1026134', 'WRI1026135', 'WRI1020240', 'WRI1020241',\n",
       "       'WRI1026136', 'IND0000110', 'IND0000111', 'WRI1026662',\n",
       "       'IND0000114', 'WRI1026670', 'WRI1026095', 'WRI1026667',\n",
       "       'WRI1026101', 'IND0000117', 'IND0000115', 'WRI1026653',\n",
       "       'IND0000118', 'WRI1026671', 'IND0000539', 'WRI1019888',\n",
       "       'IND0000119', 'IND0000516', 'IND0000120', 'IND0000121',\n",
       "       'IND0000122', 'IND0000123', 'IND0000124', 'IND0000125',\n",
       "       'IND0000126', 'WRI1026793', 'IND0000127', 'IND0000128',\n",
       "       'IND0000129', 'IND0000130', 'WRI1019955', 'IND0000132',\n",
       "       'WRI1026658', 'IND0000112', 'IND0000134', 'IND0000136',\n",
       "       'WRI1019956', 'IND0000137', 'WRI1019916', 'IND0000135',\n",
       "       'WRI1026072', 'WRI1026137', 'WRI1026138', 'WRI1026139',\n",
       "       'WRI1026140', 'WRI1020242', 'WRI1026141', 'WRI1026142',\n",
       "       'WRI1026081', 'WRI1026143', 'WRI1020243', 'WRI1026144',\n",
       "       'WRI1026145', 'IND0000139', 'IND0000140', 'WRI1019958',\n",
       "       'IND0000141', 'WRI1019917', 'IND0000142', 'IND0000143',\n",
       "       'WRI1019957', 'IND0000144', 'WRI1019918', 'WRI1026795',\n",
       "       'WRI1026080', 'WRI1026656', 'WRI1026094', 'WRI1026794',\n",
       "       'IND0000138', 'WRI1026071', 'WRI1026146', 'IND0000145',\n",
       "       'IND0000146', 'IND0000148', 'IND0000149', 'IND0000150',\n",
       "       'WRI1026766', 'IND0000153', 'IND0000529', 'IND0000151',\n",
       "       'IND0000154', 'IND0000152', 'WRI1026661', 'WRI1026147',\n",
       "       'WRI1026148', 'IND0000155', 'WRI1019903', 'IND0000156',\n",
       "       'IND0000157', 'WRI1019889', 'WRI1019999', 'WRI1020000',\n",
       "       'WRI1020001', 'IND0000158', 'IND0000159', 'IND0000160',\n",
       "       'IND0000161', 'IND0000162', 'WRI1026149', 'WRI1026150',\n",
       "       'WRI1026096', 'WRI1026777', 'WRI1026099', 'WRI1026082',\n",
       "       'WRI1026339', 'IND0000166', 'IND0000167', 'IND0000168',\n",
       "       'IND0000169', 'IND0000170', 'IND0000171', 'IND0000172',\n",
       "       'IND0000173', 'IND0000174', 'IND0000175', 'IND0000176',\n",
       "       'IND0000177', 'WRI1019919', 'WRI1020002', 'IND0000178',\n",
       "       'IND0000179', 'WRI1019959', 'IND0000180', 'IND0000181',\n",
       "       'IND0000182', 'IND0000183', 'IND0000184', 'IND0000185',\n",
       "       'IND0000186', 'IND0000517', 'IND0000518', 'WRI1020003',\n",
       "       'IND0000187', 'IND0000188', 'IND0000189', 'IND0000190',\n",
       "       'IND0000191', 'WRI1019920', 'IND0000192', 'IND0000193',\n",
       "       'IND0000194', 'IND0000195', 'IND0000196', 'IND0000197',\n",
       "       'IND0000198', 'WRI1019960', 'IND0000530', 'WRI1019921',\n",
       "       'IND0000199', 'IND0000200', 'IND0000201', 'IND0000202',\n",
       "       'IND0000203', 'IND0000204', 'WRI1019961', 'WRI1019962',\n",
       "       'WRI1019963', 'WRI1019922', 'IND0000205', 'IND0000206',\n",
       "       'IND0000207', 'WRI1019923', 'WRI1019924', 'IND0000208',\n",
       "       'IND0000209', 'IND0000210', 'IND0000211', 'IND0000212',\n",
       "       'IND0000213', 'WRI1019890', 'IND0000214', 'IND0000215',\n",
       "       'IND0000216', 'IND0000217', 'WRI1026340', 'IND0000519',\n",
       "       'IND0000218', 'IND0000219', 'IND0000220', 'WRI1019925',\n",
       "       'IND0000221', 'IND0000222', 'IND0000223', 'IND0000224',\n",
       "       'IND0000225', 'IND0000226', 'WRI1020244', 'WRI1020004',\n",
       "       'IND0000227', 'IND0000163', 'IND0000164', 'IND0000165',\n",
       "       'WRI1026341', 'WRI1026151', 'WRI1026152', 'WRI1026778',\n",
       "       'WRI1026153', 'WRI1026154', 'WRI1026155', 'WRI1026156',\n",
       "       'WRI1026157', 'WRI1026158', 'WRI1026159', 'WRI1026160',\n",
       "       'WRI1026161', 'WRI1026162', 'WRI1026163', 'WRI1026164',\n",
       "       'WRI1026668', 'WRI1026342', 'WRI1026165', 'WRI1026086',\n",
       "       'WRI1026067', 'WRI1026775', 'WRI1026848', 'WRI1019891',\n",
       "       'IND0000228', 'IND0000230', 'IND0000531', 'IND0000229',\n",
       "       'IND0000231', 'IND0000232', 'IND0000233', 'WRI1026343',\n",
       "       'WRI1026674', 'WRI1019964', 'WRI1019965', 'IND0000234',\n",
       "       'IND0000235', 'IND0000236', 'IND0000237', 'IND0000238',\n",
       "       'IND0000239', 'IND0000240', 'WRI1026344', 'IND0000241',\n",
       "       'WRI1026166', 'WRI1026167', 'WRI1026168', 'WRI1026345',\n",
       "       'WRI1026790', 'WRI1026169', 'WRI1026346', 'IND0000242',\n",
       "       'IND0000243', 'IND0000244', 'IND0000245', 'IND0000246',\n",
       "       'IND0000247', 'IND0000248', 'WRI1019966', 'IND0000249',\n",
       "       'WRI1019967', 'WRI1020005', 'IND0000250', 'IND0000252',\n",
       "       'IND0000253', 'IND0000254', 'IND0000255', 'WRI1019926',\n",
       "       'IND0000520', 'WRI1019892', 'IND0000256', 'IND0000257',\n",
       "       'WRI1019968', 'IND0000258', 'IND0000259', 'WRI1019969',\n",
       "       'IND0000260', 'IND0000261', 'IND0000532', 'IND0000262',\n",
       "       'IND0000263', 'IND0000264', 'IND0000265', 'IND0000266',\n",
       "       'IND0000267', 'IND0000268', 'IND0000270', 'IND0000271',\n",
       "       'IND0000272', 'WRI1019893', 'IND0000273', 'IND0000274',\n",
       "       'IND0000275', 'WRI1026348', 'WRI1026070', 'WRI1019927',\n",
       "       'IND0000276', 'WRI1019970', 'WRI1019971', 'WRI1020014',\n",
       "       'WRI1020015', 'IND0000278', 'IND0000279', 'IND0000280',\n",
       "       'WRI1019928', 'WRI1019972', 'IND0000281', 'IND0000282',\n",
       "       'WRI1026077', 'WRI1026170', 'WRI1020245', 'WRI1026171',\n",
       "       'WRI1026172', 'WRI1026173', 'WRI1026093', 'WRI1026092',\n",
       "       'WRI1026174', 'WRI1026175', 'IND0000283', 'IND0000287',\n",
       "       'IND0000286', 'IND0000521', 'WRI1020006', 'WRI1019973',\n",
       "       'WRI1019974', 'WRI1019975', 'WRI1019976', 'IND0000288',\n",
       "       'WRI1020007', 'IND0000289', 'IND0000291', 'IND0000292',\n",
       "       'WRI1019977', 'IND0000293', 'IND0000294', 'IND0000522',\n",
       "       'WRI1020008', 'IND0000533', 'IND0000297', 'IND0000298',\n",
       "       'IND0000299', 'IND0000300', 'IND0000301', 'IND0000302',\n",
       "       'WRI1019894', 'IND0000303', 'IND0000304', 'WRI1019895',\n",
       "       'IND0000305', 'IND0000306', 'WRI1026349', 'IND0000307',\n",
       "       'IND0000308', 'WRI1026676', 'IND0000309', 'IND0000284',\n",
       "       'IND0000285', 'WRI1026350', 'WRI1026064', 'WRI1026176',\n",
       "       'WRI1026351', 'WRI1026352', 'WRI1026177', 'WRI1026178',\n",
       "       'WRI1026179', 'WRI1026065', 'IND0000310', 'IND0000311',\n",
       "       'IND0000312', 'WRI1026091', 'WRI1026085', 'IND0000313',\n",
       "       'IND0000314', 'IND0000315', 'IND0000316', 'IND0000317',\n",
       "       'IND0000318', 'IND0000319', 'IND0000320', 'IND0000321',\n",
       "       'IND0000323', 'IND0000324', 'IND0000325', 'IND0000326',\n",
       "       'WRI1019954', 'IND0000540', 'IND0000327', 'IND0000328',\n",
       "       'IND0000329', 'WRI1020017', 'IND0000330', 'IND0000331',\n",
       "       'IND0000333', 'IND0000334', 'IND0000335', 'IND0000336',\n",
       "       'IND0000337', 'IND0000338', 'IND0000339', 'IND0000340',\n",
       "       'IND0000341', 'IND0000342', 'IND0000343', 'IND0000344',\n",
       "       'IND0000345', 'IND0000346', 'IND0000523', 'WRI1019978',\n",
       "       'IND0000347', 'IND0000348', 'IND0000349', 'WRI1026180',\n",
       "       'WRI1026663', 'WRI1026750', 'WRI1026751', 'WRI1026181',\n",
       "       'WRI1026182', 'WRI1026183', 'WRI1026184', 'WRI1026673',\n",
       "       'WRI1026788', 'WRI1026792', 'WRI1026791', 'WRI1026185',\n",
       "       'WRI1026186', 'WRI1026187', 'IND0000350', 'IND0000351',\n",
       "       'WRI1019896', 'IND0000354', 'IND0000355', 'IND0000356',\n",
       "       'WRI1019929', 'IND0000357', 'IND0000358', 'WRI1019930',\n",
       "       'IND0000359', 'IND0000360', 'IND0000361', 'WRI1019897',\n",
       "       'IND0000362', 'WRI1019931', 'IND0000363', 'IND0000364',\n",
       "       'IND0000365', 'IND0000366', 'IND0000367', 'IND0000368',\n",
       "       'WRI1019979', 'IND0000369', 'WRI1019898', 'IND0000370',\n",
       "       'IND0000371', 'IND0000372', 'IND0000373', 'IND0000374',\n",
       "       'IND0000375', 'IND0000376', 'IND0000377', 'IND0000378',\n",
       "       'IND0000379', 'IND0000380', 'IND0000381', 'WRI1026679',\n",
       "       'IND0000352', 'IND0000353', 'WRI1026188', 'WRI1026189',\n",
       "       'WRI1026190', 'WRI1026191', 'WRI1026192', 'WRI1026193',\n",
       "       'WRI1026194', 'WRI1026770', 'WRI1026195', 'WRI1026196',\n",
       "       'WRI1026197', 'WRI1026198', 'WRI1026752', 'WRI1026666',\n",
       "       'WRI1026199', 'WRI1026084', 'WRI1026678', 'IND0000382',\n",
       "       'IND0000383', 'IND0000384', 'IND0000385', 'WRI1019980',\n",
       "       'IND0000534', 'IND0000386', 'IND0000387', 'IND0000388',\n",
       "       'IND0000389', 'IND0000390', 'WRI1019932', 'WRI1019981',\n",
       "       'WRI1019982', 'WRI1019983', 'IND0000391', 'IND0000392',\n",
       "       'WRI1019933', 'IND0000393', 'IND0000394', 'IND0000395',\n",
       "       'WRI1020009', 'IND0000396', 'WRI1019984', 'IND0000397',\n",
       "       'IND0000524', 'IND0000398', 'IND0000399', 'IND0000400',\n",
       "       'IND0000401', 'IND0000402', 'IND0000403', 'IND0000404',\n",
       "       'IND0000405', 'IND0000406', 'WRI1019985', 'IND0000535',\n",
       "       'IND0000407', 'IND0000408', 'IND0000409', 'WRI1019899',\n",
       "       'WRI1019934', 'WRI1019986', 'WRI1019900', 'WRI1026789',\n",
       "       'IND0000411', 'IND0000412', 'IND0000413', 'IND0000414',\n",
       "       'IND0000415', 'IND0000416', 'IND0000417', 'IND0000525',\n",
       "       'IND0000418', 'IND0000536', 'WRI1019987', 'IND0000419',\n",
       "       'IND0000420', 'IND0000421', 'IND0000422', 'IND0000423',\n",
       "       'IND0000424', 'IND0000425', 'IND0000426', 'IND0000427',\n",
       "       'IND0000428', 'IND0000429', 'IND0000430', 'IND0000431',\n",
       "       'IND0000432', 'IND0000433', 'IND0000434', 'IND0000435',\n",
       "       'WRI1026771', 'WRI1026773', 'WRI1026772', 'WRI1026200',\n",
       "       'WRI1026201', 'WRI1026657', 'WRI1026202', 'WRI1026203',\n",
       "       'WRI1026204', 'WRI1026076', 'WRI1026205', 'WRI1026206',\n",
       "       'WRI1026207', 'WRI1026208', 'WRI1026209', 'WRI1026210',\n",
       "       'WRI1026786', 'WRI1026785', 'WRI1026784', 'IND0000410',\n",
       "       'WRI1026211', 'WRI1026212', 'WRI1026677', 'WRI1026213',\n",
       "       'WRI1026764', 'WRI1026754', 'WRI1026755', 'WRI1026756',\n",
       "       'WRI1026757', 'WRI1026762', 'WRI1026763', 'WRI1026214',\n",
       "       'WRI1026087', 'IND0000436', 'WRI1020016', 'WRI1019988',\n",
       "       'IND0000437', 'IND0000438', 'IND0000439', 'IND0000440',\n",
       "       'IND0000441', 'IND0000442', 'IND0000443', 'IND0000444',\n",
       "       'IND0000445', 'IND0000537', 'IND0000446', 'IND0000447',\n",
       "       'IND0000450', 'IND0000449', 'IND0000448', 'IND0000526',\n",
       "       'IND0000451', 'IND0000452', 'WRI1019989', 'IND0000453',\n",
       "       'WRI1019990', 'IND0000454', 'IND0000455', 'IND0000456',\n",
       "       'IND0000457', 'IND0000458', 'IND0000459', 'IND0000460',\n",
       "       'IND0000461', 'IND0000462', 'IND0000463', 'WRI1019991',\n",
       "       'IND0000464', 'IND0000465', 'IND0000538', 'WRI1019935',\n",
       "       'IND0000466', 'IND0000468', 'IND0000467', 'WRI1026758',\n",
       "       'WRI1026774', 'WRI1026767', 'WRI1026660', 'WRI1026215',\n",
       "       'WRI1026102', 'WRI1026216', 'WRI1026787', 'WRI1026078',\n",
       "       'WRI1026217', 'WRI1026654', 'WRI1026659', 'WRI1026218',\n",
       "       'WRI1026098', 'WRI1026097', 'WRI1026765', 'IND0000469',\n",
       "       'IND0000470', 'IND0000471', 'IND0000472', 'IND0000473',\n",
       "       'IND0000474', 'IND0000475', 'IND0000476', 'IND0000477',\n",
       "       'IND0000478', 'IND0000479', 'IND0000480', 'WRI1026759',\n",
       "       'IND0000481', 'IND0000482', 'IND0000483', 'IND0000484',\n",
       "       'IND0000485', 'WRI1019992', 'IND0000486', 'IND0000487',\n",
       "       'IND0000488', 'IND0000489', 'IND0000491', 'WRI1026066',\n",
       "       'IND0000492', 'IND0000493', 'IND0000494', 'IND0000495',\n",
       "       'IND0000496', 'IND0000497', 'WRI1020010', 'WRI1020011',\n",
       "       'WRI1019936', 'IND0000499', 'WRI1019993', 'WRI1020012',\n",
       "       'IND0000500', 'IND0000501', 'IND0000502', 'WRI1020013',\n",
       "       'IND0000503', 'IND0000504', 'IND0000505', 'IND0000506',\n",
       "       'WRI1026103', 'WRI1026665', 'WRI1026680', 'WRI1026219',\n",
       "       'WRI1019937', 'IND0000507', 'IND0000508', 'WRI1019994',\n",
       "       'IND0000509', 'IND0000510', 'WRI1026220', 'WRI1026221',\n",
       "       'WRI1026760', 'WRI1026753', 'WRI1026769', 'IND0000511',\n",
       "       'WRI1019995', 'IND0000512', 'IND0000513', 'WRI1026222',\n",
       "       'WRI1026776', 'WRI1019901', 'WRI1026761'], dtype=object)"
      ]
     },
     "execution_count": 324,
     "metadata": {},
     "output_type": "execute_result"
    }
   ],
   "source": [
    "df['gppd_idnr'].unique()"
   ]
  },
  {
   "cell_type": "code",
   "execution_count": 325,
   "id": "2ff0804e",
   "metadata": {},
   "outputs": [
    {
     "data": {
      "text/plain": [
       "array(['ACME Solar Tower', 'ADITYA CEMENT WORKS',\n",
       "       'AES Saurashtra Windfarms', 'AGARTALA GT', 'AKALTARA TPP',\n",
       "       'AKRIMOTA LIG', 'ALIYAR', 'ALLAIN DUHANGAN', 'ALMATTI DAM',\n",
       "       'AMAR KANTAK', 'AMARAVATI TPP', 'ANANDPUR SAHIB ST-I&II',\n",
       "       'ANAPARA \"C\"', 'ANDHRA', 'ANOOPGARH ST I&II', 'ANPARA', 'ANTA GT',\n",
       "       'ANUPPUR', 'ANUPUR TPP', 'ARVINDNAGAR SUGAR', 'ASHOKNAGAR MILL',\n",
       "       'ATHANI SUGAR', 'AURAIYA GT', 'AVANTHA BHANDAR TPP',\n",
       "       'AWARPUR CEMENT PLANT', 'Abhijeet', 'Amarsar Solar Power Plant',\n",
       "       'Anabura Wind Farm', 'Ananthapur - Meil Solar Power Plant',\n",
       "       'Andrha Lake Wind Farm', 'Anikkadavu Wind Farm',\n",
       "       'Arasinagundi Wind Farm', 'Askandra - DREPL Solar Power Plant',\n",
       "       'Askandra - Electromech Maritech Solar Power Plant',\n",
       "       'Askandra - Finehope Solar Power Plant',\n",
       "       'Askandra - Khaya Solar Power Plant',\n",
       "       'Askandra - Newton Solar Power Plant',\n",
       "       'Askandra - Saidham Solar Power Plant',\n",
       "       'Askandra - Vasavi Solar Power Plant', 'BADARPUR', 'BAGALKOT ICP',\n",
       "       'BAGLIHAR HEP', 'BAGLIHAR HEP-II', 'BAIRA SIUL', 'BAKRESWAR',\n",
       "       'BALCO TPP', 'BALIMELA', 'BALLARPUR BILT POWER', 'BAMANIA CEMENT',\n",
       "       'BANDAKHAR TPP', 'BANDEL', 'BANER', 'BANSAGAR (I)',\n",
       "       'BANSAGAR (II)', 'BANSAGAR (III)', 'BANSAGAR (IV)',\n",
       "       'BANSWARA CEMENT', 'BARADARHA TPP', 'BARAMURA', 'BARAUNI', 'BARGI',\n",
       "       'BARH STPP II', 'BARKHERA TPP', 'BARSINGAR LIGNITE',\n",
       "       'BASIN BRIDGE GT', 'BASPA', 'BASSI', 'BCPL Wind Farm',\n",
       "       'BEL Chikhalhol Wind Farm', 'BELA NAGPUR', 'BELGAUM UGAR',\n",
       "       'BELLAD-BAGEWADI', 'BELLARY DG', 'BELLARY HOTHUR', 'BELLARY JANKI',\n",
       "       'BELLARY TPS', 'BHADRA', 'BHADRAVATI MILL', 'BHAKRA',\n",
       "       'BHANDARA STEEL MILL', 'BHANDARA VARAM', 'BHANDARDHARA',\n",
       "       'BHATGARH', 'BHATSA', 'BHAVNAGAR TPP', 'BHAWANI KATTALAI -II',\n",
       "       'BHAWANI KATTALAI -III', 'BHAWANI KATTALAI BARRAGE',\n",
       "       'BHIGWAN MILL', 'BHILAI TPP', 'BHIRA', 'BHIRA TAIL RACE',\n",
       "       'BHIVPURI', 'BHUSAWAL', 'BILIYAKALAN PLANT', 'BINA REFINERY',\n",
       "       'BINA TPP', 'BINANI CEMENT PLANT', 'BINJKOTE', 'BINWA',\n",
       "       'BIRSINGHPUR', \"BOKARO A ''EXP''\", 'BOKARO B', 'BONGAIGAON TPP',\n",
       "       'BP Brahmanvel Wind Farm', 'BRAMHAPURAM DG', 'BSES Kerala CCGT',\n",
       "       'BUDGE BUDGE', 'BUDHIL', 'BUTIBORI PLANT', 'BUTIBORI TPP -II',\n",
       "       'Bamani Solar Power Plant', 'Bamanwali Solar Power Plant',\n",
       "       'Bannari Amman Spinning Mills Wind Power Project',\n",
       "       'Bap - GIS 1-2 Solar Power Plant', 'Bap - GIS 3 Solar Power Plant',\n",
       "       'Bap - OPG Solar Power Plant',\n",
       "       'Bap - Punj Lloyd Solar Power Plant',\n",
       "       'Bapodar - Hiraco Solar Power Plant',\n",
       "       'Bapodar - MBEDL Solar Power Plant',\n",
       "       'Bavadi Barsingha - Giriraj Solar Power Plant',\n",
       "       'Bavadi Barsingha - LEPL Solar Power Plant', 'Belagau Wind Farm',\n",
       "       'Belagwi Wind Turbines', 'Belgaum Gadag Wind Farm',\n",
       "       'Belgaum Wind farm', 'Bera Wind Farm',\n",
       "       'Bhadrada Solar Power Plant', 'Bhat Khedi Wind Farm',\n",
       "       'Bhatkota Solar Power Plant', 'Bitta Solar Power Plant',\n",
       "       'Boha Solar Power Plant', 'Bonada Solar Power Plant',\n",
       "       'CHAKABURA TPP', 'CHAMERA II', 'CHAMERA-I', 'CHAMERA-III',\n",
       "       'CHANDA CEMENT WORKS', 'CHANDERIA CEMENT WORKS',\n",
       "       'CHANDERIA SMELTER', 'CHANDRAPUR GUPTA', 'CHANDRAPUR MANIKGHAR',\n",
       "       'CHANDRAPURA', 'CHANDRAPUR_Coal', 'CHANJU-I', 'CHEMBUKADAVU-II',\n",
       "       'CHENANI I to III', 'CHHABRA TPS', 'CHIBRO (YAMUNA)', 'CHILLA',\n",
       "       'CHUTAK', 'CHUZACHEN', 'CORE GREEN SUGAR',\n",
       "       'Chandrapur Solar Power Plant', 'Charanka Solar Power Plant',\n",
       "       'Chhadavada Wind Farm', 'Chingerbandh Solar Power Plant', 'D.P.L.',\n",
       "       'DADRI (NCTPP)', 'DADRI GT', 'DAE RAJASTHAN', 'DAHANU FRESNEL',\n",
       "       'DAMODARAM SANJEEVAIAH', 'DANAPUR BMM', 'DAUND SUGAR',\n",
       "       'DAVANGERE MILL', 'DEHAR', 'DERANG', 'DGEN MEGA CCCP', 'DHAKRANI',\n",
       "       'DHALIPUR', 'DHANU', 'DHARIWAL INF TPP', 'DHAULI GANGA', 'DHOLPUR',\n",
       "       'DHUVARAN CCPP', 'DIGHE WORKS', 'DIKCHU', 'DIMBE', 'DLF',\n",
       "       'DNYANESHWAR MILL', 'DOLVI ISPAT', 'DONKARAYI', 'DOYANG',\n",
       "       'DUDH GANGA', 'DUGGAVATHI MILL', 'DULHASTI', 'DURG SPONGE IRON',\n",
       "       'DURGAPUR', 'DURGAPUR STEEL TPS', 'Dadri Solar Power Plant',\n",
       "       'Dandeli Mill', 'Davangere Wind Farm', 'Deh Solar Power Plant',\n",
       "       'Devgarh Wind Farm', 'Dhabla Sondhya Solar Power Plant',\n",
       "       'Dhanera Solar Power Plant', 'Dhank - Aravali Solar Power Plant',\n",
       "       'Dhursar', 'Diwakar', 'Dugar Solar Power Plant', 'E.G. CANAL',\n",
       "       'ELDARI', 'EMCO Sonurle Wind Farm', 'ESSAR GT IMP.',\n",
       "       'Enercon Babarzar Wind Farm', 'Enercon Chitradurga Wind Farm',\n",
       "       'Enercon Sonoshi Wind Farm', 'Essel Mining Wind Farm',\n",
       "       'FARAKKA STPS', 'F_BAD CCGT',\n",
       "       'Frost International Palankottai Wind Farm', 'G.I.P.C.L. GT',\n",
       "       'GACL Kutch Wind Farm', 'GADARWARA', 'GADEPAN WORKS', 'GAJ',\n",
       "       'GAMA CCPP  Module - 1', 'GANDHAR GT', 'GANDHARBAL',\n",
       "       'GANDHI NAGAR', 'GANDHI SAGAR', 'GANGUWAL', 'GAUTAMI CCCP', 'GEPL',\n",
       "       'GFL Gudhepanchgani', 'GHANVI', 'GHAT PRABHA', 'GHATGHAR PSS',\n",
       "       'GHTP (LEH.MOH.)', 'GHUGUS LMEL', 'GIRI BATA', 'GIWPP Telagi',\n",
       "       'GMR WARORA TPP', 'GODAVARI GT', 'GOINDWAL SAHIB TPP',\n",
       "       'GRACE INDUSTRIES', 'GREL CCPP (RAJAMUNDRY)', 'GULBARGA CEMENT',\n",
       "       'GUMTI', 'Gadag Wind Farm', 'Gadna 1 Solar Power Plant',\n",
       "       'Gadna 2 Solar Power Plant', 'Gandhinagar Solar Power Plant',\n",
       "       'Garacharma Solar Power Plant', 'Godawari',\n",
       "       'Godelai Solar Power Plant', 'Gondri Solar Power Plant',\n",
       "       'Gorsar Wind Farm', 'Grewal Solar Power Plant', 'Gujurat Solar On',\n",
       "       'Gulabpura Solar Power Plant', 'Gwal Pahari Solar Power Plant',\n",
       "       'HALDIA', 'HAMPI', 'HAPURI MILL', 'HASDEOBANGO', 'HAVALGA SUGAR',\n",
       "       'HAZIRA CCCP', 'HAZIRA-GSECL', 'HINGOLI MILL', 'HIRAKUD I&II',\n",
       "       'HIRIYUR BIOMASS', 'HZL Gadag Wind Farm',\n",
       "       'HZL Nandurbar Maharashtra', 'HZL Palladum Wind Farm',\n",
       "       'HZL Parewar Wind Farm', 'HZL Samana Wind Farm', 'H_GANJ B',\n",
       "       'Hirewaddatti Wind Farm', 'Horti Solar Power Plant', 'I.B.VALLEY',\n",
       "       'I.P.GT', 'IDAMALAYAR', 'IDUKKI', 'IEPL  BELA TPP',\n",
       "       'IL&FS Kaladeh Wind Farm', 'IND BARATH TPP',\n",
       "       'INDIA POWER TPP(HALDIA  HIRANMAYE )', 'INDIRA SAGAR',\n",
       "       'INDRA GANDHI STPP', 'ITPCL TPP', 'Ingaleshwar Wind Farm',\n",
       "       'Isanpur Solar Power Plant', 'Itnal Solar Power Plant', 'J.SAGAR',\n",
       "       'JAISALMER GODAWARI', 'JALDHAKA I&II', 'JALLIPPA KAPURDI TPP',\n",
       "       'JAYKAYPURAM PLANT', 'JAYPEE BELA CEMENT', 'JAYPEE REWA CEMENT',\n",
       "       'JAYPEE SIDHI CEMENT', 'JEGURUPADU GT', 'JOG', 'JOJBERA',\n",
       "       'JORETHANG LOOP', 'JSW RATNAGIRI TPP',\n",
       "       'Jafrabad Solar Power Plant', 'Jamuria Solar Power Plant',\n",
       "       'Jangi Wind Farm', 'Jangi village wind farm', 'Jeloo Wind Farm',\n",
       "       'Jodiya Wind Farm', 'K.N. Ram Kaltek Wind Farm', 'KADAMPARI',\n",
       "       'KADANA', 'KADRA', 'KAHALGAON', 'KAIGA', 'KAKATIYA TPP', 'KAKKAD',\n",
       "       'KAKRAPARA', 'KALINADI', 'KALINADI SUPA', 'KALISINDH', 'KALLADA',\n",
       "       'KALLUR GRINDING', 'KAMAL SPONGE', 'KAMALANGA', 'KANHER',\n",
       "       'KARAD MILL', 'KARAIKAL', 'KARBI LANGPI', 'KARCHAM WANGTOO',\n",
       "       'KARGIL', 'KARUPPUR GT', 'KASAIPALLI', 'KASARGODE DG',\n",
       "       'KASHANG INTEGRATED', 'KASHIPUR CCPP', 'KASRAWAD FACTORY',\n",
       "       'KATGHORA TPP', 'KATHALGURI GT', 'KAWAI TPP', 'KAWAS GT',\n",
       "       'KAYAM KULAM GT', 'KCSF SANGUR', 'KHADAVASLA I&II',\n",
       "       'KHAMBERKHERA IPP', 'KHANDONG', 'KHARA', 'KHATIMA', 'KHODRI',\n",
       "       'KHOPOLI', 'KHOPOLI WORKS', 'KISHENGANGA', 'KM DODDI SUGAR',\n",
       "       'KODASALI', 'KODAYAR-I&II', 'KODERMA', 'KOJIKODE DG', 'KOLAGHAT',\n",
       "       'KOLDAM', 'KOLHAPUR HEMARUS', 'KOLHAPUR KAGAL', 'KOLHAPUR KUMBHI',\n",
       "       'KOLLEGAL SUGAR', 'KONASEEMA CCCP', 'KONDAPALLI GT', 'KOPILI',\n",
       "       'KOPPA SUGAR', 'KOPPAL HKMP', 'KORADI', 'KORBA STPS', 'KORBA-EAST',\n",
       "       'KORBA-WEST', 'KOSI', 'KOTA', 'KOTA COMPLEX', 'KOTESHWAR', 'KOTLA',\n",
       "       'KOVILKALAPPAL', 'KOYNA COMPLEX', 'KS Oils Chinnakuyili Wind Farm',\n",
       "       'KUDGI', 'KULHAL', 'KUNDAH I-V', 'KUNDANKULAM', 'KUNDARGI MILL',\n",
       "       'KUNDARKI TPP', 'KUTCH LIG.', 'KUTHUNGAL', 'KUTTALAM GT',\n",
       "       'KUTTIADI', 'KUTTIYADI Add ext', 'KVK Energy Solar Project',\n",
       "       'KYMORE', 'KYREDEMKULAI', 'K_GUDEM', 'K_GUDEM NEW', 'K_KHEDA II',\n",
       "       'Kaladonger Wind Farm', 'Kamuthi Solar Power Plant',\n",
       "       'Karmaria Solar Power Plant', 'Karur Textile Park Wind Farm',\n",
       "       'Kathauti 1 Solar Power Plant', 'Kathauti 2 Solar Power Plant',\n",
       "       'Katol - Citra Solar Power Plant',\n",
       "       'Katol - Sepset Solar Power Plant', 'Khadoda Solar Power Plant',\n",
       "       'Khandala Solar Power Plant',\n",
       "       'Khetusar - Northern Solar Power Plant',\n",
       "       'Khetusar - Suryauday Solar Power Plant',\n",
       "       'Khilchipur Solar Power Plant',\n",
       "       'Khirsara - Unity Solar Power Plant',\n",
       "       'Khirsara - Welspun Solar Power Plant', 'Khirwa Solar Power Plant',\n",
       "       'Khori Wind Farm', 'Kohinoor Wind Farm',\n",
       "       'Komal West Solar Power Plant', 'Kosa Wind Farm',\n",
       "       'Kottamangalam Wind Farm', 'Kottathara Village Wind Farm',\n",
       "       'Kudankulam', 'LAKHERI CEMENT PLANT', 'LAKWA GT', 'LALITPUR TPP',\n",
       "       'LARA', 'LARGI', 'LEIMAKHONG DG', 'LIGANAMAKKI', 'LIKIM RO',\n",
       "       'LITL Uthumalai', 'LNJP Bahla Basti Wind Farm', 'LODHIVALI',\n",
       "       'LOKMANGAL SUGAR ETHANOL', 'LOKTAK', 'LOWER JHELUM',\n",
       "       'LOWER JURALA', 'LOWER LAGYAP', 'LOWER METTUR', 'LOWER PERIYAR',\n",
       "       'LOWER SILERU', 'LTML Wind Energy Project in Tamil Nadu',\n",
       "       'LVS POWER DG', 'Lakhewali Solar Power Plant',\n",
       "       'Lakhmirwala Solar Power Plant', 'Lallian Kalan Solar Power Plant',\n",
       "       'Lalpur Wind Farm', 'Landewadi Wind Farm',\n",
       "       'Lathi Solar Power Plant', 'Liberty Oil Satara Wind Farm',\n",
       "       'M.A.P.P.', 'MACHKUND', 'MADHAVAMANTRI', 'MADHIKHEDA',\n",
       "       'MAHADEV PRASAD STPP', 'MAHAN TPP', 'MAHATMA GANDHI TPP',\n",
       "       'MAHATMA SUGAR', 'MAHI BAJAJ I&II', 'MAHUL REFINERY',\n",
       "       'MAIHAR CEMENT PLANT', 'MAITHON', 'MAITHON RB TPP', 'MALANA',\n",
       "       'MALLARPUR', 'MANERI BHALI', 'MANGALORE REFINERY', 'MANGAON CCPP',\n",
       "       'MANGLAM CEMENT', 'MANI DPH', 'MANIKDOH', 'MANIKGARH CEMENT',\n",
       "       'MANIYAR', 'MAQSOODPUR  IPP', 'MARATHA CEMENT PLANT', 'MARWA TPP',\n",
       "       'MATATILLA', 'MEJA STPP', 'MEJIA', 'MEJIA TPS EXT',\n",
       "       'MELAMARUTHUR (MUTHIARA)', 'METTUR', 'METTUR DAM',\n",
       "       'METTUR TPS EXT', 'MIHAN TPP', 'MOHAMAD PUR', 'MOHARA',\n",
       "       'MONARCHAK CCPP', 'MORDI PLANT', 'MOUDA STPS', 'MOYAGCHU', 'MOYAR',\n",
       "       'MRMPL Mudari Wind Farm', 'MSPL Wind Farm', 'MUDHOL CEMENT',\n",
       "       'MUKERIAN I -IV', 'MUL GRETA', 'MUMBAI BPCL', 'MUMBAI JINDAL',\n",
       "       'MUMBAI ONGC', 'MUNDRA TPP', 'MUNDRA UMPP', 'MUNIRABAD',\n",
       "       'MUNOLI DISTILLERY', 'MURBAD PLANT', 'MUZAFFARPUR', 'MYNTDU',\n",
       "       'Maloshi Wind Farm', 'Mandrup - Giriraj Solar Power Plant',\n",
       "       'Megha Solar Plant', 'Mirpur Kalan - Alianz Eco Solar Power Plant',\n",
       "       'Mirpur Kalan - Nexgen Solux Solar Power Plant',\n",
       "       'Mithapur Solar Power Plant', 'Mokal Wind Farm', 'Mokla Wind farm',\n",
       "       'Mulshi Solar Power Plant',\n",
       "       'Muradwala Dal Singh Solar Power Plant', 'N.A.P.S',\n",
       "       'NABI NAGAR TPP', 'NAGARJUNA SAGAR', 'NAGARJUNA SAGAR   TPD',\n",
       "       'NAGDA GRASIM', 'NAGOTHANE COMPLEX', 'NAGPUR GMT', 'NAGPUR MILL',\n",
       "       'NAGPUR SPONGE IRON', 'NAMRUP GT', 'NARASINGPUR', 'NARAYANPUR',\n",
       "       'NARIMANGLAM', 'NASIK', 'NASIK SINNAR', 'NASIK TPP  PH 1',\n",
       "       'NATHPA JHAKRI', 'NAWAPARA', 'NEPANAGAR MILL', 'NEW UMTRU',\n",
       "       'NEYVELI FST EXT', 'NEYVELI ST I', 'NEYVELI ST II',\n",
       "       'NEYVELI TPS EXP -II', 'NEYVELI TPS(Z)', 'NIGRI',\n",
       "       'NIMBAHERA JK CEMENT', 'NIMOO BAZGO', 'NIRGAJANI(Ganga Canal)',\n",
       "       'NITIN PLANT', 'NIWARI TPP', 'NIZAM SAGAR',\n",
       "       'NMDC Anehalu Wind Farm', 'NORTH CHENNAI',\n",
       "       'NORTH CHENNAI EXTENSION', 'NSL Wind Farm', 'NURANANG',\n",
       "       'N_SAGAR LBC', 'N_SAGAR RBC', 'Nagda Hills Wind Energy project',\n",
       "       'Nagercoli Wind Farm', 'Naini Solar Power Plant',\n",
       "       'Nallakonda Wind Farm', 'Nargund Wind Farm',\n",
       "       'Nokh - GGEL Solar Power Plant',\n",
       "       'Nokh - Precision Technik Solar Power Plant',\n",
       "       'Nokha Daiya Solar Power Plant', 'NuPower Tirunelveli Wind Farm',\n",
       "       'OBRA', 'OBRA-A', 'OMKARESHWAR', 'ONGC Jerat Wind Farm',\n",
       "       'ONGC Kutch Wind Farm', 'P.NALLUR CCGT', 'PAGUTHAN', 'PAINAMPURAM',\n",
       "       'PAITHON', 'PALATANA CCPP', 'PALLIVASAL', 'PAMPORE GT', 'PANCHET',\n",
       "       'PANIPAT', 'PANNIAR', 'PAPANASAM', 'PARAS', 'PARBATI-III',\n",
       "       'PARBHANI GANGAKHED', 'PARE', 'PARICHA', 'PARLI', 'PARSEN_S VALLE',\n",
       "       'PATALGANGA', 'PATHADI TPS PH -I', 'PATHRI', 'PAWANA',\n",
       "       'PEDDAPURAM CCGT(Samalkot)', 'PENCH', 'PENNA AHOBELAM', 'PERIYAR',\n",
       "       'PIPAVAV CCCP', 'POCHAMPAD', 'PONG', 'PORINGALKUTTU',\n",
       "       'PORINGALKUTTU L', 'PRAGATI CCCP -III', 'PRAGATI CCGT',\n",
       "       'PRIYADARSHNI JURALA', 'PRYAGRAJ (BARA) TPP', 'PULICHINTALA',\n",
       "       'PUNE MILL', 'PURULIA PSS', 'PYKARA', 'PYKARA ALIMATE',\n",
       "       'Panandhro Solar Power Plant', 'Patan Taluka Wind Farm',\n",
       "       'Patnaik Hatti Wind Farm', 'Patnaik Jamnagar Wind Farm',\n",
       "       'Patodi Solar Power Plant', 'Phagi Solar Power Plant',\n",
       "       'Pokhran FVE Solar Power Plant', 'Pokhran THE Solar Power Plant',\n",
       "       'Powerica Jangi Vandjiya', 'Powerica Kutch Wind Farm',\n",
       "       'Powerica Theni Wind Farm', 'Powerica Tirunelveli Wind Farm',\n",
       "       'Pratapgarh Solar Power Plant', 'Precious Solar Power Plant',\n",
       "       'Punjawa - Sikh Wala Solar Power Plant', 'R.A.P.S.', 'R.P.SAGAR',\n",
       "       'RABRIYAWAS CEMENT', 'RADHANAGRI', 'RAGHUNATHPUR TPP PH-I',\n",
       "       'RAICHUR', 'RAICHUR STEEL', 'RAIGARH TPP', 'RAIKHEDA',\n",
       "       'RAJASHREE CEMENT', 'RAJGHAT', 'RAJGHAT (MP)',\n",
       "       'RAJIV GANDHI  TPS HISAR', 'RAJPURA DARIBA MINE', 'RAJPURA TPP',\n",
       "       'RAMANAGARAM MILL', 'RAMGANGA', 'RAMGARH GT', 'RAMMAM', 'RAMPUR',\n",
       "       'RANGANADI', 'RANGIT-III', 'RANJANI MILL', 'RANJIT SAGAR',\n",
       "       'RAS CEMENT PLANT', 'RATIJA TPP', 'RATNAGIRI GAS', 'RAYAL SEEMA',\n",
       "       'RELIANCE ENERGY', 'RENGALI', 'RIHAND', 'RIHAND_Hydro',\n",
       "       'RITHALA CCCP', 'RMC MANGROL', 'ROKHIA GT', 'ROPAR',\n",
       "       'ROSA TPP PH - 1', 'RSMNL Wind Farm', 'R_GUNDEM - B',\n",
       "       'R_GUNDEM STPS', 'Rajgarh - NTPC Solar Power Plant',\n",
       "       'Rajgarh - Ujaas Solar Power Plant', 'Raksa Solar Power Plant',\n",
       "       'Ram Tirath Jaga Solar Power Plant',\n",
       "       'Ramagundam Solar Power Plant', 'Rapar Khokhara Solar Power Plant',\n",
       "       'Rasulpur Solar Power Plant', 'Ratedi Mondri Wind Farm',\n",
       "       'Ravra - IOC Solar Power Plant', 'Ravra - NWEPL Solar Power Plant',\n",
       "       'Ravra - SEI Solar Power Plant',\n",
       "       'Ravra - Welspun Solar Power Plant',\n",
       "       'Relaxo Footwear Kui Inda Wind Farm',\n",
       "       'Roaring 40s Wind Farms (Khandke) Private Limited - Phase II',\n",
       "       'Rojhani Solar Power Plant', 'Rucha Soya Wind Farm',\n",
       "       'Ruchi Soya Palsodi Wind Farm', 'S.SAROVAR CHPH', 'S.SAROVAR RBPH',\n",
       "       'SABARIGIRI', 'SAGARDIGHI TPP', 'SAHAKAR SHIROMANI', 'SAINJ',\n",
       "       'SALAL I & II', 'SALAYA TPP', 'SALORA', 'SAMALPATTI DG',\n",
       "       'SAMAYANALLUR DG', 'SAMEERWADI MILL', 'SANGLI KRANTI',\n",
       "       'SANGLI MIRAJ BIOMASS', 'SANGLI VASANTDADA', 'SANJAY BHABA',\n",
       "       'SANJAY GANDHI', 'SANKESHWAR MILL', 'SANTALDIH', 'SARKARPATHY',\n",
       "       'SASAN UMPP', 'SATNA CEMENT PLANT', 'SATPURA', 'SBT SUGAR',\n",
       "       'SEIONI TPP', 'SEMBCORP GAYATRI', 'SENGULAM', 'SERVALAR',\n",
       "       'SEWA-II', 'SEWA-III', 'SHAHPUR', 'SHANAN', 'SHARAVATHY',\n",
       "       'SHARAVATHY TAIL RACE (Gerusupa)', 'SHIMSAPURA', 'SHIROL MILL',\n",
       "       'SHIRPUR', 'SHIVAPURA', 'SHOLAYAR', 'SHOLAYAR I&II',\n",
       "       'SHREE MEGA POWER', 'SHRI MALAPRABHA', 'SHRI SHANKAR',\n",
       "       'SHRIRAM RAYONS PLANT', 'SIIL Jaibhim Wind Farm', 'SIKKA REP.',\n",
       "       'SIMHADRI', 'SIMHAPURI TPP', 'SINGARENI TPP', 'SINGRAULI STPS',\n",
       "       'SINGUR', 'SIPAT STPS', 'SITAPURAM POWER LIMITED', 'SIVASAMUNDRUM',\n",
       "       'SOLAPUR STPP', 'SONAI MILL', 'SONE EAST CANAL', 'SONE WEST CANAL',\n",
       "       'SOUTHERN REPL.', 'SRINAGAR', 'SRISAILAM', 'SRISAILAM LBPH',\n",
       "       'STAKNA', 'STERLITE TPP', 'SUBERNREKHA I&II', 'SUGEN CCCP',\n",
       "       'SURAT GARH', 'SURAT LIG.', 'SURATGARH', 'SURULIYAR', 'SURYA',\n",
       "       'SVPL', 'SWASTIK KORBA', 'SWPPL Madhavakurichi',\n",
       "       'SWPPL Manurpalayam', 'SWPPL Vadakkupanavadali',\n",
       "       'Sadeipali - ASPL Solar Power Plant',\n",
       "       'Sadeipali - REHPL Solar Power Plant', 'Sai Sulphonates Wind Mill',\n",
       "       'Sakri 1A Solar Power Plant', 'Sakri 1B Solar Power Plant',\n",
       "       'Sangatpura Solar Power Plant', 'Satara Wind Farm',\n",
       "       'Shiloj Solar Power Plant', 'Shirsoli Solar Power Plant',\n",
       "       'Shivasamundra Solar Power Plant',\n",
       "       'Shivlakha - Backbone Solar Power Plant',\n",
       "       'Shivlakha - CPEC Solar Power Plant',\n",
       "       'Shivlakha - Konark Solar Power Plant', 'Shree Nashik Wind Farm',\n",
       "       'Shree Sangli Wind Farm', 'Shree Southern Wind Farm',\n",
       "       'Shri Singaji MALWA TPP', 'Singrauli Solar Power Plant',\n",
       "       'Sivaganga Solar Power Plant', 'Sivalaperi Wind Farm',\n",
       "       'Solitaire Solar Power Plant', 'Sonu Wind Farm',\n",
       "       'Sterling Agro Akal Wind Farm', 'Sterling Agro Mokla Wind Farm',\n",
       "       'Sterling Karnataka site', 'Sterling Madhya Pradesh site',\n",
       "       'Sumilon Shikarpur Wind Farm', 'Sumilon Vershamedi Wind Farm',\n",
       "       'Supe Solar Power Plant', 'Surajbari Creek Wind Farm', 'T.B. DAM',\n",
       "       'TADALI', 'TADALI SPONGE IRON', 'TAGO', 'TALCHER', 'TALCHER STPS',\n",
       "       'TALWANDI SABO', 'TAMNAR TPP', 'TANAKPUR', 'TANDA', 'TANIR BAVI',\n",
       "       'TARAPUR', 'TASHIDING', 'TAWA', 'TEESTA  I-III', 'TEESTA -V',\n",
       "       'TEESTA LOW DAM -IV', 'TEESTA LOW DAM-III', 'TEESTA-III',\n",
       "       'TEHRI ST -1', 'TENUGHAT', 'THAL WORKS', 'THAMMINAPATNAM TPP',\n",
       "       'THANE PLANT', 'THIROT', 'TILLARI', 'TILLAYA', 'TIRORA TPP',\n",
       "       'TITAGARH', 'TORANGALLU EXT', 'TORANGALLU IMP', 'TORR POWER SAB.',\n",
       "       'TROMBAY', 'TROMBAY GT', 'TROMBAY WORKS', 'TROMBAY_Coal',\n",
       "       'TROMBAY_Oil', 'TUIRIAL', 'TUNGABHADRA SUGAR', 'TUTICORIN',\n",
       "       'TUTICORIN JV', 'TUTICORIN- IND BARATH', 'TVS Kunnur Wind Farm',\n",
       "       'TVS Tirunelveli Wind Farm', 'TVS Virali Wind Farm',\n",
       "       'Tadas wind farm', 'Talcher Kaniha Solar Power Plant',\n",
       "       'Tamilnadu Wind Farm',\n",
       "       'Tata BP - Electronics City Solar Panel Plant',\n",
       "       'Tata Power Gadag Plains Wind Farm', 'Tata Wind Farm',\n",
       "       'Teona Pujarian Solar Power Plant', 'Theni Wind Farm',\n",
       "       'Thimmapuram Wind Farm', 'Tinwari - MB Solar Power Plant',\n",
       "       'Tiruppur', 'Tiruppur 2', 'Torrent Gujurat Wind Farm',\n",
       "       'U.B.D.C. ST.-I& II', 'U.ROGNICHU', 'UCHPINDA TPP', 'UDUPI TPP',\n",
       "       'UJJAINI', 'UKAI LBC', 'UKAI_Coal', 'UKAI_Hydro', 'UMIAM I II &IV',\n",
       "       'UMTRU (NEW)', 'UNCHAHAR', 'UNO SUGEN', 'UPL Dharapuram Wind Farm',\n",
       "       'UPPAR INDRAVATI', 'UPPER KOLAB', 'UPPER SILERU I&II',\n",
       "       'UPPER SINDH I& II', 'URAN GT', 'URAN ONGC', 'URI', 'URI -II',\n",
       "       'URUMI', 'UTRAN CCCP EXT', 'UTRAULA TPP', 'Udumalpet Wind Farm',\n",
       "       'VAIGAI DAM', 'VAITARNA', 'VALANTHARVI GT', 'VALLUR ntpc/ntecl',\n",
       "       'VALUTHUR GT', 'VARAHI', 'VARDHAM BUDNI', 'VARDHAM SATLAPUR',\n",
       "       'VASAVADATTA CEMENT', 'VEMAGIRI CCCP', 'VENUNAGAR SUGAR',\n",
       "       'VIJAIPUR WORKS', 'VIJAYWADA', 'VIJAYWADA TPP-IV', 'VIJESWARAM GT',\n",
       "       'VIKRAM CEMENT', 'VINDH_CHAL STPS', 'VIR', 'VISHNU PRAYAG',\n",
       "       'VIZAG TPP', 'VRL Wind Farm', 'Vaayu Ashti Wind Farm',\n",
       "       'Vankuswade Wind Farm', 'Vastan Solar Power Plant',\n",
       "       'WADI CEMENT PLANT', 'WANAKBORI',\n",
       "       'WARDHA WARORA(Sai Wardha Power)', 'WARDHA WORKS', 'WARNA',\n",
       "       'WY.CANAL A -D', 'Wadgam Solar Power Plant',\n",
       "       'Warora Solar Power Plant', 'Weizzmann Forex Idukki Wind Farm',\n",
       "       'Wind power project by Riddhi Siddhi Gluco Biols Limited (RSGBL)',\n",
       "       'Wind power project in Rajasthan', 'YAMUNANAGAR TPP',\n",
       "       'YASHWANTRAO MOHITE', 'YELHANKA (DG)', 'YERMARUS TPP',\n",
       "       'Yelesandra Solar Power Plant', 'Yelisirur wind power project',\n",
       "       'ZAWAR MINES', 'iEnergy Theni Wind Farm'], dtype=object)"
      ]
     },
     "execution_count": 325,
     "metadata": {},
     "output_type": "execute_result"
    }
   ],
   "source": [
    "df1['name'].unique()"
   ]
  },
  {
   "cell_type": "code",
   "execution_count": 326,
   "id": "9191b6c0",
   "metadata": {},
   "outputs": [],
   "source": [
    "#Since it contain 908 text values different for all the columns so it was unecessary feature.\n",
    "df1.drop(['name'],axis=1,inplace=True)\n",
    "df1.drop(['gppd_idnr'],axis=1,inplace=True)"
   ]
  },
  {
   "cell_type": "code",
   "execution_count": 327,
   "id": "0de94948",
   "metadata": {},
   "outputs": [
    {
     "data": {
      "text/plain": [
       "array([   0., 2019.])"
      ]
     },
     "execution_count": 327,
     "metadata": {},
     "output_type": "execute_result"
    }
   ],
   "source": [
    "df1['year_of_capacity_data'].unique()"
   ]
  },
  {
   "cell_type": "code",
   "execution_count": 328,
   "id": "0a7ecf3a",
   "metadata": {},
   "outputs": [],
   "source": [
    "# year_of_capacity_data not contain much information\n",
    "df1.drop(['year_of_capacity_data'],axis=1,inplace=True)"
   ]
  },
  {
   "cell_type": "code",
   "execution_count": 329,
   "id": "d922f3aa",
   "metadata": {},
   "outputs": [
    {
     "data": {
      "text/plain": [
       "(907, 14)"
      ]
     },
     "execution_count": 329,
     "metadata": {},
     "output_type": "execute_result"
    }
   ],
   "source": [
    "df1.shape"
   ]
  },
  {
   "cell_type": "code",
   "execution_count": 330,
   "id": "bc196ce7",
   "metadata": {},
   "outputs": [
    {
     "data": {
      "text/html": [
       "<div>\n",
       "<style scoped>\n",
       "    .dataframe tbody tr th:only-of-type {\n",
       "        vertical-align: middle;\n",
       "    }\n",
       "\n",
       "    .dataframe tbody tr th {\n",
       "        vertical-align: top;\n",
       "    }\n",
       "\n",
       "    .dataframe thead th {\n",
       "        text-align: right;\n",
       "    }\n",
       "</style>\n",
       "<table border=\"1\" class=\"dataframe\">\n",
       "  <thead>\n",
       "    <tr style=\"text-align: right;\">\n",
       "      <th></th>\n",
       "      <th>capacity_mw</th>\n",
       "      <th>latitude</th>\n",
       "      <th>longitude</th>\n",
       "      <th>primary_fuel</th>\n",
       "      <th>commissioning_year</th>\n",
       "      <th>owner</th>\n",
       "      <th>source</th>\n",
       "      <th>url</th>\n",
       "      <th>geolocation_source</th>\n",
       "      <th>generation_gwh_2014</th>\n",
       "      <th>generation_gwh_2015</th>\n",
       "      <th>generation_gwh_2016</th>\n",
       "      <th>generation_gwh_2017</th>\n",
       "      <th>generation_gwh_2018</th>\n",
       "    </tr>\n",
       "  </thead>\n",
       "  <tbody>\n",
       "    <tr>\n",
       "      <th>0</th>\n",
       "      <td>2.50</td>\n",
       "      <td>28.183900</td>\n",
       "      <td>73.240700</td>\n",
       "      <td>Solar</td>\n",
       "      <td>2011.0</td>\n",
       "      <td>Solar Paces</td>\n",
       "      <td>National Renewable Energy Laboratory</td>\n",
       "      <td>http://www.nrel.gov/csp/solarpaces/project_det...</td>\n",
       "      <td>National Renewable Energy Laboratory</td>\n",
       "      <td>2431.823590</td>\n",
       "      <td>2428.226946</td>\n",
       "      <td>2467.936859</td>\n",
       "      <td>2547.759305</td>\n",
       "      <td>2600.804099</td>\n",
       "    </tr>\n",
       "    <tr>\n",
       "      <th>1</th>\n",
       "      <td>98.00</td>\n",
       "      <td>24.766300</td>\n",
       "      <td>74.609000</td>\n",
       "      <td>Coal</td>\n",
       "      <td>0.0</td>\n",
       "      <td>Ultratech Cement ltd</td>\n",
       "      <td>Ultratech Cement ltd</td>\n",
       "      <td>http://www.ultratechcement.com/</td>\n",
       "      <td>WRI</td>\n",
       "      <td>2431.823590</td>\n",
       "      <td>2428.226946</td>\n",
       "      <td>2467.936859</td>\n",
       "      <td>2547.759305</td>\n",
       "      <td>2600.804099</td>\n",
       "    </tr>\n",
       "    <tr>\n",
       "      <th>2</th>\n",
       "      <td>39.20</td>\n",
       "      <td>21.903800</td>\n",
       "      <td>69.373200</td>\n",
       "      <td>Wind</td>\n",
       "      <td>0.0</td>\n",
       "      <td>AES</td>\n",
       "      <td>CDM</td>\n",
       "      <td>https://cdm.unfccc.int/Projects/DB/DNV-CUK1328...</td>\n",
       "      <td>WRI</td>\n",
       "      <td>2431.823590</td>\n",
       "      <td>2428.226946</td>\n",
       "      <td>2467.936859</td>\n",
       "      <td>2547.759305</td>\n",
       "      <td>2600.804099</td>\n",
       "    </tr>\n",
       "    <tr>\n",
       "      <th>3</th>\n",
       "      <td>135.00</td>\n",
       "      <td>23.871200</td>\n",
       "      <td>91.360200</td>\n",
       "      <td>Gas</td>\n",
       "      <td>2004.0</td>\n",
       "      <td>Acc Acc ltd</td>\n",
       "      <td>Central Electricity Authority</td>\n",
       "      <td>http://www.cea.nic.in/</td>\n",
       "      <td>WRI</td>\n",
       "      <td>617.789264</td>\n",
       "      <td>843.747000</td>\n",
       "      <td>886.004428</td>\n",
       "      <td>663.774500</td>\n",
       "      <td>626.239128</td>\n",
       "    </tr>\n",
       "    <tr>\n",
       "      <th>4</th>\n",
       "      <td>1800.00</td>\n",
       "      <td>21.960300</td>\n",
       "      <td>82.409100</td>\n",
       "      <td>Coal</td>\n",
       "      <td>2015.0</td>\n",
       "      <td>Acc Acc ltd</td>\n",
       "      <td>Central Electricity Authority</td>\n",
       "      <td>http://www.cea.nic.in/</td>\n",
       "      <td>WRI</td>\n",
       "      <td>3035.550000</td>\n",
       "      <td>5916.370000</td>\n",
       "      <td>6243.000000</td>\n",
       "      <td>5385.579736</td>\n",
       "      <td>7279.000000</td>\n",
       "    </tr>\n",
       "    <tr>\n",
       "      <th>5</th>\n",
       "      <td>250.00</td>\n",
       "      <td>23.768900</td>\n",
       "      <td>68.644700</td>\n",
       "      <td>Coal</td>\n",
       "      <td>2005.0</td>\n",
       "      <td>Acc Acc ltd</td>\n",
       "      <td>Central Electricity Authority</td>\n",
       "      <td>http://www.cea.nic.in/</td>\n",
       "      <td>WRI</td>\n",
       "      <td>1153.421000</td>\n",
       "      <td>1208.852000</td>\n",
       "      <td>1175.765000</td>\n",
       "      <td>1147.913000</td>\n",
       "      <td>976.655000</td>\n",
       "    </tr>\n",
       "    <tr>\n",
       "      <th>6</th>\n",
       "      <td>60.00</td>\n",
       "      <td>10.454700</td>\n",
       "      <td>77.007800</td>\n",
       "      <td>Hydro</td>\n",
       "      <td>1970.0</td>\n",
       "      <td>Acc Acc ltd</td>\n",
       "      <td>Central Electricity Authority</td>\n",
       "      <td>http://www.cea.nic.in/</td>\n",
       "      <td>WRI</td>\n",
       "      <td>157.558250</td>\n",
       "      <td>152.195200</td>\n",
       "      <td>61.421350</td>\n",
       "      <td>89.629600</td>\n",
       "      <td>48.327150</td>\n",
       "    </tr>\n",
       "    <tr>\n",
       "      <th>7</th>\n",
       "      <td>192.00</td>\n",
       "      <td>32.225800</td>\n",
       "      <td>77.207000</td>\n",
       "      <td>Hydro</td>\n",
       "      <td>2010.0</td>\n",
       "      <td>Acc Acc ltd</td>\n",
       "      <td>Central Electricity Authority</td>\n",
       "      <td>http://www.cea.nic.in/</td>\n",
       "      <td>WRI</td>\n",
       "      <td>674.391100</td>\n",
       "      <td>721.335200</td>\n",
       "      <td>675.724400</td>\n",
       "      <td>679.594950</td>\n",
       "      <td>579.318850</td>\n",
       "    </tr>\n",
       "    <tr>\n",
       "      <th>8</th>\n",
       "      <td>290.00</td>\n",
       "      <td>16.330000</td>\n",
       "      <td>75.886300</td>\n",
       "      <td>Hydro</td>\n",
       "      <td>2004.0</td>\n",
       "      <td>Acc Acc ltd</td>\n",
       "      <td>Central Electricity Authority</td>\n",
       "      <td>http://www.cea.nic.in/</td>\n",
       "      <td>WRI</td>\n",
       "      <td>480.594950</td>\n",
       "      <td>144.434200</td>\n",
       "      <td>402.029750</td>\n",
       "      <td>439.372100</td>\n",
       "      <td>406.377900</td>\n",
       "    </tr>\n",
       "    <tr>\n",
       "      <th>9</th>\n",
       "      <td>210.00</td>\n",
       "      <td>23.164200</td>\n",
       "      <td>81.637300</td>\n",
       "      <td>Coal</td>\n",
       "      <td>2008.0</td>\n",
       "      <td>Acc Acc ltd</td>\n",
       "      <td>Central Electricity Authority</td>\n",
       "      <td>http://www.cea.nic.in/</td>\n",
       "      <td>WRI</td>\n",
       "      <td>1887.904000</td>\n",
       "      <td>1643.046000</td>\n",
       "      <td>1338.093000</td>\n",
       "      <td>1563.457000</td>\n",
       "      <td>1487.880000</td>\n",
       "    </tr>\n",
       "    <tr>\n",
       "      <th>10</th>\n",
       "      <td>1350.00</td>\n",
       "      <td>21.078200</td>\n",
       "      <td>77.900900</td>\n",
       "      <td>Coal</td>\n",
       "      <td>2014.0</td>\n",
       "      <td>Acc Acc ltd</td>\n",
       "      <td>Central Electricity Authority</td>\n",
       "      <td>http://www.cea.nic.in/</td>\n",
       "      <td>WRI</td>\n",
       "      <td>1920.971000</td>\n",
       "      <td>5629.663000</td>\n",
       "      <td>1701.008000</td>\n",
       "      <td>4350.558000</td>\n",
       "      <td>3717.154000</td>\n",
       "    </tr>\n",
       "    <tr>\n",
       "      <th>11</th>\n",
       "      <td>134.00</td>\n",
       "      <td>31.271700</td>\n",
       "      <td>76.493800</td>\n",
       "      <td>Hydro</td>\n",
       "      <td>1985.0</td>\n",
       "      <td>Acc Acc ltd</td>\n",
       "      <td>Central Electricity Authority</td>\n",
       "      <td>http://www.cea.nic.in/</td>\n",
       "      <td>WRI</td>\n",
       "      <td>614.412500</td>\n",
       "      <td>665.197300</td>\n",
       "      <td>670.500650</td>\n",
       "      <td>644.570950</td>\n",
       "      <td>425.641100</td>\n",
       "    </tr>\n",
       "    <tr>\n",
       "      <th>12</th>\n",
       "      <td>1200.00</td>\n",
       "      <td>24.200700</td>\n",
       "      <td>82.800000</td>\n",
       "      <td>Coal</td>\n",
       "      <td>2011.0</td>\n",
       "      <td>Acc Acc ltd</td>\n",
       "      <td>Central Electricity Authority</td>\n",
       "      <td>http://www.cea.nic.in/</td>\n",
       "      <td>WRI</td>\n",
       "      <td>7744.000000</td>\n",
       "      <td>8076.810500</td>\n",
       "      <td>7902.021600</td>\n",
       "      <td>7940.740000</td>\n",
       "      <td>7873.973000</td>\n",
       "    </tr>\n",
       "    <tr>\n",
       "      <th>13</th>\n",
       "      <td>16.95</td>\n",
       "      <td>31.241200</td>\n",
       "      <td>77.876900</td>\n",
       "      <td>Hydro</td>\n",
       "      <td>1986.0</td>\n",
       "      <td>Acc Acc ltd</td>\n",
       "      <td>Central Electricity Authority</td>\n",
       "      <td>http://www.cea.nic.in/</td>\n",
       "      <td>WRI</td>\n",
       "      <td>2431.823590</td>\n",
       "      <td>2428.226946</td>\n",
       "      <td>2467.936859</td>\n",
       "      <td>2547.759305</td>\n",
       "      <td>2600.804099</td>\n",
       "    </tr>\n",
       "    <tr>\n",
       "      <th>14</th>\n",
       "      <td>9.00</td>\n",
       "      <td>21.197918</td>\n",
       "      <td>77.464907</td>\n",
       "      <td>Hydro</td>\n",
       "      <td>1987.0</td>\n",
       "      <td>Acc Acc ltd</td>\n",
       "      <td>Central Electricity Authority</td>\n",
       "      <td>http://www.cea.nic.in/</td>\n",
       "      <td>WRI</td>\n",
       "      <td>2431.823590</td>\n",
       "      <td>2428.226946</td>\n",
       "      <td>2467.936859</td>\n",
       "      <td>2547.759305</td>\n",
       "      <td>2600.804099</td>\n",
       "    </tr>\n",
       "    <tr>\n",
       "      <th>15</th>\n",
       "      <td>2630.00</td>\n",
       "      <td>24.201000</td>\n",
       "      <td>82.789100</td>\n",
       "      <td>Coal</td>\n",
       "      <td>2000.0</td>\n",
       "      <td>Acc Acc ltd</td>\n",
       "      <td>Central Electricity Authority</td>\n",
       "      <td>http://www.cea.nic.in/</td>\n",
       "      <td>WRI</td>\n",
       "      <td>9670.879000</td>\n",
       "      <td>11151.069472</td>\n",
       "      <td>13227.352350</td>\n",
       "      <td>15334.876300</td>\n",
       "      <td>18697.655900</td>\n",
       "    </tr>\n",
       "    <tr>\n",
       "      <th>16</th>\n",
       "      <td>419.33</td>\n",
       "      <td>25.179700</td>\n",
       "      <td>76.318800</td>\n",
       "      <td>Gas</td>\n",
       "      <td>1989.0</td>\n",
       "      <td>Acc Acc ltd</td>\n",
       "      <td>Central Electricity Authority</td>\n",
       "      <td>http://www.cea.nic.in/</td>\n",
       "      <td>WRI</td>\n",
       "      <td>1611.987000</td>\n",
       "      <td>909.000000</td>\n",
       "      <td>666.420000</td>\n",
       "      <td>430.000000</td>\n",
       "      <td>528.280000</td>\n",
       "    </tr>\n",
       "    <tr>\n",
       "      <th>17</th>\n",
       "      <td>600.00</td>\n",
       "      <td>23.066600</td>\n",
       "      <td>81.784100</td>\n",
       "      <td>Coal</td>\n",
       "      <td>0.0</td>\n",
       "      <td>Hindustan Pvt lt</td>\n",
       "      <td>Hindustan Pvt lt</td>\n",
       "      <td>http://www.hindustanpowerprojects.com/</td>\n",
       "      <td>WRI</td>\n",
       "      <td>2431.823590</td>\n",
       "      <td>2428.226946</td>\n",
       "      <td>2467.936859</td>\n",
       "      <td>2547.759305</td>\n",
       "      <td>2600.804099</td>\n",
       "    </tr>\n",
       "    <tr>\n",
       "      <th>18</th>\n",
       "      <td>1200.00</td>\n",
       "      <td>23.065500</td>\n",
       "      <td>81.786500</td>\n",
       "      <td>Coal</td>\n",
       "      <td>2015.0</td>\n",
       "      <td>Acc Acc ltd</td>\n",
       "      <td>Central Electricity Authority</td>\n",
       "      <td>http://www.cea.nic.in/</td>\n",
       "      <td>WRI</td>\n",
       "      <td>2431.823590</td>\n",
       "      <td>2702.823200</td>\n",
       "      <td>3515.749600</td>\n",
       "      <td>5777.120000</td>\n",
       "      <td>6241.801000</td>\n",
       "    </tr>\n",
       "    <tr>\n",
       "      <th>19</th>\n",
       "      <td>10.00</td>\n",
       "      <td>18.084500</td>\n",
       "      <td>76.185100</td>\n",
       "      <td>Biomass</td>\n",
       "      <td>0.0</td>\n",
       "      <td>Dr Ssk ltd</td>\n",
       "      <td>Dr Ssk ltd</td>\n",
       "      <td>http://www.ambedkarsugar.com/</td>\n",
       "      <td>WRI</td>\n",
       "      <td>2431.823590</td>\n",
       "      <td>2428.226946</td>\n",
       "      <td>2467.936859</td>\n",
       "      <td>2547.759305</td>\n",
       "      <td>2600.804099</td>\n",
       "    </tr>\n",
       "  </tbody>\n",
       "</table>\n",
       "</div>"
      ],
      "text/plain": [
       "    capacity_mw   latitude  longitude primary_fuel  commissioning_year  \\\n",
       "0          2.50  28.183900  73.240700        Solar              2011.0   \n",
       "1         98.00  24.766300  74.609000         Coal                 0.0   \n",
       "2         39.20  21.903800  69.373200         Wind                 0.0   \n",
       "3        135.00  23.871200  91.360200          Gas              2004.0   \n",
       "4       1800.00  21.960300  82.409100         Coal              2015.0   \n",
       "5        250.00  23.768900  68.644700         Coal              2005.0   \n",
       "6         60.00  10.454700  77.007800        Hydro              1970.0   \n",
       "7        192.00  32.225800  77.207000        Hydro              2010.0   \n",
       "8        290.00  16.330000  75.886300        Hydro              2004.0   \n",
       "9        210.00  23.164200  81.637300         Coal              2008.0   \n",
       "10      1350.00  21.078200  77.900900         Coal              2014.0   \n",
       "11       134.00  31.271700  76.493800        Hydro              1985.0   \n",
       "12      1200.00  24.200700  82.800000         Coal              2011.0   \n",
       "13        16.95  31.241200  77.876900        Hydro              1986.0   \n",
       "14         9.00  21.197918  77.464907        Hydro              1987.0   \n",
       "15      2630.00  24.201000  82.789100         Coal              2000.0   \n",
       "16       419.33  25.179700  76.318800          Gas              1989.0   \n",
       "17       600.00  23.066600  81.784100         Coal                 0.0   \n",
       "18      1200.00  23.065500  81.786500         Coal              2015.0   \n",
       "19        10.00  18.084500  76.185100      Biomass                 0.0   \n",
       "\n",
       "                   owner                                source  \\\n",
       "0            Solar Paces  National Renewable Energy Laboratory   \n",
       "1   Ultratech Cement ltd                  Ultratech Cement ltd   \n",
       "2                    AES                                   CDM   \n",
       "3            Acc Acc ltd         Central Electricity Authority   \n",
       "4            Acc Acc ltd         Central Electricity Authority   \n",
       "5            Acc Acc ltd         Central Electricity Authority   \n",
       "6            Acc Acc ltd         Central Electricity Authority   \n",
       "7            Acc Acc ltd         Central Electricity Authority   \n",
       "8            Acc Acc ltd         Central Electricity Authority   \n",
       "9            Acc Acc ltd         Central Electricity Authority   \n",
       "10           Acc Acc ltd         Central Electricity Authority   \n",
       "11           Acc Acc ltd         Central Electricity Authority   \n",
       "12           Acc Acc ltd         Central Electricity Authority   \n",
       "13           Acc Acc ltd         Central Electricity Authority   \n",
       "14           Acc Acc ltd         Central Electricity Authority   \n",
       "15           Acc Acc ltd         Central Electricity Authority   \n",
       "16           Acc Acc ltd         Central Electricity Authority   \n",
       "17      Hindustan Pvt lt                      Hindustan Pvt lt   \n",
       "18           Acc Acc ltd         Central Electricity Authority   \n",
       "19            Dr Ssk ltd                            Dr Ssk ltd   \n",
       "\n",
       "                                                  url  \\\n",
       "0   http://www.nrel.gov/csp/solarpaces/project_det...   \n",
       "1                     http://www.ultratechcement.com/   \n",
       "2   https://cdm.unfccc.int/Projects/DB/DNV-CUK1328...   \n",
       "3                              http://www.cea.nic.in/   \n",
       "4                              http://www.cea.nic.in/   \n",
       "5                              http://www.cea.nic.in/   \n",
       "6                              http://www.cea.nic.in/   \n",
       "7                              http://www.cea.nic.in/   \n",
       "8                              http://www.cea.nic.in/   \n",
       "9                              http://www.cea.nic.in/   \n",
       "10                             http://www.cea.nic.in/   \n",
       "11                             http://www.cea.nic.in/   \n",
       "12                             http://www.cea.nic.in/   \n",
       "13                             http://www.cea.nic.in/   \n",
       "14                             http://www.cea.nic.in/   \n",
       "15                             http://www.cea.nic.in/   \n",
       "16                             http://www.cea.nic.in/   \n",
       "17             http://www.hindustanpowerprojects.com/   \n",
       "18                             http://www.cea.nic.in/   \n",
       "19                      http://www.ambedkarsugar.com/   \n",
       "\n",
       "                      geolocation_source  generation_gwh_2014  \\\n",
       "0   National Renewable Energy Laboratory          2431.823590   \n",
       "1                                    WRI          2431.823590   \n",
       "2                                    WRI          2431.823590   \n",
       "3                                    WRI           617.789264   \n",
       "4                                    WRI          3035.550000   \n",
       "5                                    WRI          1153.421000   \n",
       "6                                    WRI           157.558250   \n",
       "7                                    WRI           674.391100   \n",
       "8                                    WRI           480.594950   \n",
       "9                                    WRI          1887.904000   \n",
       "10                                   WRI          1920.971000   \n",
       "11                                   WRI           614.412500   \n",
       "12                                   WRI          7744.000000   \n",
       "13                                   WRI          2431.823590   \n",
       "14                                   WRI          2431.823590   \n",
       "15                                   WRI          9670.879000   \n",
       "16                                   WRI          1611.987000   \n",
       "17                                   WRI          2431.823590   \n",
       "18                                   WRI          2431.823590   \n",
       "19                                   WRI          2431.823590   \n",
       "\n",
       "    generation_gwh_2015  generation_gwh_2016  generation_gwh_2017  \\\n",
       "0           2428.226946          2467.936859          2547.759305   \n",
       "1           2428.226946          2467.936859          2547.759305   \n",
       "2           2428.226946          2467.936859          2547.759305   \n",
       "3            843.747000           886.004428           663.774500   \n",
       "4           5916.370000          6243.000000          5385.579736   \n",
       "5           1208.852000          1175.765000          1147.913000   \n",
       "6            152.195200            61.421350            89.629600   \n",
       "7            721.335200           675.724400           679.594950   \n",
       "8            144.434200           402.029750           439.372100   \n",
       "9           1643.046000          1338.093000          1563.457000   \n",
       "10          5629.663000          1701.008000          4350.558000   \n",
       "11           665.197300           670.500650           644.570950   \n",
       "12          8076.810500          7902.021600          7940.740000   \n",
       "13          2428.226946          2467.936859          2547.759305   \n",
       "14          2428.226946          2467.936859          2547.759305   \n",
       "15         11151.069472         13227.352350         15334.876300   \n",
       "16           909.000000           666.420000           430.000000   \n",
       "17          2428.226946          2467.936859          2547.759305   \n",
       "18          2702.823200          3515.749600          5777.120000   \n",
       "19          2428.226946          2467.936859          2547.759305   \n",
       "\n",
       "    generation_gwh_2018  \n",
       "0           2600.804099  \n",
       "1           2600.804099  \n",
       "2           2600.804099  \n",
       "3            626.239128  \n",
       "4           7279.000000  \n",
       "5            976.655000  \n",
       "6             48.327150  \n",
       "7            579.318850  \n",
       "8            406.377900  \n",
       "9           1487.880000  \n",
       "10          3717.154000  \n",
       "11           425.641100  \n",
       "12          7873.973000  \n",
       "13          2600.804099  \n",
       "14          2600.804099  \n",
       "15         18697.655900  \n",
       "16           528.280000  \n",
       "17          2600.804099  \n",
       "18          6241.801000  \n",
       "19          2600.804099  "
      ]
     },
     "execution_count": 330,
     "metadata": {},
     "output_type": "execute_result"
    }
   ],
   "source": [
    "df1.head(20)"
   ]
  },
  {
   "cell_type": "code",
   "execution_count": 331,
   "id": "78d54b0b",
   "metadata": {},
   "outputs": [
    {
     "data": {
      "text/plain": [
       "Coal       0.284454\n",
       "Hydro      0.276736\n",
       "Solar      0.140022\n",
       "Wind       0.135612\n",
       "Gas        0.076075\n",
       "Biomass    0.055127\n",
       "Oil        0.022051\n",
       "Nuclear    0.009923\n",
       "Name: primary_fuel, dtype: float64"
      ]
     },
     "execution_count": 331,
     "metadata": {},
     "output_type": "execute_result"
    },
    {
     "data": {
      "image/png": "[encoded data removed]",
      "text/plain": [
       "<Figure size 432x288 with 1 Axes>"
      ]
     },
     "metadata": {
      "needs_background": "light"
     },
     "output_type": "display_data"
    }
   ],
   "source": [
    "# Visualizing the target variables\n",
    "sn.countplot(df1['primary_fuel'])\n",
    "df1['primary_fuel'].value_counts(normalize=True)"
   ]
  },
  {
   "cell_type": "markdown",
   "id": "e25f13e8",
   "metadata": {},
   "source": [
    "The primary fuel Coal and Hydro are showing highest count among all the fuel types and nuclear fuel type shows least count.\n",
    "\n"
   ]
  },
  {
   "cell_type": "code",
   "execution_count": 332,
   "id": "4504f12e",
   "metadata": {},
   "outputs": [
    {
     "data": {
      "image/png": "[encoded data removed]",
      "text/plain": [
       "<Figure size 432x288 with 1 Axes>"
      ]
     },
     "metadata": {},
     "output_type": "display_data"
    }
   ],
   "source": [
    "# Pie chart for class variable\n",
    "labels='Coal','Hydro','Solar','Wind','Gas','Biomass','Oil','Nuclear'\n",
    "fig,ax=plt.subplots()\n",
    "ax.pie(df1['primary_fuel'].value_counts(),labels=labels,autopct='%1.2f%%',shadow=True)\n",
    "plt.show()"
   ]
  },
  {
   "cell_type": "markdown",
   "id": "56fbf86f",
   "metadata": {},
   "source": [
    "We can see that the Coal and Hydro consititutes about 56 percentage of total fuel type."
   ]
  },
  {
   "cell_type": "code",
   "execution_count": 333,
   "id": "965dc274",
   "metadata": {},
   "outputs": [
    {
     "data": {
      "text/plain": [
       "WRI                                     784\n",
       "Industry About                          119\n",
       "National Renewable Energy Laboratory      4\n",
       "Name: geolocation_source, dtype: int64"
      ]
     },
     "execution_count": 333,
     "metadata": {},
     "output_type": "execute_result"
    },
    {
     "data": {
      "image/png": "[encoded data removed]",
      "text/plain": [
       "<Figure size 432x288 with 1 Axes>"
      ]
     },
     "metadata": {
      "needs_background": "light"
     },
     "output_type": "display_data"
    }
   ],
   "source": [
    "sn.countplot(df1['geolocation_source'])\n",
    "df1['geolocation_source'].value_counts()"
   ]
  },
  {
   "cell_type": "markdown",
   "id": "c4453a53",
   "metadata": {},
   "source": [
    "The maximum count of gelocation source can be seen from WRI and least from national renewable energy"
   ]
  },
  {
   "cell_type": "code",
   "execution_count": 334,
   "id": "9f76c5cb",
   "metadata": {},
   "outputs": [
    {
     "data": {
      "text/plain": [
       "<AxesSubplot:xlabel='capacity_mw', ylabel='Density'>"
      ]
     },
     "execution_count": 334,
     "metadata": {},
     "output_type": "execute_result"
    },
    {
     "data": {
      "image/png": "[encoded data removed]",
      "text/plain": [
       "<Figure size 432x288 with 1 Axes>"
      ]
     },
     "metadata": {
      "needs_background": "light"
     },
     "output_type": "display_data"
    }
   ],
   "source": [
    "# Target varible\n",
    "sn.distplot(df1['capacity_mw'])"
   ]
  },
  {
   "cell_type": "markdown",
   "id": "bcc6db75",
   "metadata": {},
   "source": [
    "The distribution plot shows that the data seem to be right skewed"
   ]
  },
  {
   "cell_type": "code",
   "execution_count": 335,
   "id": "f3143b36",
   "metadata": {},
   "outputs": [
    {
     "data": {
      "text/plain": [
       "<AxesSubplot:xlabel='latitude', ylabel='Density'>"
      ]
     },
     "execution_count": 335,
     "metadata": {},
     "output_type": "execute_result"
    },
    {
     "data": {
      "image/png": "[encoded data removed]",
      "text/plain": [
       "<Figure size 432x288 with 1 Axes>"
      ]
     },
     "metadata": {
      "needs_background": "light"
     },
     "output_type": "display_data"
    }
   ],
   "source": [
    "sn.distplot(df1['latitude'])"
   ]
  },
  {
   "cell_type": "markdown",
   "id": "690763e6",
   "metadata": {},
   "source": [
    "The distribution plot for latitude is normally distributed"
   ]
  },
  {
   "cell_type": "code",
   "execution_count": 336,
   "id": "69eb4546",
   "metadata": {},
   "outputs": [
    {
     "data": {
      "text/plain": [
       "<AxesSubplot:xlabel='longitude', ylabel='Density'>"
      ]
     },
     "execution_count": 336,
     "metadata": {},
     "output_type": "execute_result"
    },
    {
     "data": {
      "image/png": "[encoded data removed]",
      "text/plain": [
       "<Figure size 432x288 with 1 Axes>"
      ]
     },
     "metadata": {
      "needs_background": "light"
     },
     "output_type": "display_data"
    }
   ],
   "source": [
    "sns.distplot(df1['longitude'])"
   ]
  },
  {
   "cell_type": "markdown",
   "id": "5d1fb880",
   "metadata": {},
   "source": [
    " Skewness can be observed from above distribution plot ,it can be removed by using log or power transformation method."
   ]
  },
  {
   "cell_type": "code",
   "execution_count": 337,
   "id": "39e94dbf",
   "metadata": {},
   "outputs": [
    {
     "data": {
      "text/plain": [
       "<AxesSubplot:xlabel='generation_gwh_2014', ylabel='Density'>"
      ]
     },
     "execution_count": 337,
     "metadata": {},
     "output_type": "execute_result"
    },
    {
     "data": {
      "image/png": "[encoded data removed]",
      "text/plain": [
       "<Figure size 432x288 with 1 Axes>"
      ]
     },
     "metadata": {
      "needs_background": "light"
     },
     "output_type": "display_data"
    }
   ],
   "source": [
    "# genration gwh_2014\n",
    "sn.distplot(df1['generation_gwh_2014'])"
   ]
  },
  {
   "cell_type": "markdown",
   "id": "cda3052c",
   "metadata": {},
   "source": [
    "Data is highly skewed to the right ,we will need to use transformation method."
   ]
  },
  {
   "cell_type": "code",
   "execution_count": 338,
   "id": "d7c9a55e",
   "metadata": {},
   "outputs": [
    {
     "data": {
      "text/plain": [
       "<AxesSubplot:xlabel='generation_gwh_2015', ylabel='Density'>"
      ]
     },
     "execution_count": 338,
     "metadata": {},
     "output_type": "execute_result"
    },
    {
     "data": {
      "image/png": "[encoded data removed]",
      "text/plain": [
       "<Figure size 432x288 with 1 Axes>"
      ]
     },
     "metadata": {
      "needs_background": "light"
     },
     "output_type": "display_data"
    }
   ],
   "source": [
    "# genration gwh_2015\n",
    "sn.distplot(df1['generation_gwh_2015'])"
   ]
  },
  {
   "cell_type": "markdown",
   "id": "c3714046",
   "metadata": {},
   "source": [
    "Data is highly skewed to the right ,we will need to use transformation method."
   ]
  },
  {
   "cell_type": "code",
   "execution_count": 339,
   "id": "cd1ec95c",
   "metadata": {},
   "outputs": [
    {
     "data": {
      "text/plain": [
       "<AxesSubplot:xlabel='generation_gwh_2016', ylabel='Density'>"
      ]
     },
     "execution_count": 339,
     "metadata": {},
     "output_type": "execute_result"
    },
    {
     "data": {
      "image/png": "[encoded data removed]",
      "text/plain": [
       "<Figure size 432x288 with 1 Axes>"
      ]
     },
     "metadata": {
      "needs_background": "light"
     },
     "output_type": "display_data"
    }
   ],
   "source": [
    "# genration gwh_2016\n",
    "sn.distplot(df1['generation_gwh_2016'])"
   ]
  },
  {
   "cell_type": "markdown",
   "id": "7841d1cf",
   "metadata": {},
   "source": [
    "Data is highly skewed to the right ,we will need to use transformation method."
   ]
  },
  {
   "cell_type": "code",
   "execution_count": 340,
   "id": "85876dc8",
   "metadata": {},
   "outputs": [
    {
     "data": {
      "text/plain": [
       "<AxesSubplot:xlabel='generation_gwh_2017', ylabel='Density'>"
      ]
     },
     "execution_count": 340,
     "metadata": {},
     "output_type": "execute_result"
    },
    {
     "data": {
      "image/png": "[encoded data removed]",
      "text/plain": [
       "<Figure size 432x288 with 1 Axes>"
      ]
     },
     "metadata": {
      "needs_background": "light"
     },
     "output_type": "display_data"
    }
   ],
   "source": [
    "# genration gwh_2017\n",
    "sn.distplot(df1['generation_gwh_2017'])"
   ]
  },
  {
   "cell_type": "markdown",
   "id": "0e9046fd",
   "metadata": {},
   "source": [
    "Data is highly skewed to the right ,we will need to use transformation method."
   ]
  },
  {
   "cell_type": "code",
   "execution_count": 341,
   "id": "57f337e1",
   "metadata": {},
   "outputs": [
    {
     "data": {
      "text/plain": [
       "<AxesSubplot:xlabel='generation_gwh_2018', ylabel='Density'>"
      ]
     },
     "execution_count": 341,
     "metadata": {},
     "output_type": "execute_result"
    },
    {
     "data": {
      "image/png": "[encoded data removed]",
      "text/plain": [
       "<Figure size 432x288 with 1 Axes>"
      ]
     },
     "metadata": {
      "needs_background": "light"
     },
     "output_type": "display_data"
    }
   ],
   "source": [
    "# genration gwh_2018\n",
    "sn.distplot(df1['generation_gwh_2018'])"
   ]
  },
  {
   "cell_type": "markdown",
   "id": "60937d70",
   "metadata": {},
   "source": [
    "Data is highly skewed to the right ,we will need to use transformation method.\n",
    "\n",
    "### Checking Outliers"
   ]
  },
  {
   "cell_type": "code",
   "execution_count": 342,
   "id": "4a74412e",
   "metadata": {},
   "outputs": [],
   "source": [
    "numerical=list(df1.select_dtypes(['float64']))"
   ]
  },
  {
   "cell_type": "code",
   "execution_count": 343,
   "id": "70136b96",
   "metadata": {},
   "outputs": [
    {
     "data": {
      "image/png": "[encoded data removed]",
      "text/plain": [
       "<Figure size 1296x1296 with 9 Axes>"
      ]
     },
     "metadata": {},
     "output_type": "display_data"
    }
   ],
   "source": [
    "plt.figure(figsize=(18,18),facecolor='white')\n",
    "plotnumber=1\n",
    "for column in df1[numerical]:\n",
    "    if plotnumber<=10:\n",
    "        ax=plt.subplot(4,4,plotnumber)\n",
    "        sn.boxplot(df1[column])\n",
    "        plt.xlabel(column,fontsize=14)\n",
    "    plotnumber=plotnumber+1\n",
    "plt.show()"
   ]
  },
  {
   "cell_type": "markdown",
   "id": "516a7747",
   "metadata": {},
   "source": [
    "We can see that all the columns contains the many outliers so it can be removed using zscore.\n",
    "Latitude column does not contain any outliers.\n",
    "\n",
    "### Bivariate Anaysis"
   ]
  },
  {
   "cell_type": "code",
   "execution_count": 344,
   "id": "0f3ff022",
   "metadata": {},
   "outputs": [
    {
     "data": {
      "text/plain": [
       "<AxesSubplot:xlabel='primary_fuel', ylabel='capacity_mw'>"
      ]
     },
     "execution_count": 344,
     "metadata": {},
     "output_type": "execute_result"
    },
    {
     "data": {
      "image/png": "[encoded data removed]",
      "text/plain": [
       "<Figure size 432x288 with 1 Axes>"
      ]
     },
     "metadata": {
      "needs_background": "light"
     },
     "output_type": "display_data"
    }
   ],
   "source": [
    "sn.barplot(x=\"primary_fuel\", y=\"capacity_mw\", data=df1,ci=None)"
   ]
  },
  {
   "cell_type": "markdown",
   "id": "a96acaab",
   "metadata": {},
   "source": [
    "It can be clearly seen that nuclear power plant needs largest electrical capacity(megawatts) followed by Coal plant."
   ]
  },
  {
   "cell_type": "code",
   "execution_count": 345,
   "id": "ada359dd",
   "metadata": {},
   "outputs": [
    {
     "data": {
      "text/plain": [
       "<AxesSubplot:xlabel='geolocation_source', ylabel='capacity_mw'>"
      ]
     },
     "execution_count": 345,
     "metadata": {},
     "output_type": "execute_result"
    },
    {
     "data": {
      "image/png": "[encoded data removed]",
      "text/plain": [
       "<Figure size 432x288 with 1 Axes>"
      ]
     },
     "metadata": {
      "needs_background": "light"
     },
     "output_type": "display_data"
    }
   ],
   "source": [
    "sn.barplot(x=\"geolocation_source\", y=\"capacity_mw\", data=df1,ci=None)"
   ]
  },
  {
   "cell_type": "markdown",
   "id": "5141bd85",
   "metadata": {},
   "source": [
    "Laboratory WRI requires highest electrical capacity(megawatts) in comparison with others."
   ]
  },
  {
   "cell_type": "code",
   "execution_count": 346,
   "id": "b2afcd03",
   "metadata": {},
   "outputs": [
    {
     "data": {
      "text/plain": [
       "<AxesSubplot:xlabel='primary_fuel', ylabel='generation_gwh_2014'>"
      ]
     },
     "execution_count": 346,
     "metadata": {},
     "output_type": "execute_result"
    },
    {
     "data": {
      "image/png": "[encoded data removed]",
      "text/plain": [
       "<Figure size 432x288 with 1 Axes>"
      ]
     },
     "metadata": {
      "needs_background": "light"
     },
     "output_type": "display_data"
    }
   ],
   "source": [
    "sn.barplot(x=\"primary_fuel\", y=\"generation_gwh_2014\", data=df1,ci=None)"
   ]
  },
  {
   "cell_type": "code",
   "execution_count": 347,
   "id": "4aa74d0b",
   "metadata": {},
   "outputs": [
    {
     "data": {
      "text/plain": [
       "<AxesSubplot:xlabel='primary_fuel', ylabel='generation_gwh_2015'>"
      ]
     },
     "execution_count": 347,
     "metadata": {},
     "output_type": "execute_result"
    },
    {
     "data": {
      "image/png": "[encoded data removed]",
      "text/plain": [
       "<Figure size 432x288 with 1 Axes>"
      ]
     },
     "metadata": {
      "needs_background": "light"
     },
     "output_type": "display_data"
    }
   ],
   "source": [
    "sn.barplot(x=\"primary_fuel\", y=\"generation_gwh_2015\", data=df1,ci=None)"
   ]
  },
  {
   "cell_type": "code",
   "execution_count": 348,
   "id": "0932ab74",
   "metadata": {},
   "outputs": [
    {
     "data": {
      "text/plain": [
       "<AxesSubplot:xlabel='primary_fuel', ylabel='generation_gwh_2016'>"
      ]
     },
     "execution_count": 348,
     "metadata": {},
     "output_type": "execute_result"
    },
    {
     "data": {
      "image/png": "[encoded data removed]",
      "text/plain": [
       "<Figure size 432x288 with 1 Axes>"
      ]
     },
     "metadata": {
      "needs_background": "light"
     },
     "output_type": "display_data"
    }
   ],
   "source": [
    "sn.barplot(x=\"primary_fuel\", y=\"generation_gwh_2016\", data=df1,ci=None)"
   ]
  },
  {
   "cell_type": "code",
   "execution_count": 349,
   "id": "546d28ea",
   "metadata": {},
   "outputs": [
    {
     "data": {
      "text/plain": [
       "<AxesSubplot:xlabel='primary_fuel', ylabel='generation_gwh_2017'>"
      ]
     },
     "execution_count": 349,
     "metadata": {},
     "output_type": "execute_result"
    },
    {
     "data": {
      "image/png": "[encoded data removed]",
      "text/plain": [
       "<Figure size 432x288 with 1 Axes>"
      ]
     },
     "metadata": {
      "needs_background": "light"
     },
     "output_type": "display_data"
    }
   ],
   "source": [
    "sn.barplot(x=\"primary_fuel\", y=\"generation_gwh_2017\", data=df1,ci=None)"
   ]
  },
  {
   "cell_type": "code",
   "execution_count": 350,
   "id": "f0cf2a36",
   "metadata": {},
   "outputs": [
    {
     "data": {
      "text/plain": [
       "<AxesSubplot:xlabel='primary_fuel', ylabel='generation_gwh_2018'>"
      ]
     },
     "execution_count": 350,
     "metadata": {},
     "output_type": "execute_result"
    },
    {
     "data": {
      "image/png": "[encoded data removed]",
      "text/plain": [
       "<Figure size 432x288 with 1 Axes>"
      ]
     },
     "metadata": {
      "needs_background": "light"
     },
     "output_type": "display_data"
    }
   ],
   "source": [
    "sn.barplot(x=\"primary_fuel\", y=\"generation_gwh_2018\", data=df1,ci=None)"
   ]
  },
  {
   "cell_type": "markdown",
   "id": "b5807b1f",
   "metadata": {},
   "source": [
    "Inference: We have plotted relationship between electricity generation in gigawatt-hours from the year (2014-2018) with Primary Fuel\n",
    "\n",
    "Nuclear thermal plant and Coal power plant can be seen as majority player in electricity generation"
   ]
  },
  {
   "cell_type": "code",
   "execution_count": 351,
   "id": "0a9e0fd5",
   "metadata": {},
   "outputs": [
    {
     "data": {
      "text/html": [
       "<div>\n",
       "<style scoped>\n",
       "    .dataframe tbody tr th:only-of-type {\n",
       "        vertical-align: middle;\n",
       "    }\n",
       "\n",
       "    .dataframe tbody tr th {\n",
       "        vertical-align: top;\n",
       "    }\n",
       "\n",
       "    .dataframe thead th {\n",
       "        text-align: right;\n",
       "    }\n",
       "</style>\n",
       "<table border=\"1\" class=\"dataframe\">\n",
       "  <thead>\n",
       "    <tr style=\"text-align: right;\">\n",
       "      <th></th>\n",
       "      <th>capacity_mw</th>\n",
       "      <th>latitude</th>\n",
       "      <th>longitude</th>\n",
       "      <th>primary_fuel</th>\n",
       "      <th>commissioning_year</th>\n",
       "      <th>owner</th>\n",
       "      <th>source</th>\n",
       "      <th>url</th>\n",
       "      <th>geolocation_source</th>\n",
       "      <th>generation_gwh_2014</th>\n",
       "      <th>generation_gwh_2015</th>\n",
       "      <th>generation_gwh_2016</th>\n",
       "      <th>generation_gwh_2017</th>\n",
       "      <th>generation_gwh_2018</th>\n",
       "    </tr>\n",
       "  </thead>\n",
       "  <tbody>\n",
       "    <tr>\n",
       "      <th>0</th>\n",
       "      <td>2.5</td>\n",
       "      <td>28.1839</td>\n",
       "      <td>73.2407</td>\n",
       "      <td>Solar</td>\n",
       "      <td>2011.0</td>\n",
       "      <td>Solar Paces</td>\n",
       "      <td>National Renewable Energy Laboratory</td>\n",
       "      <td>http://www.nrel.gov/csp/solarpaces/project_det...</td>\n",
       "      <td>National Renewable Energy Laboratory</td>\n",
       "      <td>2431.82359</td>\n",
       "      <td>2428.226946</td>\n",
       "      <td>2467.936859</td>\n",
       "      <td>2547.759305</td>\n",
       "      <td>2600.804099</td>\n",
       "    </tr>\n",
       "  </tbody>\n",
       "</table>\n",
       "</div>"
      ],
      "text/plain": [
       "   capacity_mw  latitude  longitude primary_fuel  commissioning_year  \\\n",
       "0          2.5   28.1839    73.2407        Solar              2011.0   \n",
       "\n",
       "         owner                                source  \\\n",
       "0  Solar Paces  National Renewable Energy Laboratory   \n",
       "\n",
       "                                                 url  \\\n",
       "0  http://www.nrel.gov/csp/solarpaces/project_det...   \n",
       "\n",
       "                     geolocation_source  generation_gwh_2014  \\\n",
       "0  National Renewable Energy Laboratory           2431.82359   \n",
       "\n",
       "   generation_gwh_2015  generation_gwh_2016  generation_gwh_2017  \\\n",
       "0          2428.226946          2467.936859          2547.759305   \n",
       "\n",
       "   generation_gwh_2018  \n",
       "0          2600.804099  "
      ]
     },
     "execution_count": 351,
     "metadata": {},
     "output_type": "execute_result"
    }
   ],
   "source": [
    "df1.head(1)"
   ]
  },
  {
   "cell_type": "code",
   "execution_count": 352,
   "id": "3ca75a99",
   "metadata": {},
   "outputs": [],
   "source": [
    "#now we removed some unnecessary columns from data set \n",
    "df1 = df1.drop(['commissioning_year','owner','source','url'],axis='columns')"
   ]
  },
  {
   "cell_type": "code",
   "execution_count": 353,
   "id": "3d0c01d0",
   "metadata": {},
   "outputs": [
    {
     "data": {
      "text/plain": [
       "(907, 10)"
      ]
     },
     "execution_count": 353,
     "metadata": {},
     "output_type": "execute_result"
    }
   ],
   "source": [
    "df1.shape"
   ]
  },
  {
   "cell_type": "markdown",
   "id": "f674d00e",
   "metadata": {},
   "source": [
    "### now Encoded object data"
   ]
  },
  {
   "cell_type": "code",
   "execution_count": 354,
   "id": "461003c5",
   "metadata": {},
   "outputs": [],
   "source": [
    "from sklearn.preprocessing import LabelEncoder\n",
    "le=LabelEncoder()\n",
    "df1['primary_fuel'] = le.fit_transform(df1['primary_fuel'])\n",
    "df1['geolocation_source']=le.fit_transform(df1['geolocation_source'])"
   ]
  },
  {
   "cell_type": "code",
   "execution_count": 355,
   "id": "2b278c27",
   "metadata": {},
   "outputs": [
    {
     "data": {
      "text/html": [
       "<div>\n",
       "<style scoped>\n",
       "    .dataframe tbody tr th:only-of-type {\n",
       "        vertical-align: middle;\n",
       "    }\n",
       "\n",
       "    .dataframe tbody tr th {\n",
       "        vertical-align: top;\n",
       "    }\n",
       "\n",
       "    .dataframe thead th {\n",
       "        text-align: right;\n",
       "    }\n",
       "</style>\n",
       "<table border=\"1\" class=\"dataframe\">\n",
       "  <thead>\n",
       "    <tr style=\"text-align: right;\">\n",
       "      <th></th>\n",
       "      <th>capacity_mw</th>\n",
       "      <th>latitude</th>\n",
       "      <th>longitude</th>\n",
       "      <th>primary_fuel</th>\n",
       "      <th>geolocation_source</th>\n",
       "      <th>generation_gwh_2014</th>\n",
       "      <th>generation_gwh_2015</th>\n",
       "      <th>generation_gwh_2016</th>\n",
       "      <th>generation_gwh_2017</th>\n",
       "      <th>generation_gwh_2018</th>\n",
       "    </tr>\n",
       "  </thead>\n",
       "  <tbody>\n",
       "    <tr>\n",
       "      <th>0</th>\n",
       "      <td>2.5</td>\n",
       "      <td>28.1839</td>\n",
       "      <td>73.2407</td>\n",
       "      <td>6</td>\n",
       "      <td>1</td>\n",
       "      <td>2431.823590</td>\n",
       "      <td>2428.226946</td>\n",
       "      <td>2467.936859</td>\n",
       "      <td>2547.759305</td>\n",
       "      <td>2600.804099</td>\n",
       "    </tr>\n",
       "    <tr>\n",
       "      <th>1</th>\n",
       "      <td>98.0</td>\n",
       "      <td>24.7663</td>\n",
       "      <td>74.6090</td>\n",
       "      <td>1</td>\n",
       "      <td>2</td>\n",
       "      <td>2431.823590</td>\n",
       "      <td>2428.226946</td>\n",
       "      <td>2467.936859</td>\n",
       "      <td>2547.759305</td>\n",
       "      <td>2600.804099</td>\n",
       "    </tr>\n",
       "    <tr>\n",
       "      <th>2</th>\n",
       "      <td>39.2</td>\n",
       "      <td>21.9038</td>\n",
       "      <td>69.3732</td>\n",
       "      <td>7</td>\n",
       "      <td>2</td>\n",
       "      <td>2431.823590</td>\n",
       "      <td>2428.226946</td>\n",
       "      <td>2467.936859</td>\n",
       "      <td>2547.759305</td>\n",
       "      <td>2600.804099</td>\n",
       "    </tr>\n",
       "    <tr>\n",
       "      <th>3</th>\n",
       "      <td>135.0</td>\n",
       "      <td>23.8712</td>\n",
       "      <td>91.3602</td>\n",
       "      <td>2</td>\n",
       "      <td>2</td>\n",
       "      <td>617.789264</td>\n",
       "      <td>843.747000</td>\n",
       "      <td>886.004428</td>\n",
       "      <td>663.774500</td>\n",
       "      <td>626.239128</td>\n",
       "    </tr>\n",
       "    <tr>\n",
       "      <th>4</th>\n",
       "      <td>1800.0</td>\n",
       "      <td>21.9603</td>\n",
       "      <td>82.4091</td>\n",
       "      <td>1</td>\n",
       "      <td>2</td>\n",
       "      <td>3035.550000</td>\n",
       "      <td>5916.370000</td>\n",
       "      <td>6243.000000</td>\n",
       "      <td>5385.579736</td>\n",
       "      <td>7279.000000</td>\n",
       "    </tr>\n",
       "  </tbody>\n",
       "</table>\n",
       "</div>"
      ],
      "text/plain": [
       "   capacity_mw  latitude  longitude  primary_fuel  geolocation_source  \\\n",
       "0          2.5   28.1839    73.2407             6                   1   \n",
       "1         98.0   24.7663    74.6090             1                   2   \n",
       "2         39.2   21.9038    69.3732             7                   2   \n",
       "3        135.0   23.8712    91.3602             2                   2   \n",
       "4       1800.0   21.9603    82.4091             1                   2   \n",
       "\n",
       "   generation_gwh_2014  generation_gwh_2015  generation_gwh_2016  \\\n",
       "0          2431.823590          2428.226946          2467.936859   \n",
       "1          2431.823590          2428.226946          2467.936859   \n",
       "2          2431.823590          2428.226946          2467.936859   \n",
       "3           617.789264           843.747000           886.004428   \n",
       "4          3035.550000          5916.370000          6243.000000   \n",
       "\n",
       "   generation_gwh_2017  generation_gwh_2018  \n",
       "0          2547.759305          2600.804099  \n",
       "1          2547.759305          2600.804099  \n",
       "2          2547.759305          2600.804099  \n",
       "3           663.774500           626.239128  \n",
       "4          5385.579736          7279.000000  "
      ]
     },
     "execution_count": 355,
     "metadata": {},
     "output_type": "execute_result"
    }
   ],
   "source": [
    "df1.head()"
   ]
  },
  {
   "cell_type": "code",
   "execution_count": 356,
   "id": "a61e72a6",
   "metadata": {},
   "outputs": [
    {
     "data": {
      "text/html": [
       "<div>\n",
       "<style scoped>\n",
       "    .dataframe tbody tr th:only-of-type {\n",
       "        vertical-align: middle;\n",
       "    }\n",
       "\n",
       "    .dataframe tbody tr th {\n",
       "        vertical-align: top;\n",
       "    }\n",
       "\n",
       "    .dataframe thead th {\n",
       "        text-align: right;\n",
       "    }\n",
       "</style>\n",
       "<table border=\"1\" class=\"dataframe\">\n",
       "  <thead>\n",
       "    <tr style=\"text-align: right;\">\n",
       "      <th></th>\n",
       "      <th>capacity_mw</th>\n",
       "      <th>latitude</th>\n",
       "      <th>longitude</th>\n",
       "      <th>primary_fuel</th>\n",
       "      <th>geolocation_source</th>\n",
       "      <th>generation_gwh_2014</th>\n",
       "      <th>generation_gwh_2015</th>\n",
       "      <th>generation_gwh_2016</th>\n",
       "      <th>generation_gwh_2017</th>\n",
       "      <th>generation_gwh_2018</th>\n",
       "    </tr>\n",
       "  </thead>\n",
       "  <tbody>\n",
       "    <tr>\n",
       "      <th>capacity_mw</th>\n",
       "      <td>1.000000</td>\n",
       "      <td>0.050984</td>\n",
       "      <td>0.195882</td>\n",
       "      <td>-0.380395</td>\n",
       "      <td>2.048653e-01</td>\n",
       "      <td>6.943503e-01</td>\n",
       "      <td>7.111899e-01</td>\n",
       "      <td>7.422211e-01</td>\n",
       "      <td>7.575852e-01</td>\n",
       "      <td>7.734556e-01</td>\n",
       "    </tr>\n",
       "    <tr>\n",
       "      <th>latitude</th>\n",
       "      <td>0.050984</td>\n",
       "      <td>1.000000</td>\n",
       "      <td>0.036362</td>\n",
       "      <td>-0.010204</td>\n",
       "      <td>-1.842751e-01</td>\n",
       "      <td>4.432124e-02</td>\n",
       "      <td>3.639795e-02</td>\n",
       "      <td>3.125609e-02</td>\n",
       "      <td>3.121240e-02</td>\n",
       "      <td>3.132625e-02</td>\n",
       "    </tr>\n",
       "    <tr>\n",
       "      <th>longitude</th>\n",
       "      <td>0.195882</td>\n",
       "      <td>0.036362</td>\n",
       "      <td>1.000000</td>\n",
       "      <td>-0.347948</td>\n",
       "      <td>2.523426e-01</td>\n",
       "      <td>1.147221e-02</td>\n",
       "      <td>1.881819e-02</td>\n",
       "      <td>3.920892e-02</td>\n",
       "      <td>3.967547e-02</td>\n",
       "      <td>3.777965e-02</td>\n",
       "    </tr>\n",
       "    <tr>\n",
       "      <th>primary_fuel</th>\n",
       "      <td>-0.380395</td>\n",
       "      <td>-0.010204</td>\n",
       "      <td>-0.347948</td>\n",
       "      <td>1.000000</td>\n",
       "      <td>-4.832168e-01</td>\n",
       "      <td>-1.247688e-01</td>\n",
       "      <td>-1.248280e-01</td>\n",
       "      <td>-1.310514e-01</td>\n",
       "      <td>-1.320034e-01</td>\n",
       "      <td>-1.369831e-01</td>\n",
       "    </tr>\n",
       "    <tr>\n",
       "      <th>geolocation_source</th>\n",
       "      <td>0.204865</td>\n",
       "      <td>-0.184275</td>\n",
       "      <td>0.252343</td>\n",
       "      <td>-0.483217</td>\n",
       "      <td>1.000000e+00</td>\n",
       "      <td>-2.966463e-17</td>\n",
       "      <td>-6.339264e-18</td>\n",
       "      <td>2.904016e-17</td>\n",
       "      <td>8.066490e-17</td>\n",
       "      <td>-1.048582e-17</td>\n",
       "    </tr>\n",
       "    <tr>\n",
       "      <th>generation_gwh_2014</th>\n",
       "      <td>0.694350</td>\n",
       "      <td>0.044321</td>\n",
       "      <td>0.011472</td>\n",
       "      <td>-0.124769</td>\n",
       "      <td>-2.966463e-17</td>\n",
       "      <td>1.000000e+00</td>\n",
       "      <td>9.535943e-01</td>\n",
       "      <td>9.258738e-01</td>\n",
       "      <td>8.916868e-01</td>\n",
       "      <td>8.849556e-01</td>\n",
       "    </tr>\n",
       "    <tr>\n",
       "      <th>generation_gwh_2015</th>\n",
       "      <td>0.711190</td>\n",
       "      <td>0.036398</td>\n",
       "      <td>0.018818</td>\n",
       "      <td>-0.124828</td>\n",
       "      <td>-6.339264e-18</td>\n",
       "      <td>9.535943e-01</td>\n",
       "      <td>1.000000e+00</td>\n",
       "      <td>9.688877e-01</td>\n",
       "      <td>9.282425e-01</td>\n",
       "      <td>9.234611e-01</td>\n",
       "    </tr>\n",
       "    <tr>\n",
       "      <th>generation_gwh_2016</th>\n",
       "      <td>0.742221</td>\n",
       "      <td>0.031256</td>\n",
       "      <td>0.039209</td>\n",
       "      <td>-0.131051</td>\n",
       "      <td>2.904016e-17</td>\n",
       "      <td>9.258738e-01</td>\n",
       "      <td>9.688877e-01</td>\n",
       "      <td>1.000000e+00</td>\n",
       "      <td>9.646488e-01</td>\n",
       "      <td>9.571589e-01</td>\n",
       "    </tr>\n",
       "    <tr>\n",
       "      <th>generation_gwh_2017</th>\n",
       "      <td>0.757585</td>\n",
       "      <td>0.031212</td>\n",
       "      <td>0.039675</td>\n",
       "      <td>-0.132003</td>\n",
       "      <td>8.066490e-17</td>\n",
       "      <td>8.916868e-01</td>\n",
       "      <td>9.282425e-01</td>\n",
       "      <td>9.646488e-01</td>\n",
       "      <td>1.000000e+00</td>\n",
       "      <td>9.826888e-01</td>\n",
       "    </tr>\n",
       "    <tr>\n",
       "      <th>generation_gwh_2018</th>\n",
       "      <td>0.773456</td>\n",
       "      <td>0.031326</td>\n",
       "      <td>0.037780</td>\n",
       "      <td>-0.136983</td>\n",
       "      <td>-1.048582e-17</td>\n",
       "      <td>8.849556e-01</td>\n",
       "      <td>9.234611e-01</td>\n",
       "      <td>9.571589e-01</td>\n",
       "      <td>9.826888e-01</td>\n",
       "      <td>1.000000e+00</td>\n",
       "    </tr>\n",
       "  </tbody>\n",
       "</table>\n",
       "</div>"
      ],
      "text/plain": [
       "                     capacity_mw  latitude  longitude  primary_fuel  \\\n",
       "capacity_mw             1.000000  0.050984   0.195882     -0.380395   \n",
       "latitude                0.050984  1.000000   0.036362     -0.010204   \n",
       "longitude               0.195882  0.036362   1.000000     -0.347948   \n",
       "primary_fuel           -0.380395 -0.010204  -0.347948      1.000000   \n",
       "geolocation_source      0.204865 -0.184275   0.252343     -0.483217   \n",
       "generation_gwh_2014     0.694350  0.044321   0.011472     -0.124769   \n",
       "generation_gwh_2015     0.711190  0.036398   0.018818     -0.124828   \n",
       "generation_gwh_2016     0.742221  0.031256   0.039209     -0.131051   \n",
       "generation_gwh_2017     0.757585  0.031212   0.039675     -0.132003   \n",
       "generation_gwh_2018     0.773456  0.031326   0.037780     -0.136983   \n",
       "\n",
       "                     geolocation_source  generation_gwh_2014  \\\n",
       "capacity_mw                2.048653e-01         6.943503e-01   \n",
       "latitude                  -1.842751e-01         4.432124e-02   \n",
       "longitude                  2.523426e-01         1.147221e-02   \n",
       "primary_fuel              -4.832168e-01        -1.247688e-01   \n",
       "geolocation_source         1.000000e+00        -2.966463e-17   \n",
       "generation_gwh_2014       -2.966463e-17         1.000000e+00   \n",
       "generation_gwh_2015       -6.339264e-18         9.535943e-01   \n",
       "generation_gwh_2016        2.904016e-17         9.258738e-01   \n",
       "generation_gwh_2017        8.066490e-17         8.916868e-01   \n",
       "generation_gwh_2018       -1.048582e-17         8.849556e-01   \n",
       "\n",
       "                     generation_gwh_2015  generation_gwh_2016  \\\n",
       "capacity_mw                 7.111899e-01         7.422211e-01   \n",
       "latitude                    3.639795e-02         3.125609e-02   \n",
       "longitude                   1.881819e-02         3.920892e-02   \n",
       "primary_fuel               -1.248280e-01        -1.310514e-01   \n",
       "geolocation_source         -6.339264e-18         2.904016e-17   \n",
       "generation_gwh_2014         9.535943e-01         9.258738e-01   \n",
       "generation_gwh_2015         1.000000e+00         9.688877e-01   \n",
       "generation_gwh_2016         9.688877e-01         1.000000e+00   \n",
       "generation_gwh_2017         9.282425e-01         9.646488e-01   \n",
       "generation_gwh_2018         9.234611e-01         9.571589e-01   \n",
       "\n",
       "                     generation_gwh_2017  generation_gwh_2018  \n",
       "capacity_mw                 7.575852e-01         7.734556e-01  \n",
       "latitude                    3.121240e-02         3.132625e-02  \n",
       "longitude                   3.967547e-02         3.777965e-02  \n",
       "primary_fuel               -1.320034e-01        -1.369831e-01  \n",
       "geolocation_source          8.066490e-17        -1.048582e-17  \n",
       "generation_gwh_2014         8.916868e-01         8.849556e-01  \n",
       "generation_gwh_2015         9.282425e-01         9.234611e-01  \n",
       "generation_gwh_2016         9.646488e-01         9.571589e-01  \n",
       "generation_gwh_2017         1.000000e+00         9.826888e-01  \n",
       "generation_gwh_2018         9.826888e-01         1.000000e+00  "
      ]
     },
     "execution_count": 356,
     "metadata": {},
     "output_type": "execute_result"
    }
   ],
   "source": [
    "#Finding the correlation values\n",
    "cor=df1.corr()\n",
    "cor"
   ]
  },
  {
   "cell_type": "code",
   "execution_count": 357,
   "id": "3fad4f9c",
   "metadata": {},
   "outputs": [
    {
     "data": {
      "text/plain": [
       "<AxesSubplot:>"
      ]
     },
     "execution_count": 357,
     "metadata": {},
     "output_type": "execute_result"
    },
    {
     "data": {
      "image/png": "[encoded data removed]",
      "text/plain": [
       "<Figure size 864x864 with 2 Axes>"
      ]
     },
     "metadata": {
      "needs_background": "light"
     },
     "output_type": "display_data"
    }
   ],
   "source": [
    "#Plotting heatmap\n",
    "corr_matrix=df1.corr()\n",
    "fig, axis = plt.subplots(figsize=(12, 12))\n",
    "sn.heatmap(corr_matrix,annot=True,linewidths=.5,cmap='coolwarm')"
   ]
  },
  {
   "cell_type": "markdown",
   "id": "07ddd804",
   "metadata": {},
   "source": [
    "electrical generating capacity(capacity_mw) is showing positive correlation with electricity generation for different years.\n",
    "\n",
    "Primary fuel and Capacity_mw is showing good positive correlation.\n",
    "\n",
    "\n",
    "### Removing the outliers"
   ]
  },
  {
   "cell_type": "code",
   "execution_count": 358,
   "id": "5da03e0a",
   "metadata": {},
   "outputs": [],
   "source": [
    "from scipy.stats import zscore\n",
    "z=np.abs(zscore(df1))\n",
    "new_df=df1[(z<3).all(axis=1)]"
   ]
  },
  {
   "cell_type": "code",
   "execution_count": 359,
   "id": "ea0bf42d",
   "metadata": {},
   "outputs": [
    {
     "data": {
      "text/plain": [
       "(907, 10)"
      ]
     },
     "execution_count": 359,
     "metadata": {},
     "output_type": "execute_result"
    }
   ],
   "source": [
    "df1.shape"
   ]
  },
  {
   "cell_type": "code",
   "execution_count": 360,
   "id": "82d3dcb5",
   "metadata": {},
   "outputs": [
    {
     "data": {
      "text/plain": [
       "(868, 10)"
      ]
     },
     "execution_count": 360,
     "metadata": {},
     "output_type": "execute_result"
    }
   ],
   "source": [
    "new_df.shape"
   ]
  },
  {
   "cell_type": "code",
   "execution_count": 361,
   "id": "1b706d4a",
   "metadata": {},
   "outputs": [
    {
     "data": {
      "text/plain": [
       "4.299889746416759"
      ]
     },
     "execution_count": 361,
     "metadata": {},
     "output_type": "execute_result"
    }
   ],
   "source": [
    "# Data loss percentage\n",
    "Data_loss=(df.shape[0]-new_df.shape[0])/df.shape[0]*100\n",
    "Data_loss"
   ]
  },
  {
   "cell_type": "markdown",
   "id": "e302968a",
   "metadata": {},
   "source": [
    "Data loss percentage is less than 4.51 percentage so it feasiable to use z_score\n",
    "\n",
    "### Checking for skewness"
   ]
  },
  {
   "cell_type": "code",
   "execution_count": 362,
   "id": "5487da42",
   "metadata": {},
   "outputs": [],
   "source": [
    "numericals=list(new_df.select_dtypes(['float64']))"
   ]
  },
  {
   "cell_type": "code",
   "execution_count": 363,
   "id": "c7d109e2",
   "metadata": {},
   "outputs": [
    {
     "data": {
      "text/plain": [
       "['capacity_mw',\n",
       " 'latitude',\n",
       " 'longitude',\n",
       " 'generation_gwh_2014',\n",
       " 'generation_gwh_2015',\n",
       " 'generation_gwh_2016',\n",
       " 'generation_gwh_2017',\n",
       " 'generation_gwh_2018']"
      ]
     },
     "execution_count": 363,
     "metadata": {},
     "output_type": "execute_result"
    }
   ],
   "source": [
    "numericals"
   ]
  },
  {
   "cell_type": "code",
   "execution_count": 364,
   "id": "76876169",
   "metadata": {},
   "outputs": [
    {
     "data": {
      "text/plain": [
       "capacity_mw            2.014499\n",
       "latitude              -0.107280\n",
       "longitude              0.934259\n",
       "generation_gwh_2014    1.510294\n",
       "generation_gwh_2015    1.381102\n",
       "generation_gwh_2016    1.405299\n",
       "generation_gwh_2017    1.273059\n",
       "generation_gwh_2018    1.311960\n",
       "dtype: float64"
      ]
     },
     "execution_count": 364,
     "metadata": {},
     "output_type": "execute_result"
    }
   ],
   "source": [
    "new_df[numericals].skew()"
   ]
  },
  {
   "cell_type": "code",
   "execution_count": 365,
   "id": "260a7ef5",
   "metadata": {},
   "outputs": [],
   "source": [
    "# using power transformer method for rwmoving skewness\n",
    "from sklearn.preprocessing import PowerTransformer\n",
    "scaler=PowerTransformer(method='yeo-johnson')\n",
    "new_df[numericals]=scaler.fit_transform(new_df[numericals].values)"
   ]
  },
  {
   "cell_type": "code",
   "execution_count": 366,
   "id": "0292180f",
   "metadata": {},
   "outputs": [
    {
     "data": {
      "text/plain": [
       "capacity_mw            0.018337\n",
       "latitude              -0.072507\n",
       "longitude             -0.001756\n",
       "generation_gwh_2014   -0.253543\n",
       "generation_gwh_2015   -0.312867\n",
       "generation_gwh_2016   -0.314508\n",
       "generation_gwh_2017   -0.345349\n",
       "generation_gwh_2018   -0.354918\n",
       "dtype: float64"
      ]
     },
     "execution_count": 366,
     "metadata": {},
     "output_type": "execute_result"
    }
   ],
   "source": [
    "new_df[numericals].skew()"
   ]
  },
  {
   "cell_type": "code",
   "execution_count": 367,
   "id": "e4666b6a",
   "metadata": {
    "scrolled": true
   },
   "outputs": [
    {
     "data": {
      "text/html": [
       "<div>\n",
       "<style scoped>\n",
       "    .dataframe tbody tr th:only-of-type {\n",
       "        vertical-align: middle;\n",
       "    }\n",
       "\n",
       "    .dataframe tbody tr th {\n",
       "        vertical-align: top;\n",
       "    }\n",
       "\n",
       "    .dataframe thead th {\n",
       "        text-align: right;\n",
       "    }\n",
       "</style>\n",
       "<table border=\"1\" class=\"dataframe\">\n",
       "  <thead>\n",
       "    <tr style=\"text-align: right;\">\n",
       "      <th></th>\n",
       "      <th>capacity_mw</th>\n",
       "      <th>latitude</th>\n",
       "      <th>longitude</th>\n",
       "      <th>primary_fuel</th>\n",
       "      <th>geolocation_source</th>\n",
       "      <th>generation_gwh_2014</th>\n",
       "      <th>generation_gwh_2015</th>\n",
       "      <th>generation_gwh_2016</th>\n",
       "      <th>generation_gwh_2017</th>\n",
       "      <th>generation_gwh_2018</th>\n",
       "    </tr>\n",
       "  </thead>\n",
       "  <tbody>\n",
       "    <tr>\n",
       "      <th>0</th>\n",
       "      <td>-1.683241</td>\n",
       "      <td>1.157848</td>\n",
       "      <td>-0.940678</td>\n",
       "      <td>6</td>\n",
       "      <td>1</td>\n",
       "      <td>0.343569</td>\n",
       "      <td>0.371618</td>\n",
       "      <td>0.374837</td>\n",
       "      <td>0.375620</td>\n",
       "      <td>0.389637</td>\n",
       "    </tr>\n",
       "    <tr>\n",
       "      <th>1</th>\n",
       "      <td>0.245148</td>\n",
       "      <td>0.593792</td>\n",
       "      <td>-0.520737</td>\n",
       "      <td>1</td>\n",
       "      <td>2</td>\n",
       "      <td>0.343569</td>\n",
       "      <td>0.371618</td>\n",
       "      <td>0.374837</td>\n",
       "      <td>0.375620</td>\n",
       "      <td>0.389637</td>\n",
       "    </tr>\n",
       "    <tr>\n",
       "      <th>2</th>\n",
       "      <td>-0.254916</td>\n",
       "      <td>0.124517</td>\n",
       "      <td>-2.381446</td>\n",
       "      <td>7</td>\n",
       "      <td>2</td>\n",
       "      <td>0.343569</td>\n",
       "      <td>0.371618</td>\n",
       "      <td>0.374837</td>\n",
       "      <td>0.375620</td>\n",
       "      <td>0.389637</td>\n",
       "    </tr>\n",
       "    <tr>\n",
       "      <th>3</th>\n",
       "      <td>0.417964</td>\n",
       "      <td>0.446724</td>\n",
       "      <td>2.432021</td>\n",
       "      <td>2</td>\n",
       "      <td>2</td>\n",
       "      <td>-1.021481</td>\n",
       "      <td>-0.710634</td>\n",
       "      <td>-0.662721</td>\n",
       "      <td>-0.883716</td>\n",
       "      <td>-0.906993</td>\n",
       "    </tr>\n",
       "  </tbody>\n",
       "</table>\n",
       "</div>"
      ],
      "text/plain": [
       "   capacity_mw  latitude  longitude  primary_fuel  geolocation_source  \\\n",
       "0    -1.683241  1.157848  -0.940678             6                   1   \n",
       "1     0.245148  0.593792  -0.520737             1                   2   \n",
       "2    -0.254916  0.124517  -2.381446             7                   2   \n",
       "3     0.417964  0.446724   2.432021             2                   2   \n",
       "\n",
       "   generation_gwh_2014  generation_gwh_2015  generation_gwh_2016  \\\n",
       "0             0.343569             0.371618             0.374837   \n",
       "1             0.343569             0.371618             0.374837   \n",
       "2             0.343569             0.371618             0.374837   \n",
       "3            -1.021481            -0.710634            -0.662721   \n",
       "\n",
       "   generation_gwh_2017  generation_gwh_2018  \n",
       "0             0.375620             0.389637  \n",
       "1             0.375620             0.389637  \n",
       "2             0.375620             0.389637  \n",
       "3            -0.883716            -0.906993  "
      ]
     },
     "execution_count": 367,
     "metadata": {},
     "output_type": "execute_result"
    }
   ],
   "source": [
    "new_df.head(4)"
   ]
  },
  {
   "cell_type": "code",
   "execution_count": 369,
   "id": "0a72c1bf",
   "metadata": {
    "scrolled": true
   },
   "outputs": [
    {
     "data": {
      "image/png": "[encoded data removed]",
      "text/plain": [
       "<Figure size 1440x6480 with 10 Axes>"
      ]
     },
     "metadata": {
      "needs_background": "light"
     },
     "output_type": "display_data"
    }
   ],
   "source": [
    "#Checking Data Distrubution again\n",
    "plt.figure(figsize =(20,90))\n",
    "pltnum = 1\n",
    "for i in new_df:\n",
    "    if pltnum <= 10:\n",
    "        plt.subplot(25,3,pltnum)\n",
    "        sns.distplot(new_df[i],color = 'lightgreen')\n",
    "        plt.xlabel(i,fontsize= 15)\n",
    "    pltnum+=1\n",
    "plt.show()\n"
   ]
  },
  {
   "cell_type": "markdown",
   "id": "249bcc41",
   "metadata": {},
   "source": [
    "## Task 1: To Predict the Capacity_mw\n",
    "#### Splitting the data into input and target variables"
   ]
  },
  {
   "cell_type": "code",
   "execution_count": 368,
   "id": "a9487f1e",
   "metadata": {},
   "outputs": [],
   "source": [
    "x = new_df.drop(['capacity_mw'], axis = 1)\n",
    "y=new_df['capacity_mw']"
   ]
  },
  {
   "cell_type": "code",
   "execution_count": 384,
   "id": "4b50ab87",
   "metadata": {},
   "outputs": [],
   "source": [
    "# Splitting the dataset into trianing and testing data\n",
    "from sklearn.model_selection import train_test_split, GridSearchCV, cross_val_score"
   ]
  },
  {
   "cell_type": "code",
   "execution_count": 375,
   "id": "35a94bbc",
   "metadata": {},
   "outputs": [
    {
     "name": "stdout",
     "output_type": "stream",
     "text": [
      "the best random state is 369\n"
     ]
    }
   ],
   "source": [
    "#Finding the best random state\n",
    "\n",
    "from sklearn.linear_model import LinearRegression, Ridge, RidgeCV, Lasso, LassoCV\n",
    "rs = 0\n",
    "for i in range(0,500):\n",
    "    x_train,x_test,y_train,y_test = train_test_split(x,y,random_state = i, test_size = 0.3)\n",
    "    lr = LinearRegression()\n",
    "    lr.fit(x_train,y_train)\n",
    "    tr_score = lr.score(x_train,y_train)\n",
    "    ts_score = lr.score(x_test,y_test)\n",
    "    if round(tr_score*100,1) == round(ts_score*100,1):\n",
    "        if i> rs:\n",
    "            rs = i\n",
    "print('the best random state is', rs)"
   ]
  },
  {
   "cell_type": "code",
   "execution_count": 376,
   "id": "ebcf1681",
   "metadata": {},
   "outputs": [],
   "source": [
    "x_train,x_test,y_train,y_test=train_test_split(x,y,test_size=0.2,random_state=rs)"
   ]
  },
  {
   "cell_type": "code",
   "execution_count": 377,
   "id": "46923a1f",
   "metadata": {},
   "outputs": [
    {
     "name": "stdout",
     "output_type": "stream",
     "text": [
      "R2 score from Linear regression is 0.3559011327953775\n",
      "Mean absolute error :  0.6653096223132315\n",
      "Mean Squared error : 0.6021983637755571\n",
      "Cross validation score is  0.33912294123384745\n"
     ]
    }
   ],
   "source": [
    "# Linear Regressor Model\n",
    "from sklearn.linear_model import LinearRegression\n",
    "regressor=LinearRegression()\n",
    "regressor.fit(x_train,y_train)\n",
    "y_pred=regressor.predict(x_test)\n",
    "lr_score=r2_score(y_test,y_pred)\n",
    "print(\"R2 score from Linear regression is\",lr_score)\n",
    "lr_cv=cross_val_score(regressor,x,y,scoring='r2',cv=5).mean()\n",
    "lr_mae=mean_absolute_error(y_test,y_pred)\n",
    "print('Mean absolute error : ',lr_mae)\n",
    "lr_mse=mean_squared_error(y_test,y_pred)\n",
    "print('Mean Squared error :',lr_mse)\n",
    "print(\"Cross validation score is \",lr_cv)"
   ]
  },
  {
   "cell_type": "code",
   "execution_count": 378,
   "id": "d696dcc6",
   "metadata": {},
   "outputs": [
    {
     "name": "stdout",
     "output_type": "stream",
     "text": [
      "R2 score from Support Vector regression is 0.6146437717470552\n",
      "Mean absolute error :  0.4555622538858593\n",
      "Mean Squared error : 0.36028768554086044\n",
      "Cross validation score is  0.5946022653938039\n"
     ]
    }
   ],
   "source": [
    "# Support Vector Regression\n",
    "from sklearn.svm import SVR\n",
    "SR = SVR()\n",
    "SR.fit(x, y)\n",
    "y_pred=SR.predict(x_test)\n",
    "svr_score=r2_score(y_test,y_pred)\n",
    "print(\"R2 score from Support Vector regression is\",svr_score)\n",
    "svr_cv=cross_val_score(SR,x,y,scoring='r2',cv=5).mean()\n",
    "svr_mae=mean_absolute_error(y_test,y_pred)\n",
    "print('Mean absolute error : ',svr_mae)\n",
    "svr_mse=mean_squared_error(y_test,y_pred)\n",
    "print('Mean Squared error :',svr_mse)\n",
    "print(\"Cross validation score is \",svr_cv)"
   ]
  },
  {
   "cell_type": "code",
   "execution_count": 379,
   "id": "c4de4561",
   "metadata": {},
   "outputs": [
    {
     "name": "stdout",
     "output_type": "stream",
     "text": [
      "R2 score from K Nearest Neighbors regression is 0.88795672415617\n",
      "Mean absolute error :  0.21635290036492538\n",
      "Mean Squared error : 0.10475453508874545\n",
      "Cross validation score is  0.6438457008701647\n"
     ]
    }
   ],
   "source": [
    "# K nearest neighbors\n",
    "from sklearn.neighbors import KNeighborsRegressor\n",
    "neigh = KNeighborsRegressor(n_neighbors=2)\n",
    "neigh.fit(x, y)\n",
    "y_pred=neigh.predict(x_test)\n",
    "knn_score=r2_score(y_test,y_pred)\n",
    "print(\"R2 score from K Nearest Neighbors regression is\",knn_score)\n",
    "knn_cv=cross_val_score(neigh,x,y,scoring='r2',cv=5).mean()\n",
    "knn_mae=mean_absolute_error(y_test,y_pred)\n",
    "print('Mean absolute error : ',knn_mae)\n",
    "knn_mse=mean_squared_error(y_test,y_pred)\n",
    "print('Mean Squared error :',knn_mse)\n",
    "print(\"Cross validation score is \",knn_cv)"
   ]
  },
  {
   "cell_type": "code",
   "execution_count": 380,
   "id": "419b16c2",
   "metadata": {},
   "outputs": [
    {
     "name": "stdout",
     "output_type": "stream",
     "text": [
      "R2 score from Random Forest regression is 0.7934579378029755\n",
      "Mean absolute error :  0.3127511965721364\n",
      "Mean Squared error : 0.19310590072247977\n",
      "Cross validation score is  0.7820098076099471\n"
     ]
    }
   ],
   "source": [
    "from sklearn.ensemble import RandomForestRegressor\n",
    "RFR= RandomForestRegressor()\n",
    "RFR.fit(x_train, y_train)\n",
    "y_pred=RFR.predict(x_test)\n",
    "rfr_score=r2_score(y_test,y_pred)\n",
    "print(\"R2 score from Random Forest regression is\",rfr_score)\n",
    "rfr_cv=cross_val_score(RFR,x,y,scoring='r2',cv=5).mean()\n",
    "rfr_mae=mean_absolute_error(y_test,y_pred)\n",
    "print('Mean absolute error : ',rfr_mae)\n",
    "rfr_mse=mean_squared_error(y_test,y_pred)\n",
    "print('Mean Squared error :',rfr_mse)\n",
    "print(\"Cross validation score is \",rfr_cv)"
   ]
  },
  {
   "cell_type": "code",
   "execution_count": 381,
   "id": "ce3d08b3",
   "metadata": {},
   "outputs": [
    {
     "data": {
      "text/html": [
       "<div>\n",
       "<style scoped>\n",
       "    .dataframe tbody tr th:only-of-type {\n",
       "        vertical-align: middle;\n",
       "    }\n",
       "\n",
       "    .dataframe tbody tr th {\n",
       "        vertical-align: top;\n",
       "    }\n",
       "\n",
       "    .dataframe thead th {\n",
       "        text-align: right;\n",
       "    }\n",
       "</style>\n",
       "<table border=\"1\" class=\"dataframe\">\n",
       "  <thead>\n",
       "    <tr style=\"text-align: right;\">\n",
       "      <th></th>\n",
       "      <th>Model</th>\n",
       "      <th>R2_score</th>\n",
       "      <th>Cross Validation_score</th>\n",
       "      <th>Difference</th>\n",
       "    </tr>\n",
       "  </thead>\n",
       "  <tbody>\n",
       "    <tr>\n",
       "      <th>0</th>\n",
       "      <td>Linear Regression</td>\n",
       "      <td>35.590113</td>\n",
       "      <td>33.912294</td>\n",
       "      <td>1.677819</td>\n",
       "    </tr>\n",
       "    <tr>\n",
       "      <th>1</th>\n",
       "      <td>Support Vector Regressor</td>\n",
       "      <td>61.464377</td>\n",
       "      <td>59.460227</td>\n",
       "      <td>2.004151</td>\n",
       "    </tr>\n",
       "    <tr>\n",
       "      <th>2</th>\n",
       "      <td>K Nearest Neighbors regression</td>\n",
       "      <td>88.795672</td>\n",
       "      <td>64.384570</td>\n",
       "      <td>24.411102</td>\n",
       "    </tr>\n",
       "    <tr>\n",
       "      <th>3</th>\n",
       "      <td>Random Forest Regressor</td>\n",
       "      <td>79.345794</td>\n",
       "      <td>78.200981</td>\n",
       "      <td>1.144813</td>\n",
       "    </tr>\n",
       "  </tbody>\n",
       "</table>\n",
       "</div>"
      ],
      "text/plain": [
       "                             Model   R2_score  Cross Validation_score  \\\n",
       "0                Linear Regression  35.590113               33.912294   \n",
       "1         Support Vector Regressor  61.464377               59.460227   \n",
       "2   K Nearest Neighbors regression  88.795672               64.384570   \n",
       "3          Random Forest Regressor  79.345794               78.200981   \n",
       "\n",
       "   Difference  \n",
       "0    1.677819  \n",
       "1    2.004151  \n",
       "2   24.411102  \n",
       "3    1.144813  "
      ]
     },
     "execution_count": 381,
     "metadata": {},
     "output_type": "execute_result"
    }
   ],
   "source": [
    "# Creting dataframe to store accuracy,f1 score and cv score of all the models.\n",
    "model=['Linear Regression','Support Vector Regressor',' K Nearest Neighbors regression','Random Forest Regressor']\n",
    "\n",
    "acc=[lr_score*100,svr_score*100,knn_score*100,rfr_score*100]\n",
    "\n",
    "cv_score=[lr_cv*100,svr_cv*100,knn_cv*100,rfr_cv*100]\n",
    "\n",
    "\n",
    "diff=[acc[0]-cv_score[0],acc[1]-cv_score[1],acc[2]-cv_score[2],acc[3]-cv_score[3]]\n",
    "diff\n",
    "result=pd.DataFrame({'Model':model,'R2_score':acc,'Cross Validation_score':cv_score,'Difference':diff})\n",
    "result"
   ]
  },
  {
   "cell_type": "markdown",
   "id": "bd7c8f5b",
   "metadata": {},
   "source": [
    "### Choosing the Model\n",
    "#### I am going to choose the Random Forest Regressor as best model because it is giving highest R2 score approximately 84 and least difference of 5 between R2 and Cross validation score\n",
    "\n",
    "\n",
    "### Applying hyperparameter to the best accuracy model"
   ]
  },
  {
   "cell_type": "code",
   "execution_count": 382,
   "id": "349cfdbb",
   "metadata": {},
   "outputs": [],
   "source": [
    "parameters= {\n",
    "    'n_estimators': [70,100],\n",
    "    'max_depth': [5,10,18],\n",
    "    'min_samples_split':[2,3,4],\n",
    "    'criterion':['mse', 'mae'],\n",
    "    }"
   ]
  },
  {
   "cell_type": "code",
   "execution_count": 385,
   "id": "ca6c73a4",
   "metadata": {},
   "outputs": [],
   "source": [
    "GCV=GridSearchCV(RandomForestRegressor(),parameters,cv=5)"
   ]
  },
  {
   "cell_type": "code",
   "execution_count": 386,
   "id": "1035f194",
   "metadata": {},
   "outputs": [
    {
     "data": {
      "text/plain": [
       "GridSearchCV(cv=5, estimator=RandomForestRegressor(),\n",
       "             param_grid={'criterion': ['mse', 'mae'], 'max_depth': [5, 10, 18],\n",
       "                         'min_samples_split': [2, 3, 4],\n",
       "                         'n_estimators': [70, 100]})"
      ]
     },
     "execution_count": 386,
     "metadata": {},
     "output_type": "execute_result"
    }
   ],
   "source": [
    "GCV.fit(x_train,y_train)"
   ]
  },
  {
   "cell_type": "code",
   "execution_count": 387,
   "id": "4c259ae2",
   "metadata": {},
   "outputs": [
    {
     "data": {
      "text/plain": [
       "{'criterion': 'mae',\n",
       " 'max_depth': 10,\n",
       " 'min_samples_split': 2,\n",
       " 'n_estimators': 70}"
      ]
     },
     "execution_count": 387,
     "metadata": {},
     "output_type": "execute_result"
    }
   ],
   "source": [
    "GCV.best_params_"
   ]
  },
  {
   "cell_type": "code",
   "execution_count": 388,
   "id": "13769769",
   "metadata": {},
   "outputs": [
    {
     "name": "stdout",
     "output_type": "stream",
     "text": [
      "R2 score from Random Forest regression is 79.34579378029754\n",
      "Mean absolute error :  0.3127511965721364\n"
     ]
    }
   ],
   "source": [
    "Final_model=RandomForestRegressor(n_estimators=70,criterion='mae',max_depth=10,min_samples_split=2)\n",
    "Final_model.fit(x_train,y_train)\n",
    "pred=Final_model.predict(x_test)\n",
    "rfr_score=r2_score(y_test,y_pred)\n",
    "print(\"R2 score from Random Forest regression is\",rfr_score*100)\n",
    "rfr_mae=mean_absolute_error(y_test,y_pred)\n",
    "print('Mean absolute error : ',rfr_mae)"
   ]
  },
  {
   "cell_type": "markdown",
   "id": "d65b3ea6",
   "metadata": {},
   "source": [
    "### Saving the model"
   ]
  },
  {
   "cell_type": "code",
   "execution_count": 390,
   "id": "37f831ac",
   "metadata": {},
   "outputs": [
    {
     "data": {
      "text/plain": [
       "['Final_Model.pkl']"
      ]
     },
     "execution_count": 390,
     "metadata": {},
     "output_type": "execute_result"
    }
   ],
   "source": [
    "import joblib\n",
    "joblib.dump(Final_model,'Final_Model.pkl')"
   ]
  },
  {
   "cell_type": "markdown",
   "id": "10717368",
   "metadata": {},
   "source": [
    "## Task 2 : Predicting Primary Fuel Type"
   ]
  },
  {
   "cell_type": "code",
   "execution_count": 396,
   "id": "14e01a45",
   "metadata": {},
   "outputs": [
    {
     "data": {
      "text/html": [
       "<div>\n",
       "<style scoped>\n",
       "    .dataframe tbody tr th:only-of-type {\n",
       "        vertical-align: middle;\n",
       "    }\n",
       "\n",
       "    .dataframe tbody tr th {\n",
       "        vertical-align: top;\n",
       "    }\n",
       "\n",
       "    .dataframe thead th {\n",
       "        text-align: right;\n",
       "    }\n",
       "</style>\n",
       "<table border=\"1\" class=\"dataframe\">\n",
       "  <thead>\n",
       "    <tr style=\"text-align: right;\">\n",
       "      <th></th>\n",
       "      <th>capacity_mw</th>\n",
       "      <th>latitude</th>\n",
       "      <th>longitude</th>\n",
       "      <th>primary_fuel</th>\n",
       "      <th>geolocation_source</th>\n",
       "      <th>generation_gwh_2014</th>\n",
       "      <th>generation_gwh_2015</th>\n",
       "      <th>generation_gwh_2016</th>\n",
       "      <th>generation_gwh_2017</th>\n",
       "      <th>generation_gwh_2018</th>\n",
       "    </tr>\n",
       "  </thead>\n",
       "  <tbody>\n",
       "    <tr>\n",
       "      <th>0</th>\n",
       "      <td>-1.683241</td>\n",
       "      <td>1.157848</td>\n",
       "      <td>-0.940678</td>\n",
       "      <td>6</td>\n",
       "      <td>1</td>\n",
       "      <td>0.343569</td>\n",
       "      <td>0.371618</td>\n",
       "      <td>0.374837</td>\n",
       "      <td>0.375620</td>\n",
       "      <td>0.389637</td>\n",
       "    </tr>\n",
       "    <tr>\n",
       "      <th>1</th>\n",
       "      <td>0.245148</td>\n",
       "      <td>0.593792</td>\n",
       "      <td>-0.520737</td>\n",
       "      <td>1</td>\n",
       "      <td>2</td>\n",
       "      <td>0.343569</td>\n",
       "      <td>0.371618</td>\n",
       "      <td>0.374837</td>\n",
       "      <td>0.375620</td>\n",
       "      <td>0.389637</td>\n",
       "    </tr>\n",
       "    <tr>\n",
       "      <th>2</th>\n",
       "      <td>-0.254916</td>\n",
       "      <td>0.124517</td>\n",
       "      <td>-2.381446</td>\n",
       "      <td>7</td>\n",
       "      <td>2</td>\n",
       "      <td>0.343569</td>\n",
       "      <td>0.371618</td>\n",
       "      <td>0.374837</td>\n",
       "      <td>0.375620</td>\n",
       "      <td>0.389637</td>\n",
       "    </tr>\n",
       "    <tr>\n",
       "      <th>3</th>\n",
       "      <td>0.417964</td>\n",
       "      <td>0.446724</td>\n",
       "      <td>2.432021</td>\n",
       "      <td>2</td>\n",
       "      <td>2</td>\n",
       "      <td>-1.021481</td>\n",
       "      <td>-0.710634</td>\n",
       "      <td>-0.662721</td>\n",
       "      <td>-0.883716</td>\n",
       "      <td>-0.906993</td>\n",
       "    </tr>\n",
       "  </tbody>\n",
       "</table>\n",
       "</div>"
      ],
      "text/plain": [
       "   capacity_mw  latitude  longitude  primary_fuel  geolocation_source  \\\n",
       "0    -1.683241  1.157848  -0.940678             6                   1   \n",
       "1     0.245148  0.593792  -0.520737             1                   2   \n",
       "2    -0.254916  0.124517  -2.381446             7                   2   \n",
       "3     0.417964  0.446724   2.432021             2                   2   \n",
       "\n",
       "   generation_gwh_2014  generation_gwh_2015  generation_gwh_2016  \\\n",
       "0             0.343569             0.371618             0.374837   \n",
       "1             0.343569             0.371618             0.374837   \n",
       "2             0.343569             0.371618             0.374837   \n",
       "3            -1.021481            -0.710634            -0.662721   \n",
       "\n",
       "   generation_gwh_2017  generation_gwh_2018  \n",
       "0             0.375620             0.389637  \n",
       "1             0.375620             0.389637  \n",
       "2             0.375620             0.389637  \n",
       "3            -0.883716            -0.906993  "
      ]
     },
     "execution_count": 396,
     "metadata": {},
     "output_type": "execute_result"
    }
   ],
   "source": [
    "new_df.head(4)"
   ]
  },
  {
   "cell_type": "code",
   "execution_count": 397,
   "id": "27d08848",
   "metadata": {},
   "outputs": [
    {
     "data": {
      "text/plain": [
       "Coal       258\n",
       "Hydro      251\n",
       "Solar      127\n",
       "Wind       123\n",
       "Gas         69\n",
       "Biomass     50\n",
       "Oil         20\n",
       "Nuclear      9\n",
       "Name: primary_fuel, dtype: int64"
      ]
     },
     "execution_count": 397,
     "metadata": {},
     "output_type": "execute_result"
    }
   ],
   "source": [
    "df['primary_fuel'].value_counts()"
   ]
  },
  {
   "cell_type": "code",
   "execution_count": 398,
   "id": "0bd5b059",
   "metadata": {},
   "outputs": [
    {
     "data": {
      "text/plain": [
       "1    258\n",
       "3    251\n",
       "6    127\n",
       "7    123\n",
       "2     69\n",
       "0     50\n",
       "5     20\n",
       "4      9\n",
       "Name: primary_fuel, dtype: int64"
      ]
     },
     "execution_count": 398,
     "metadata": {},
     "output_type": "execute_result"
    }
   ],
   "source": [
    "df1['primary_fuel'].value_counts()"
   ]
  },
  {
   "cell_type": "markdown",
   "id": "1dabddf5",
   "metadata": {},
   "source": [
    "Encoded values for fuel type fields are as follows:-\n",
    "Biomass-0, Coal-1, Gas-2, Hydro-3, Nuclear-4, Oil-5, Solar-6, Wind-7"
   ]
  },
  {
   "cell_type": "code",
   "execution_count": 399,
   "id": "01453fd4",
   "metadata": {},
   "outputs": [
    {
     "data": {
      "text/plain": [
       "(868, 10)"
      ]
     },
     "execution_count": 399,
     "metadata": {},
     "output_type": "execute_result"
    }
   ],
   "source": [
    "new_df.shape"
   ]
  },
  {
   "cell_type": "code",
   "execution_count": 400,
   "id": "1b8af865",
   "metadata": {},
   "outputs": [],
   "source": [
    "# selecting target and feature sapereately.\n",
    "x = new_df.drop(['primary_fuel'], axis = 1)\n",
    "y=new_df['primary_fuel']"
   ]
  },
  {
   "cell_type": "markdown",
   "id": "22bd51a4",
   "metadata": {},
   "source": [
    "### Model Building"
   ]
  },
  {
   "cell_type": "code",
   "execution_count": 406,
   "id": "ee81155d",
   "metadata": {},
   "outputs": [],
   "source": [
    "from sklearn.ensemble import BaggingClassifier\n",
    "from sklearn.tree import DecisionTreeClassifier\n",
    "from sklearn.neighbors import KNeighborsClassifier\n",
    "from sklearn.ensemble import RandomForestClassifier\n",
    "\n",
    "\n",
    "from sklearn.model_selection import train_test_split\n",
    "\n",
    "from sklearn.metrics import confusion_matrix\n",
    "from sklearn.metrics import accuracy_score\n",
    "from sklearn.metrics import classification_report\n",
    "from sklearn.metrics import recall_score,precision_score\n",
    "from sklearn.svm import SVC\n",
    "from sklearn.ensemble import GradientBoostingClassifier\n"
   ]
  },
  {
   "cell_type": "code",
   "execution_count": 407,
   "id": "2d8fbf82",
   "metadata": {},
   "outputs": [],
   "source": [
    "# Creating X_train,X_test,y_train,y_test\n",
    "x_train,x_test,y_train,y_test=train_test_split(x,y,test_size=.30,random_state=rs)"
   ]
  },
  {
   "cell_type": "code",
   "execution_count": 408,
   "id": "e799bf41",
   "metadata": {},
   "outputs": [
    {
     "name": "stdout",
     "output_type": "stream",
     "text": [
      "DecisionTreeClassifier() accuracy_score 0.6704980842911877\n",
      "RandomForestClassifier() accuracy_score 0.7318007662835249\n",
      "SVC() accuracy_score 0.632183908045977\n",
      "GradientBoostingClassifier() accuracy_score 0.7509578544061303\n"
     ]
    }
   ],
   "source": [
    "models=[DecisionTreeClassifier(),\n",
    "        RandomForestClassifier(),\n",
    "        SVC(),\n",
    "        GradientBoostingClassifier()\n",
    "        ]\n",
    "\n",
    "\n",
    "for model in range(len(models)):\n",
    "    mod=models[model]\n",
    "    mod.fit(x_train,y_train)\n",
    "    pred=mod.predict(x_test)\n",
    "    print(models[model],\"accuracy_score\", accuracy_score(y_test,pred))"
   ]
  },
  {
   "cell_type": "code",
   "execution_count": 415,
   "id": "edc3618d",
   "metadata": {},
   "outputs": [
    {
     "name": "stdout",
     "output_type": "stream",
     "text": [
      "\n",
      " DecisionTreeClassifier() \n",
      "confusion_matrix\n",
      "\n",
      " [[ 7  2  0  2  0  0  0  4]\n",
      " [ 3 61  4  9  2  1  0  2]\n",
      " [ 0  7 10  7  3  2  0  0]\n",
      " [ 2  5  1 48  0  3  0  4]\n",
      " [ 0  2  1  0  0  0  0  0]\n",
      " [ 0  1  0  0  1  3  0  0]\n",
      " [ 0  0  0  0  0  0 35  0]\n",
      " [ 1  2  2  7  0  0  3 14]]\n",
      "\n",
      " RandomForestClassifier() \n",
      "confusion_matrix\n",
      "\n",
      " [[ 9  1  0  2  0  0  0  3]\n",
      " [ 3 69  0  7  0  0  0  3]\n",
      " [ 0 12  7  8  0  2  0  0]\n",
      " [ 2  3  0 56  0  0  0  2]\n",
      " [ 0  3  0  0  0  0  0  0]\n",
      " [ 0  2  1  0  0  2  0  0]\n",
      " [ 0  0  0  0  0  0 35  0]\n",
      " [ 0  5  0  6  0  0  2 16]]\n",
      "\n",
      " SVC() \n",
      "confusion_matrix\n",
      "\n",
      " [[ 0  0  0  0  0  0  0 15]\n",
      " [ 0 61  0 15  0  0  0  6]\n",
      " [ 0  7  1 19  0  1  0  1]\n",
      " [ 0  4  0 49  0  0  0 10]\n",
      " [ 0  3  0  0  0  0  0  0]\n",
      " [ 0  1  0  1  0  1  0  2]\n",
      " [ 0  3  0  0  0  0 32  0]\n",
      " [ 0  6  0  2  0  0  0 21]]\n",
      "\n",
      " GradientBoostingClassifier() \n",
      "confusion_matrix\n",
      "\n",
      " [[ 7  2  0  2  0  0  0  4]\n",
      " [ 2 69  0  5  0  1  0  5]\n",
      " [ 0  5 12 10  0  2  0  0]\n",
      " [ 2  4  0 54  0  0  0  3]\n",
      " [ 0  3  0  0  0  0  0  0]\n",
      " [ 0  1  2  1  0  1  0  0]\n",
      " [ 0  1  0  0  0  0 34  0]\n",
      " [ 0  7  0  3  0  0  0 19]]\n"
     ]
    }
   ],
   "source": [
    "for model in range(len(models)):\n",
    "    mod=models[model]\n",
    "    mod.fit(x_train,y_train)\n",
    "    pred=mod.predict(x_test)\n",
    "    print('\\n',models[model],\"\\nconfusion_matrix\\n\\n\",confusion_matrix(y_test,pred))"
   ]
  },
  {
   "cell_type": "code",
   "execution_count": 416,
   "id": "b5a60883",
   "metadata": {},
   "outputs": [
    {
     "name": "stdout",
     "output_type": "stream",
     "text": [
      "DecisionTreeClassifier() classification_report\n",
      "               precision    recall  f1-score   support\n",
      "\n",
      "           0       0.42      0.33      0.37        15\n",
      "           1       0.75      0.74      0.75        82\n",
      "           2       0.59      0.45      0.51        29\n",
      "           3       0.65      0.76      0.70        63\n",
      "           4       0.00      0.00      0.00         3\n",
      "           5       0.25      0.40      0.31         5\n",
      "           6       0.92      1.00      0.96        35\n",
      "           7       0.57      0.45      0.50        29\n",
      "\n",
      "    accuracy                           0.68       261\n",
      "   macro avg       0.52      0.52      0.51       261\n",
      "weighted avg       0.67      0.68      0.67       261\n",
      "\n",
      "RandomForestClassifier() classification_report\n",
      "               precision    recall  f1-score   support\n",
      "\n",
      "           0       0.67      0.67      0.67        15\n",
      "           1       0.76      0.83      0.80        82\n",
      "           2       0.78      0.24      0.37        29\n",
      "           3       0.69      0.87      0.77        63\n",
      "           4       0.00      0.00      0.00         3\n",
      "           5       0.25      0.20      0.22         5\n",
      "           6       0.95      1.00      0.97        35\n",
      "           7       0.70      0.66      0.68        29\n",
      "\n",
      "    accuracy                           0.75       261\n",
      "   macro avg       0.60      0.56      0.56       261\n",
      "weighted avg       0.74      0.75      0.72       261\n",
      "\n",
      "SVC() classification_report\n",
      "               precision    recall  f1-score   support\n",
      "\n",
      "           0       0.00      0.00      0.00        15\n",
      "           1       0.72      0.74      0.73        82\n",
      "           2       1.00      0.03      0.07        29\n",
      "           3       0.57      0.78      0.66        63\n",
      "           4       0.00      0.00      0.00         3\n",
      "           5       0.50      0.20      0.29         5\n",
      "           6       1.00      0.91      0.96        35\n",
      "           7       0.38      0.72      0.50        29\n",
      "\n",
      "    accuracy                           0.63       261\n",
      "   macro avg       0.52      0.42      0.40       261\n",
      "weighted avg       0.66      0.63      0.58       261\n",
      "\n",
      "GradientBoostingClassifier() classification_report\n",
      "               precision    recall  f1-score   support\n",
      "\n",
      "           0       0.64      0.47      0.54        15\n",
      "           1       0.75      0.84      0.79        82\n",
      "           2       0.86      0.41      0.56        29\n",
      "           3       0.72      0.86      0.78        63\n",
      "           4       0.00      0.00      0.00         3\n",
      "           5       0.25      0.20      0.22         5\n",
      "           6       1.00      0.97      0.99        35\n",
      "           7       0.61      0.66      0.63        29\n",
      "\n",
      "    accuracy                           0.75       261\n",
      "   macro avg       0.60      0.55      0.56       261\n",
      "weighted avg       0.75      0.75      0.74       261\n",
      "\n"
     ]
    }
   ],
   "source": [
    "for model in range(len(models)):\n",
    "    mod=models[model]\n",
    "    mod.fit(x_train,y_train)\n",
    "    pred=mod.predict(x_test)\n",
    "    print(models[model],\"classification_report\\n\",classification_report(y_test,pred))"
   ]
  },
  {
   "cell_type": "markdown",
   "id": "5568b92d",
   "metadata": {},
   "source": [
    "### Checking Cross Validation Score\n",
    "#### Here we check cross validation score to find the best classification model"
   ]
  },
  {
   "cell_type": "code",
   "execution_count": 417,
   "id": "85e779b1",
   "metadata": {},
   "outputs": [],
   "source": [
    "from sklearn.model_selection import cross_val_score"
   ]
  },
  {
   "cell_type": "code",
   "execution_count": 418,
   "id": "1340e2d6",
   "metadata": {},
   "outputs": [
    {
     "name": "stdout",
     "output_type": "stream",
     "text": [
      "Cross Validation Score for DecisionTreeClassifier() 0.70157464620291\n",
      "Cross Validation Score for RandomForestClassifier() 0.7649790711580626\n",
      "Cross Validation Score for SVC() 0.6705069430602617\n",
      "Cross Validation Score for GradientBoostingClassifier() 0.7419573450269085\n"
     ]
    }
   ],
   "source": [
    "for model in range(len(models)):\n",
    "    scr=cross_val_score(models[model],x,y,cv=5)\n",
    "    print(\"Cross Validation Score for\",models[model],scr.mean())"
   ]
  },
  {
   "cell_type": "markdown",
   "id": "a272c937",
   "metadata": {},
   "source": [
    "#### Minimum difference in accuracy and cross validation score is for RandomForestClassifier. So RandomForestClassifier is our best model.\n",
    "\n",
    "### Hyper Tuning the Model"
   ]
  },
  {
   "cell_type": "code",
   "execution_count": 419,
   "id": "61ace682",
   "metadata": {},
   "outputs": [],
   "source": [
    "parameters= {\n",
    "    'n_estimators': [70,100],\n",
    "    'max_depth': [18,20,22],\n",
    "    'max_features':['auto','sqrt','log2'],\n",
    "    'criterion':['gini', 'entropy'],\n",
    "    }"
   ]
  },
  {
   "cell_type": "code",
   "execution_count": 421,
   "id": "1e812329",
   "metadata": {},
   "outputs": [],
   "source": [
    "GCV=GridSearchCV(RandomForestClassifier(),parameters,cv=5)"
   ]
  },
  {
   "cell_type": "code",
   "execution_count": 422,
   "id": "654729c5",
   "metadata": {},
   "outputs": [
    {
     "data": {
      "text/plain": [
       "GridSearchCV(cv=5, estimator=RandomForestClassifier(),\n",
       "             param_grid={'criterion': ['gini', 'entropy'],\n",
       "                         'max_depth': [18, 20, 22],\n",
       "                         'max_features': ['auto', 'sqrt', 'log2'],\n",
       "                         'n_estimators': [70, 100]})"
      ]
     },
     "execution_count": 422,
     "metadata": {},
     "output_type": "execute_result"
    }
   ],
   "source": [
    "GCV.fit(x_train,y_train)"
   ]
  },
  {
   "cell_type": "code",
   "execution_count": 423,
   "id": "623aafd8",
   "metadata": {},
   "outputs": [
    {
     "data": {
      "text/plain": [
       "{'criterion': 'gini',\n",
       " 'max_depth': 22,\n",
       " 'max_features': 'sqrt',\n",
       " 'n_estimators': 70}"
      ]
     },
     "execution_count": 423,
     "metadata": {},
     "output_type": "execute_result"
    }
   ],
   "source": [
    "GCV.best_params_"
   ]
  },
  {
   "cell_type": "code",
   "execution_count": 424,
   "id": "3b6f7554",
   "metadata": {},
   "outputs": [
    {
     "name": "stdout",
     "output_type": "stream",
     "text": [
      "Accuracy of the model using Random Forest classifier is  73.9463601532567\n",
      "F1 Score is  71.2517718008007\n",
      "              precision    recall  f1-score   support\n",
      "\n",
      "           0       0.56      0.60      0.58        15\n",
      "           1       0.74      0.83      0.78        82\n",
      "           2       0.83      0.17      0.29        29\n",
      "           3       0.68      0.86      0.76        63\n",
      "           4       0.00      0.00      0.00         3\n",
      "           5       0.50      0.40      0.44         5\n",
      "           6       0.95      1.00      0.97        35\n",
      "           7       0.74      0.69      0.71        29\n",
      "\n",
      "    accuracy                           0.74       261\n",
      "   macro avg       0.63      0.57      0.57       261\n",
      "weighted avg       0.74      0.74      0.71       261\n",
      "\n",
      "-------------------------------\n",
      "\n",
      " Confusion Matrix\n"
     ]
    },
    {
     "data": {
      "text/plain": [
       "<AxesSubplot:>"
      ]
     },
     "execution_count": 424,
     "metadata": {},
     "output_type": "execute_result"
    },
    {
     "data": {
      "image/png": "[encoded data removed]",
      "text/plain": [
       "<Figure size 432x288 with 2 Axes>"
      ]
     },
     "metadata": {
      "needs_background": "light"
     },
     "output_type": "display_data"
    }
   ],
   "source": [
    "Final_model=RandomForestClassifier(n_estimators=70,criterion='gini',max_features='sqrt',max_depth=22)\n",
    "Final_model.fit(x_train,y_train)\n",
    "pred=Final_model.predict(x_test)\n",
    "acc_final=accuracy_score(y_test,pred)\n",
    "print(\"Accuracy of the model using Random Forest classifier is \",acc_final*100)\n",
    "f1_final=f1_score(y_test,pred,average='weighted')\n",
    "print(\"F1 Score is \",f1_final*100)\n",
    "acc=classification_report(y_test,pred)\n",
    "print(acc)\n",
    "con_mat = confusion_matrix(y_test,pred)\n",
    "print('-------------------------------')\n",
    "print('\\n Confusion Matrix')\n",
    "plt.figure(figsize= (6,4))\n",
    "sn.heatmap(con_mat, annot = True,fmt='d',cmap=\"coolwarm\")"
   ]
  },
  {
   "cell_type": "markdown",
   "id": "b0441653",
   "metadata": {},
   "source": [
    "### Saving the model"
   ]
  },
  {
   "cell_type": "code",
   "execution_count": 425,
   "id": "2cbe6d02",
   "metadata": {},
   "outputs": [],
   "source": [
    "import joblib\n",
    "import sys\n",
    "sys.modules['sklearn.externals.joblib']=joblib\n",
    "from sklearn.externals import joblib"
   ]
  },
  {
   "cell_type": "code",
   "execution_count": 426,
   "id": "9806888d",
   "metadata": {},
   "outputs": [
    {
     "data": {
      "text/plain": [
       "['Final_Model_2.pkl']"
      ]
     },
     "execution_count": 426,
     "metadata": {},
     "output_type": "execute_result"
    }
   ],
   "source": [
    "joblib.dump(Final_model,'Final_Model_2.pkl')"
   ]
  },
  {
   "cell_type": "code",
   "execution_count": null,
   "id": "85e0bc3e",
   "metadata": {},
   "outputs": [],
   "source": []
  }
 ],
 "metadata": {
  "kernelspec": {
   "display_name": "Python 3",
   "language": "python",
   "name": "python3"
  },
  "language_info": {
   "codemirror_mode": {
    "name": "ipython",
    "version": 3
   },
   "file_extension": ".py",
   "mimetype": "text/x-python",
   "name": "python",
   "nbconvert_exporter": "python",
   "pygments_lexer": "ipython3",
   "version": "3.8.8"
  }
 },
 "nbformat": 4,
 "nbformat_minor": 5
}
